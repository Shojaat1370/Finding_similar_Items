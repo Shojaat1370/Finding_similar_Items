{
  "cells": [
    {
      "cell_type": "markdown",
      "metadata": {
        "id": "FQshmAs0gcy_"
      },
      "source": [
        "# **Finding similar items**\n",
        "\n",
        "### Project for the **Algorithms for massive data course**\n",
        "\n",
        "\n",
        "MSc, Data Science for Economics*\n",
        "\n",
        "Shojaat Joodi Bigdilo\n",
        "\n",
        "June 2024"
      ]
    },
    {
      "cell_type": "code",
      "execution_count": 1,
      "metadata": {
        "colab": {
          "base_uri": "https://localhost:8080/"
        },
        "id": "tBv3mYjYhJDJ",
        "outputId": "b3491f1e-48a4-4be6-f425-4edbecc53bbe"
      },
      "outputs": [
        {
          "name": "stdout",
          "output_type": "stream",
          "text": [
            "Mounted at /content/gdrive\n"
          ]
        }
      ],
      "source": [
        "from google.colab import drive\n",
        "drive.mount('/content/gdrive',force_remount=True)"
      ]
    },
    {
      "cell_type": "code",
      "execution_count": null,
      "metadata": {
        "id": "_p7QCZgXgb8g"
      },
      "outputs": [],
      "source": [
        "!pip install kaggle\n",
        "\n",
        "import warnings\n",
        "warnings.filterwarnings(\"ignore\")"
      ]
    },
    {
      "cell_type": "code",
      "execution_count": 2,
      "metadata": {
        "colab": {
          "base_uri": "https://localhost:8080/"
        },
        "id": "qkCUkBEMgb5e",
        "outputId": "ecf96786-ca2b-4bf0-e85a-d93e18398db2"
      },
      "outputs": [
        {
          "name": "stdout",
          "output_type": "stream",
          "text": [
            "Collecting findspark\n",
            "  Downloading findspark-2.0.1-py2.py3-none-any.whl (4.4 kB)\n",
            "Installing collected packages: findspark\n",
            "Successfully installed findspark-2.0.1\n"
          ]
        }
      ],
      "source": [
        "!pip install findspark"
      ]
    },
    {
      "cell_type": "code",
      "execution_count": 3,
      "metadata": {
        "colab": {
          "base_uri": "https://localhost:8080/"
        },
        "id": "XMbUdvWqgb3M",
        "outputId": "621c4f8c-e589-41d8-bb3d-c56adbf6f41f"
      },
      "outputs": [
        {
          "name": "stdout",
          "output_type": "stream",
          "text": [
            "Collecting pyspark\n",
            "  Downloading pyspark-3.5.1.tar.gz (317.0 MB)\n",
            "\u001b[2K     \u001b[90m━━━━━━━━━━━━━━━━━━━━━━━━━━━━━━━━━━━━━━━━\u001b[0m \u001b[32m317.0/317.0 MB\u001b[0m \u001b[31m2.7 MB/s\u001b[0m eta \u001b[36m0:00:00\u001b[0m\n",
            "\u001b[?25h  Preparing metadata (setup.py) ... \u001b[?25l\u001b[?25hdone\n",
            "Requirement already satisfied: py4j==0.10.9.7 in /usr/local/lib/python3.10/dist-packages (from pyspark) (0.10.9.7)\n",
            "Building wheels for collected packages: pyspark\n",
            "  Building wheel for pyspark (setup.py) ... \u001b[?25l\u001b[?25hdone\n",
            "  Created wheel for pyspark: filename=pyspark-3.5.1-py2.py3-none-any.whl size=317488491 sha256=bb1a538dff076776e0e3ef5085b9771e69ee6b5d60cbddb0b15a8ff94dc6f687\n",
            "  Stored in directory: /root/.cache/pip/wheels/80/1d/60/2c256ed38dddce2fdd93be545214a63e02fbd8d74fb0b7f3a6\n",
            "Successfully built pyspark\n",
            "Installing collected packages: pyspark\n",
            "Successfully installed pyspark-3.5.1\n"
          ]
        }
      ],
      "source": [
        "!pip install pyspark"
      ]
    },
    {
      "cell_type": "code",
      "execution_count": null,
      "metadata": {
        "id": "HCl_E-Fbgb0Z"
      },
      "outputs": [],
      "source": [
        "import os\n",
        "os.environ['KAGGLE_USERNAME'] = 'xxxxxxxxx'\n",
        "os.environ['KAGGLE_KEY'] = 'xxxxxxxxx'"
      ]
    },
    {
      "cell_type": "code",
      "execution_count": null,
      "metadata": {
        "id": "E_fD3_YohvxM"
      },
      "outputs": [],
      "source": [
        "!kaggle datasets download -d asaniczka/1-3m-linkedin-jobs-and-skills-2024"
      ]
    },
    {
      "cell_type": "code",
      "execution_count": null,
      "metadata": {
        "id": "EkpvFtXHhvui"
      },
      "outputs": [],
      "source": [
        "extract_to_path  = \"/content/gdrive/My Drive/Massive_Data_Project/Job_Dataset\"\n",
        "\n",
        "import zipfile\n",
        "with zipfile.ZipFile('1-3m-linkedin-jobs-and-skills-2024.zip', 'r') as zip_ref:\n",
        "    zip_ref.extractall(extract_to_path)"
      ]
    },
    {
      "cell_type": "code",
      "execution_count": 85,
      "metadata": {
        "id": "7Uk6S2C1hvZs"
      },
      "outputs": [],
      "source": [
        "from pyspark import SparkConf, SparkContext\n",
        "\n",
        "from pyspark.sql import SparkSession\n",
        "from pyspark.sql.functions import isnan, when, count, col, countDistinct\n",
        "from pyspark.sql.functions import lower, regexp_replace, size\n",
        "from pyspark.sql.functions import udf\n",
        "from pyspark.sql.functions import explode\n",
        "from pyspark.sql.types import StringType, IntegerType, DoubleType\n",
        "from pyspark.sql.types import ArrayType\n",
        "\n",
        "from pyspark.ml.feature import Tokenizer, StopWordsRemover, MinHashLSH\n",
        "from pyspark.ml.linalg import Vectors, VectorUDT\n",
        "\n",
        "import re\n",
        "import time\n",
        "import string\n",
        "import datetime\n",
        "import numpy as np\n",
        "import warnings\n",
        "warnings.filterwarnings(\"ignore\")"
      ]
    },
    {
      "cell_type": "code",
      "execution_count": 5,
      "metadata": {
        "colab": {
          "base_uri": "https://localhost:8080/",
          "height": 274
        },
        "id": "H3kWgxGxjJfH",
        "outputId": "3f42c6d2-9b52-4790-bab9-2ca2e54096ba"
      },
      "outputs": [
        {
          "data": {
            "text/html": [
              "<div style=\"max-width:800px; border: 1px solid var(--colab-border-color);\"><style>\n",
              "      pre.function-repr-contents {\n",
              "        overflow-x: auto;\n",
              "        padding: 8px 12px;\n",
              "        max-height: 500px;\n",
              "      }\n",
              "\n",
              "      pre.function-repr-contents.function-repr-contents-collapsed {\n",
              "        cursor: pointer;\n",
              "        max-height: 100px;\n",
              "      }\n",
              "    </style>\n",
              "    <pre style=\"white-space: initial; background:\n",
              "         var(--colab-secondary-surface-color); padding: 8px 12px;\n",
              "         border-bottom: 1px solid var(--colab-border-color);\"><b>pyspark.context.SparkContext</b><br/>def __init__(master: Optional[str]=None, appName: Optional[str]=None, sparkHome: Optional[str]=None, pyFiles: Optional[List[str]]=None, environment: Optional[Dict[str, Any]]=None, batchSize: int=0, serializer: &#x27;Serializer&#x27;=CPickleSerializer(), conf: Optional[SparkConf]=None, gateway: Optional[JavaGateway]=None, jsc: Optional[JavaObject]=None, profiler_cls: Type[BasicProfiler]=BasicProfiler, udf_profiler_cls: Type[UDFBasicProfiler]=UDFBasicProfiler, memory_profiler_cls: Type[MemoryProfiler]=MemoryProfiler)</pre><pre class=\"function-repr-contents function-repr-contents-collapsed\" style=\"\"><a class=\"filepath\" style=\"display:none\" href=\"#\">/usr/local/lib/python3.10/dist-packages/pyspark/context.py</a>Main entry point for Spark functionality. A SparkContext represents the\n",
              "connection to a Spark cluster, and can be used to create :class:`RDD` and\n",
              "broadcast variables on that cluster.\n",
              "\n",
              "When you create a new SparkContext, at least the master and app name should\n",
              "be set, either through the named parameters here or through `conf`.\n",
              "\n",
              "Parameters\n",
              "----------\n",
              "master : str, optional\n",
              "    Cluster URL to connect to (e.g. mesos://host:port, spark://host:port, local[4]).\n",
              "appName : str, optional\n",
              "    A name for your job, to display on the cluster web UI.\n",
              "sparkHome : str, optional\n",
              "    Location where Spark is installed on cluster nodes.\n",
              "pyFiles : list, optional\n",
              "    Collection of .zip or .py files to send to the cluster\n",
              "    and add to PYTHONPATH.  These can be paths on the local file\n",
              "    system or HDFS, HTTP, HTTPS, or FTP URLs.\n",
              "environment : dict, optional\n",
              "    A dictionary of environment variables to set on\n",
              "    worker nodes.\n",
              "batchSize : int, optional, default 0\n",
              "    The number of Python objects represented as a single\n",
              "    Java object. Set 1 to disable batching, 0 to automatically choose\n",
              "    the batch size based on object sizes, or -1 to use an unlimited\n",
              "    batch size\n",
              "serializer : :class:`Serializer`, optional, default :class:`CPickleSerializer`\n",
              "    The serializer for RDDs.\n",
              "conf : :class:`SparkConf`, optional\n",
              "    An object setting Spark properties.\n",
              "gateway : class:`py4j.java_gateway.JavaGateway`,  optional\n",
              "    Use an existing gateway and JVM, otherwise a new JVM\n",
              "    will be instantiated. This is only used internally.\n",
              "jsc : class:`py4j.java_gateway.JavaObject`, optional\n",
              "    The JavaSparkContext instance. This is only used internally.\n",
              "profiler_cls : type, optional, default :class:`BasicProfiler`\n",
              "    A class of custom Profiler used to do profiling\n",
              "udf_profiler_cls : type, optional, default :class:`UDFBasicProfiler`\n",
              "    A class of custom Profiler used to do udf profiling\n",
              "\n",
              "Notes\n",
              "-----\n",
              "Only one :class:`SparkContext` should be active per JVM. You must `stop()`\n",
              "the active :class:`SparkContext` before creating a new one.\n",
              "\n",
              ":class:`SparkContext` instance is not supported to share across multiple\n",
              "processes out of the box, and PySpark does not guarantee multi-processing execution.\n",
              "Use threads instead for concurrent processing purpose.\n",
              "\n",
              "Examples\n",
              "--------\n",
              "&gt;&gt;&gt; from pyspark.context import SparkContext\n",
              "&gt;&gt;&gt; sc = SparkContext(&#x27;local&#x27;, &#x27;test&#x27;)\n",
              "&gt;&gt;&gt; sc2 = SparkContext(&#x27;local&#x27;, &#x27;test2&#x27;) # doctest: +IGNORE_EXCEPTION_DETAIL\n",
              "Traceback (most recent call last):\n",
              "    ...\n",
              "ValueError: ...</pre>\n",
              "      <script>\n",
              "      if (google.colab.kernel.accessAllowed && google.colab.files && google.colab.files.view) {\n",
              "        for (const element of document.querySelectorAll('.filepath')) {\n",
              "          element.style.display = 'block'\n",
              "          element.onclick = (event) => {\n",
              "            event.preventDefault();\n",
              "            event.stopPropagation();\n",
              "            google.colab.files.view(element.textContent, 92);\n",
              "          };\n",
              "        }\n",
              "      }\n",
              "      for (const element of document.querySelectorAll('.function-repr-contents')) {\n",
              "        element.onclick = (event) => {\n",
              "          event.preventDefault();\n",
              "          event.stopPropagation();\n",
              "          element.classList.toggle('function-repr-contents-collapsed');\n",
              "        };\n",
              "      }\n",
              "      </script>\n",
              "      </div>"
            ],
            "text/plain": [
              "pyspark.context.SparkContext"
            ]
          },
          "execution_count": 5,
          "metadata": {},
          "output_type": "execute_result"
        }
      ],
      "source": [
        "conf = SparkConf().setAppName(\"Similar_Documents\")\n",
        "spark = SparkSession.builder.enableHiveSupport().config(conf = conf).getOrCreate()\n",
        "sc = spark.sparkContext\n",
        "type(sc)"
      ]
    },
    {
      "cell_type": "code",
      "execution_count": 6,
      "metadata": {
        "id": "46Rt4kzBWhet"
      },
      "outputs": [],
      "source": [
        "file_path = \"/content/gdrive/My Drive/Massive_Data_Project/Job_Dataset/job_summary.csv\"\n",
        "\n",
        "df_Dataset = spark.read.csv(file_path, header=True, inferSchema=True, multiLine=True, escape='\"',\n",
        "                           encoding = \"ISO-8859-1\")"
      ]
    },
    {
      "cell_type": "markdown",
      "metadata": {
        "id": "nGNQN0p1xvYp"
      },
      "source": [
        "## choosing chunk of data"
      ]
    },
    {
      "cell_type": "code",
      "execution_count": 7,
      "metadata": {
        "id": "zY17Y2KDWhet"
      },
      "outputs": [],
      "source": [
        "size = 5000\n",
        "Job_df = df_Dataset.limit(size)"
      ]
    },
    {
      "cell_type": "code",
      "execution_count": 8,
      "metadata": {
        "colab": {
          "base_uri": "https://localhost:8080/",
          "height": 187
        },
        "id": "b3Fc066TLhRe",
        "outputId": "cc5d484b-6426-4fa6-c02d-961035b88ecc"
      },
      "outputs": [
        {
          "data": {
            "text/html": [
              "<div style=\"max-width:800px; border: 1px solid var(--colab-border-color);\"><style>\n",
              "      pre.function-repr-contents {\n",
              "        overflow-x: auto;\n",
              "        padding: 8px 12px;\n",
              "        max-height: 500px;\n",
              "      }\n",
              "\n",
              "      pre.function-repr-contents.function-repr-contents-collapsed {\n",
              "        cursor: pointer;\n",
              "        max-height: 100px;\n",
              "      }\n",
              "    </style>\n",
              "    <pre style=\"white-space: initial; background:\n",
              "         var(--colab-secondary-surface-color); padding: 8px 12px;\n",
              "         border-bottom: 1px solid var(--colab-border-color);\"><b>pyspark.sql.dataframe.DataFrame</b><br/>def __init__(jdf: JavaObject, sql_ctx: Union[&#x27;SQLContext&#x27;, &#x27;SparkSession&#x27;])</pre><pre class=\"function-repr-contents function-repr-contents-collapsed\" style=\"\"><a class=\"filepath\" style=\"display:none\" href=\"#\">/usr/local/lib/python3.10/dist-packages/pyspark/sql/dataframe.py</a>A distributed collection of data grouped into named columns.\n",
              "\n",
              ".. versionadded:: 1.3.0\n",
              "\n",
              ".. versionchanged:: 3.4.0\n",
              "    Supports Spark Connect.\n",
              "\n",
              "Examples\n",
              "--------\n",
              "A :class:`DataFrame` is equivalent to a relational table in Spark SQL,\n",
              "and can be created using various functions in :class:`SparkSession`:\n",
              "\n",
              "&gt;&gt;&gt; people = spark.createDataFrame([\n",
              "...     {&quot;deptId&quot;: 1, &quot;age&quot;: 40, &quot;name&quot;: &quot;Hyukjin Kwon&quot;, &quot;gender&quot;: &quot;M&quot;, &quot;salary&quot;: 50},\n",
              "...     {&quot;deptId&quot;: 1, &quot;age&quot;: 50, &quot;name&quot;: &quot;Takuya Ueshin&quot;, &quot;gender&quot;: &quot;M&quot;, &quot;salary&quot;: 100},\n",
              "...     {&quot;deptId&quot;: 2, &quot;age&quot;: 60, &quot;name&quot;: &quot;Xinrong Meng&quot;, &quot;gender&quot;: &quot;F&quot;, &quot;salary&quot;: 150},\n",
              "...     {&quot;deptId&quot;: 3, &quot;age&quot;: 20, &quot;name&quot;: &quot;Haejoon Lee&quot;, &quot;gender&quot;: &quot;M&quot;, &quot;salary&quot;: 200}\n",
              "... ])\n",
              "\n",
              "Once created, it can be manipulated using the various domain-specific-language\n",
              "(DSL) functions defined in: :class:`DataFrame`, :class:`Column`.\n",
              "\n",
              "To select a column from the :class:`DataFrame`, use the apply method:\n",
              "\n",
              "&gt;&gt;&gt; age_col = people.age\n",
              "\n",
              "A more concrete example:\n",
              "\n",
              "&gt;&gt;&gt; # To create DataFrame using SparkSession\n",
              "... department = spark.createDataFrame([\n",
              "...     {&quot;id&quot;: 1, &quot;name&quot;: &quot;PySpark&quot;},\n",
              "...     {&quot;id&quot;: 2, &quot;name&quot;: &quot;ML&quot;},\n",
              "...     {&quot;id&quot;: 3, &quot;name&quot;: &quot;Spark SQL&quot;}\n",
              "... ])\n",
              "\n",
              "&gt;&gt;&gt; people.filter(people.age &gt; 30).join(\n",
              "...     department, people.deptId == department.id).groupBy(\n",
              "...     department.name, &quot;gender&quot;).agg({&quot;salary&quot;: &quot;avg&quot;, &quot;age&quot;: &quot;max&quot;}).show()\n",
              "+-------+------+-----------+--------+\n",
              "|   name|gender|avg(salary)|max(age)|\n",
              "+-------+------+-----------+--------+\n",
              "|     ML|     F|      150.0|      60|\n",
              "|PySpark|     M|       75.0|      50|\n",
              "+-------+------+-----------+--------+\n",
              "\n",
              "Notes\n",
              "-----\n",
              "A DataFrame should only be created as described above. It should not be directly\n",
              "created via using the constructor.</pre>\n",
              "      <script>\n",
              "      if (google.colab.kernel.accessAllowed && google.colab.files && google.colab.files.view) {\n",
              "        for (const element of document.querySelectorAll('.filepath')) {\n",
              "          element.style.display = 'block'\n",
              "          element.onclick = (event) => {\n",
              "            event.preventDefault();\n",
              "            event.stopPropagation();\n",
              "            google.colab.files.view(element.textContent, 80);\n",
              "          };\n",
              "        }\n",
              "      }\n",
              "      for (const element of document.querySelectorAll('.function-repr-contents')) {\n",
              "        element.onclick = (event) => {\n",
              "          event.preventDefault();\n",
              "          event.stopPropagation();\n",
              "          element.classList.toggle('function-repr-contents-collapsed');\n",
              "        };\n",
              "      }\n",
              "      </script>\n",
              "      </div>"
            ],
            "text/plain": [
              "pyspark.sql.dataframe.DataFrame"
            ]
          },
          "execution_count": 8,
          "metadata": {},
          "output_type": "execute_result"
        }
      ],
      "source": [
        "type(Job_df)"
      ]
    },
    {
      "cell_type": "markdown",
      "metadata": {
        "id": "eCYqdniVjwGY"
      },
      "source": [
        "# Pre-processsing"
      ]
    },
    {
      "cell_type": "markdown",
      "metadata": {
        "id": "ieKXULV3j8IO"
      },
      "source": [
        "### Exploratory analysis"
      ]
    },
    {
      "cell_type": "code",
      "execution_count": 9,
      "metadata": {
        "colab": {
          "base_uri": "https://localhost:8080/"
        },
        "id": "vaRQ2LhLj0ku",
        "outputId": "46a80b15-dcca-4a70-932d-9ae48e6c0e0b"
      },
      "outputs": [
        {
          "name": "stdout",
          "output_type": "stream",
          "text": [
            "+--------------------+--------------------+\n",
            "|            job_link|         job_summary|\n",
            "+--------------------+--------------------+\n",
            "|https://www.linke...|Rock N Roll Sushi...|\n",
            "|https://www.linke...|Schedule\\n: PRN i...|\n",
            "|https://www.linke...|Description\\nIntr...|\n",
            "|https://uk.linked...|Commercial accoun...|\n",
            "|https://www.linke...|Address:\\nUSA-CT-...|\n",
            "|https://www.linke...|Description\\nOur\\...|\n",
            "|https://www.linke...|Company Descripti...|\n",
            "|https://uk.linked...|An exciting oppor...|\n",
            "|https://www.linke...|Job Details:\\nJob...|\n",
            "|https://www.linke...|Our\\nRestaurant T...|\n",
            "+--------------------+--------------------+\n",
            "only showing top 10 rows\n",
            "\n"
          ]
        }
      ],
      "source": [
        "Job_df.show(n = 10)"
      ]
    },
    {
      "cell_type": "code",
      "execution_count": 10,
      "metadata": {
        "colab": {
          "base_uri": "https://localhost:8080/"
        },
        "id": "dUkJ2ZU9j0h7",
        "outputId": "ff7b6ff2-e276-4585-8d0a-82e3cecac527"
      },
      "outputs": [
        {
          "name": "stdout",
          "output_type": "stream",
          "text": [
            "+--------------------+\n",
            "|         job_summary|\n",
            "+--------------------+\n",
            "|Rock N Roll Sushi...|\n",
            "|Schedule\\n: PRN i...|\n",
            "|Description\\nIntr...|\n",
            "|Commercial accoun...|\n",
            "|Address:\\nUSA-CT-...|\n",
            "|Description\\nOur\\...|\n",
            "|Company Descripti...|\n",
            "|An exciting oppor...|\n",
            "|Job Details:\\nJob...|\n",
            "|Our\\nRestaurant T...|\n",
            "+--------------------+\n",
            "only showing top 10 rows\n",
            "\n"
          ]
        }
      ],
      "source": [
        "Job_df = Job_df.select(\"job_summary\")\n",
        "Job_df.show(n = 10)"
      ]
    },
    {
      "cell_type": "markdown",
      "metadata": {
        "id": "6ukJ2kyOxvYr"
      },
      "source": [
        "#### Giving Id for each row"
      ]
    },
    {
      "cell_type": "code",
      "execution_count": 11,
      "metadata": {
        "id": "EeH8BXMtj0gE"
      },
      "outputs": [],
      "source": [
        "indexed_rdd = Job_df.rdd.zipWithIndex()\n",
        "Job_df = indexed_rdd.map(lambda x: (x[1], x[0][0])).toDF([\"Id\", \"job_summary\"])"
      ]
    },
    {
      "cell_type": "code",
      "execution_count": 12,
      "metadata": {
        "colab": {
          "base_uri": "https://localhost:8080/"
        },
        "id": "GkVmLuZ7mh5V",
        "outputId": "f91c49cb-f321-4214-bf65-2d158876ac3b"
      },
      "outputs": [
        {
          "name": "stdout",
          "output_type": "stream",
          "text": [
            "+---+--------------------+\n",
            "| Id|         job_summary|\n",
            "+---+--------------------+\n",
            "|  0|Rock N Roll Sushi...|\n",
            "|  1|Schedule\\n: PRN i...|\n",
            "|  2|Description\\nIntr...|\n",
            "|  3|Commercial accoun...|\n",
            "|  4|Address:\\nUSA-CT-...|\n",
            "+---+--------------------+\n",
            "only showing top 5 rows\n",
            "\n"
          ]
        }
      ],
      "source": [
        "Job_df.show(5)"
      ]
    },
    {
      "cell_type": "code",
      "execution_count": 13,
      "metadata": {
        "colab": {
          "base_uri": "https://localhost:8080/"
        },
        "id": "PGL7HMGXj0Fc",
        "outputId": "746f6407-a787-4e63-b2f2-56caf6c43f7e"
      },
      "outputs": [
        {
          "name": "stdout",
          "output_type": "stream",
          "text": [
            "+---+-----------+\n",
            "| Id|job_summary|\n",
            "+---+-----------+\n",
            "|  0|          0|\n",
            "+---+-----------+\n",
            "\n"
          ]
        }
      ],
      "source": [
        "# checking missing values in the columns\n",
        "Job_df.select([count(when(isnan(c), c)).alias(c) for c in Job_df.columns]).show()"
      ]
    },
    {
      "cell_type": "code",
      "execution_count": 14,
      "metadata": {
        "colab": {
          "base_uri": "https://localhost:8080/"
        },
        "id": "5zUn4bFXj0DE",
        "outputId": "9df5e806-2b7d-47e7-9fd7-76ecda2055ee"
      },
      "outputs": [
        {
          "name": "stdout",
          "output_type": "stream",
          "text": [
            "+----+-----------+\n",
            "|  Id|job_summary|\n",
            "+----+-----------+\n",
            "|5000|       4069|\n",
            "+----+-----------+\n",
            "\n"
          ]
        }
      ],
      "source": [
        "#count distinct values in each column\n",
        "Job_df.select([countDistinct(c).alias(c) for c in Job_df.columns]).show()"
      ]
    },
    {
      "cell_type": "markdown",
      "metadata": {
        "id": "42-dyKZTllUH"
      },
      "source": [
        "### Duplicates check"
      ]
    },
    {
      "cell_type": "code",
      "execution_count": 15,
      "metadata": {
        "colab": {
          "base_uri": "https://localhost:8080/"
        },
        "id": "LoQD6ewcjz_8",
        "outputId": "5130d677-e56b-4227-ec01-f537d4341135"
      },
      "outputs": [
        {
          "name": "stdout",
          "output_type": "stream",
          "text": [
            "+--------------------+-----+\n",
            "|         job_summary|count|\n",
            "+--------------------+-----+\n",
            "|Job Title:\\nCerti...|   10|\n",
            "|Salary:\\n$48,604....|    2|\n",
            "|Overview\\nThis jo...|    3|\n",
            "|Dollar General Co...|   19|\n",
            "|Now Hiring Immedi...|    2|\n",
            "|FULL-TIME LICENSE...|    6|\n",
            "|Summary\\nThis pos...|    2|\n",
            "|Commercial Underw...|    2|\n",
            "|USD 497\\nDetails\\...|    2|\n",
            "|This job posting ...|    2|\n",
            "|Patrol Officer - ...|    2|\n",
            "|We are looking fo...|    3|\n",
            "|Full Time Corpora...|    2|\n",
            "|Hospital Site Sec...|    4|\n",
            "|Privacy Notice: V...|    2|\n",
            "|Responsibilities\\...|    2|\n",
            "|Our values start ...|   12|\n",
            "|Come Join The Lea...|    2|\n",
            "|Title: - Identity...|    2|\n",
            "|With significant ...|    3|\n",
            "+--------------------+-----+\n",
            "only showing top 20 rows\n",
            "\n"
          ]
        }
      ],
      "source": [
        "# show duplicates in Body column\n",
        "Job_df.groupBy(\"job_summary\").count().filter(\"count > 1\").show()"
      ]
    },
    {
      "cell_type": "code",
      "execution_count": 16,
      "metadata": {
        "colab": {
          "base_uri": "https://localhost:8080/"
        },
        "id": "WVe3kM9GlpDe",
        "outputId": "03e65504-1e58-47ac-e9d3-01feff9d74c3"
      },
      "outputs": [
        {
          "name": "stdout",
          "output_type": "stream",
          "text": [
            "+----+--------------------+\n",
            "|  Id|         job_summary|\n",
            "+----+--------------------+\n",
            "|1319|Job Title:\\nCerti...|\n",
            "|1586|Job Title:\\nCerti...|\n",
            "|1613|Job Title:\\nCerti...|\n",
            "|1713|Job Title:\\nCerti...|\n",
            "|1729|Job Title:\\nCerti...|\n",
            "|1763|Job Title:\\nCerti...|\n",
            "|1765|Job Title:\\nCerti...|\n",
            "|1792|Job Title:\\nCerti...|\n",
            "|1847|Job Title:\\nCerti...|\n",
            "|2285|Job Title:\\nCerti...|\n",
            "+----+--------------------+\n",
            "\n"
          ]
        }
      ],
      "source": [
        "# Filter the rows where 'job_summary' starts with 'Job Title:\\nCerti'\n",
        "filtered_rows = Job_df.filter(col(\"job_summary\").startswith(\"Job Title:\\nCertified Nursing Assistant (CNA)\\nCompany\"))\n",
        "filtered_rows.show()"
      ]
    },
    {
      "cell_type": "code",
      "execution_count": 17,
      "metadata": {
        "colab": {
          "base_uri": "https://localhost:8080/",
          "height": 192
        },
        "id": "viD05Oxplows",
        "outputId": "818db25b-29d3-4d8a-8e99-9c9de65ce275"
      },
      "outputs": [
        {
          "data": {
            "application/vnd.google.colaboratory.intrinsic+json": {
              "type": "string"
            },
            "text/plain": [
              "\"Job Title:\\nCertified Nursing Assistant (CNA)\\nCompany:\\nTilloHealth, a division of Tillotek Staffing Solutions\\nPay Range:\\nCompetitive salary based on experience\\nShifts/Hours:\\n1st, 2nd, and 3rd Shifts may be available depending on time of application\\nEmployment Type:\\nFull-Time/Part-Time/Per Diem availability\\nOpportunity Type:\\nPerm, Contract, and Travel may be available\\nJob Summary\\nAs a Certified Nursing Assistant (CNA) at Tillotek Staffing Solutions, you will play a crucial role in providing essential care and support to patients in various healthcare settings. CNAs are responsible for assisting patients with activities of daily living, such as bathing, dressing, and feeding, and ensuring their comfort and well-being. Join our team of dedicated healthcare professionals and make a meaningful difference in the lives of patients.\\nResponsibilities\\nAssist patients with daily tasks, including bathing, grooming, and dressing.\\nProvide basic medical care, such as checking vital signs and recording patient information.\\nHelp patients with mobility and transfers.\\nCollaborate with the nursing and medical staff to ensure high-quality patient care.\\nMaintain a clean and safe patient environment.\\nReport any changes in patient condition to the nursing team.\\nProvide emotional support and companionship to patients.\\nFollow all healthcare regulations and protocols.\\nQualifications\\nCertified Nursing Assistant (CNA) certification.\\nHigh school diploma or equivalent.\\nState-specific requirements for CNAs (if applicable).\\nExcellent communication and interpersonal skills.\\nCompassionate and patient-focused attitude.\\nAbility to work well in a team.\\nAttention to detail and strong observational skills.\\nBenefits\\nCompetitive pay based on experience.\\nFlexible work schedules to accommodate your lifestyle.\\nOpportunities for professional growth and advancement.\\nOngoing training and education.\\nSupportive and collaborative work environment.\\nMeaningful work that makes a difference in patients' lives.\\nAbout TilloHealth\\nTilloHealth, a division of Tillotek Staffing Solutions, specializes in connecting healthcare professionals with rewarding job opportunities. Our mission is to simplify the hiring process for both employers and job seekers, ensuring the right match every time. We offer a range of healthcare staffing solutions, including permanent, contract, and travel placements. Join TilloHealth and take your nursing career to the next level.\\nFor inquiries and applications, reach out to recruiting@tillotek.com.\\nJoin TilloHealth and embark on a journey to discover exciting job opportunities that align with your aspirations and talents.\\nShow more\\nShow less\""
            ]
          },
          "execution_count": 17,
          "metadata": {},
          "output_type": "execute_result"
        }
      ],
      "source": [
        "# ID number 1319\n",
        "row_with_id_1319 = Job_df.filter(Job_df['ID'] == 1319).collect()\n",
        "\n",
        "txt = row_with_id_1319[0][1]\n",
        "txt"
      ]
    },
    {
      "cell_type": "code",
      "execution_count": 18,
      "metadata": {
        "colab": {
          "base_uri": "https://localhost:8080/",
          "height": 192
        },
        "id": "3J8yiQGgmOng",
        "outputId": "a63cb13e-f0a4-417d-da22-63426668bc64"
      },
      "outputs": [
        {
          "data": {
            "application/vnd.google.colaboratory.intrinsic+json": {
              "type": "string"
            },
            "text/plain": [
              "\"Job Title:\\nCertified Nursing Assistant (CNA)\\nCompany:\\nTilloHealth, a division of Tillotek Staffing Solutions\\nPay Range:\\nCompetitive salary based on experience\\nShifts/Hours:\\n1st, 2nd, and 3rd Shifts may be available depending on time of application\\nEmployment Type:\\nFull-Time/Part-Time/Per Diem availability\\nOpportunity Type:\\nPerm, Contract, and Travel may be available\\nJob Summary\\nAs a Certified Nursing Assistant (CNA) at Tillotek Staffing Solutions, you will play a crucial role in providing essential care and support to patients in various healthcare settings. CNAs are responsible for assisting patients with activities of daily living, such as bathing, dressing, and feeding, and ensuring their comfort and well-being. Join our team of dedicated healthcare professionals and make a meaningful difference in the lives of patients.\\nResponsibilities\\nAssist patients with daily tasks, including bathing, grooming, and dressing.\\nProvide basic medical care, such as checking vital signs and recording patient information.\\nHelp patients with mobility and transfers.\\nCollaborate with the nursing and medical staff to ensure high-quality patient care.\\nMaintain a clean and safe patient environment.\\nReport any changes in patient condition to the nursing team.\\nProvide emotional support and companionship to patients.\\nFollow all healthcare regulations and protocols.\\nQualifications\\nCertified Nursing Assistant (CNA) certification.\\nHigh school diploma or equivalent.\\nState-specific requirements for CNAs (if applicable).\\nExcellent communication and interpersonal skills.\\nCompassionate and patient-focused attitude.\\nAbility to work well in a team.\\nAttention to detail and strong observational skills.\\nBenefits\\nCompetitive pay based on experience.\\nFlexible work schedules to accommodate your lifestyle.\\nOpportunities for professional growth and advancement.\\nOngoing training and education.\\nSupportive and collaborative work environment.\\nMeaningful work that makes a difference in patients' lives.\\nAbout TilloHealth\\nTilloHealth, a division of Tillotek Staffing Solutions, specializes in connecting healthcare professionals with rewarding job opportunities. Our mission is to simplify the hiring process for both employers and job seekers, ensuring the right match every time. We offer a range of healthcare staffing solutions, including permanent, contract, and travel placements. Join TilloHealth and take your nursing career to the next level.\\nFor inquiries and applications, reach out to recruiting@tillotek.com.\\nJoin TilloHealth and embark on a journey to discover exciting job opportunities that align with your aspirations and talents.\\nShow more\\nShow less\""
            ]
          },
          "execution_count": 18,
          "metadata": {},
          "output_type": "execute_result"
        }
      ],
      "source": [
        "# ID number 1586\n",
        "row_with_id_1586 = Job_df.filter(Job_df['ID'] == 1586).collect()\n",
        "\n",
        "txt2 = row_with_id_1586[0][1]\n",
        "txt2"
      ]
    },
    {
      "cell_type": "code",
      "execution_count": 19,
      "metadata": {
        "colab": {
          "base_uri": "https://localhost:8080/"
        },
        "id": "5nwRzE6SmSgT",
        "outputId": "4e3c9738-5e0c-4e29-d9e0-6849a8854fa1"
      },
      "outputs": [
        {
          "name": "stdout",
          "output_type": "stream",
          "text": [
            "Equal\n"
          ]
        }
      ],
      "source": [
        "# Checking Equality of texts\n",
        "if txt == txt2:\n",
        "    print('Equal')\n",
        "else:\n",
        "    print('Not Equal')"
      ]
    },
    {
      "cell_type": "markdown",
      "metadata": {
        "id": "Fm1VjeEJmmhM"
      },
      "source": [
        "### Delete Duplicates Document"
      ]
    },
    {
      "cell_type": "code",
      "execution_count": 20,
      "metadata": {
        "id": "Di1Qu4rlmk2D"
      },
      "outputs": [],
      "source": [
        "Job_df = Job_df.dropDuplicates(['job_summary'])"
      ]
    },
    {
      "cell_type": "code",
      "execution_count": 21,
      "metadata": {
        "colab": {
          "base_uri": "https://localhost:8080/"
        },
        "id": "BvYxt-5tm_s7",
        "outputId": "5f4ad348-5178-424f-b785-fda21824af68"
      },
      "outputs": [
        {
          "name": "stdout",
          "output_type": "stream",
          "text": [
            "+----+-----------+\n",
            "|  Id|job_summary|\n",
            "+----+-----------+\n",
            "|4069|       4069|\n",
            "+----+-----------+\n",
            "\n"
          ]
        }
      ],
      "source": [
        "Job_df.select([countDistinct(c).alias(c) for c in Job_df.columns]).show()"
      ]
    },
    {
      "cell_type": "code",
      "execution_count": 22,
      "metadata": {
        "colab": {
          "base_uri": "https://localhost:8080/"
        },
        "id": "Yyi-AEqGm_ql",
        "outputId": "de33c14c-fcb2-4737-a594-3010968a2676"
      },
      "outputs": [
        {
          "name": "stdout",
          "output_type": "stream",
          "text": [
            "+-----------+-----+\n",
            "|job_summary|count|\n",
            "+-----------+-----+\n",
            "+-----------+-----+\n",
            "\n"
          ]
        }
      ],
      "source": [
        "# checking again duplicates\n",
        "Job_df.groupBy(\"job_summary\").count().filter(\"count > 1\").show()"
      ]
    },
    {
      "cell_type": "code",
      "execution_count": 23,
      "metadata": {
        "colab": {
          "base_uri": "https://localhost:8080/"
        },
        "id": "oyUy4TN8m_ny",
        "outputId": "123657dc-1e52-4da2-d6c7-892ba85bfaba"
      },
      "outputs": [
        {
          "data": {
            "text/plain": [
              "[]"
            ]
          },
          "execution_count": 23,
          "metadata": {},
          "output_type": "execute_result"
        }
      ],
      "source": [
        "row_with_id_1586 = Job_df.filter(Job_df['ID'] == 1586).collect()\n",
        "row_with_id_1586"
      ]
    },
    {
      "cell_type": "markdown",
      "metadata": {
        "id": "VI6_yAS0npTK"
      },
      "source": [
        "# Text cleaning and pre-processing"
      ]
    },
    {
      "cell_type": "code",
      "execution_count": 24,
      "metadata": {
        "id": "1PbihzgXm_lg"
      },
      "outputs": [],
      "source": [
        "Job_df = Job_df.select('Id',\"job_summary\")"
      ]
    },
    {
      "cell_type": "markdown",
      "metadata": {
        "id": "xaDAbp-bn5-r"
      },
      "source": [
        "### LoweCasing Text"
      ]
    },
    {
      "cell_type": "code",
      "execution_count": 25,
      "metadata": {
        "id": "tErqjlDdm_is"
      },
      "outputs": [],
      "source": [
        "Job_df = Job_df.withColumn('job_summary', lower(Job_df['job_summary']))"
      ]
    },
    {
      "cell_type": "markdown",
      "metadata": {
        "id": "FZRXRdjQohHL"
      },
      "source": [
        "### Remove HTML Tags"
      ]
    },
    {
      "cell_type": "code",
      "execution_count": 26,
      "metadata": {
        "id": "eJdudCgNm_f6"
      },
      "outputs": [],
      "source": [
        "def remove_html_tags(text):\n",
        "    pattern = re.compile('<.*?>')\n",
        "    return pattern.sub(r'', text) if text else text\n",
        "\n",
        "remove_html_tags_udf = udf(remove_html_tags, StringType())\n",
        "Job_df = Job_df.withColumn('job_summary', remove_html_tags_udf(Job_df['job_summary']))"
      ]
    },
    {
      "cell_type": "markdown",
      "metadata": {
        "id": "h3FOznpvpVuM"
      },
      "source": [
        "###  Remove URLs"
      ]
    },
    {
      "cell_type": "code",
      "execution_count": 27,
      "metadata": {
        "id": "2qYOtisopNRY"
      },
      "outputs": [],
      "source": [
        "def remove_url(text):\n",
        "    pattern = re.compile(r'https?://\\S+|www\\.\\S+')\n",
        "    return pattern.sub(r'', text)\n",
        "\n",
        "remove_url_udf = udf(remove_url, StringType())\n",
        "Job_df = Job_df.withColumn('job_summary', remove_url_udf(Job_df['job_summary']))"
      ]
    },
    {
      "cell_type": "markdown",
      "metadata": {
        "id": "Mz2uESZgph30"
      },
      "source": [
        "### Remove Punctuations"
      ]
    },
    {
      "cell_type": "code",
      "execution_count": 28,
      "metadata": {
        "id": "wUN3D1dMpNMI"
      },
      "outputs": [],
      "source": [
        "import string\n",
        "def remove_punctuation(text):\n",
        "    return text.translate(str.maketrans('', '', string.punctuation))\n",
        "\n",
        "remove_punctuation_udf = udf(remove_punctuation, StringType())\n",
        "Job_df = Job_df.withColumn('job_summary', remove_punctuation_udf(Job_df['job_summary']))"
      ]
    },
    {
      "cell_type": "markdown",
      "metadata": {
        "id": "vjPqJsmxGjK2"
      },
      "source": [
        "### Remove numbers\n",
        "\n",
        "The following document has aroud 42 different number inside it, so we need to delet them.\n",
        "3x12 , 180000060000, 12003, 0, 4, 02142024, 05152024, 13, 556166975, 56166975 , 12 , 7 , 7, 100 , 133, 3467, 68100, 10 , 25, 50 , 100,\n",
        "100 , 20 , 3, 2, , 1, 0, 100, 15, 15, 15, 91, 401,36, 50, 2023, 2022, 2021 ,2020, 2019."
      ]
    },
    {
      "cell_type": "code",
      "execution_count": 29,
      "metadata": {
        "colab": {
          "base_uri": "https://localhost:8080/"
        },
        "id": "XtLe-jovpNJl",
        "outputId": "52eaa595-8657-4344-ea67-b6f4004f9b3f"
      },
      "outputs": [
        {
          "data": {
            "text/plain": [
              "[Row(Id=160, job_summary='profession\\nregistered nurse rn\\nlocation\\nmeridian mississippi\\nspecialty\\nmed surg tele\\nunit\\ntelemetry med  surg observation critical care ccu\\ngross pay\\ntbd\\nschedule\\n3x12 nights 180000060000 12003\\nguaranteed hours\\n0\\nopenings\\n4\\nstart date\\n02142024\\nend date\\n05152024\\nassignment length\\n13\\nexperience required\\n1 year\\njob id\\nmedefis556166975\\nother info\\nid 56166975 shift 12 hour nights7p7aevery other weekend description total weight  100 job summary provides direct and indirect patient care in the assigned setting communicates with physiciansnurse managercoworkers as appropriate about changes in patients clinical condition including results of diagnostic studies and symptomatology is able to respond quickly and accurately to changes in condition or response to treatment additionally is able to perform general nursing duties utilizing the nursing process will float to other areas of the hospital as assigned duties and responsibilities demonstrates competency in the following areas professional requirements knowledge of medications and their correct administration based on age of the patient and their clinical condition performs patient care responsibilities considering needs specific to the plan of care ability to perform and document a complete admission assessment to include patients health history problems identified patient teaching and discharge needsexpectations ability to initiate andor revise an individualized nursing care plan that is based on assessment of identified needsproblems involving the patient andor family formulates a teaching plan based upon identified learning needs and evaluates effectiveness of learning family is included in teaching as appropriate demonstrates ability to perform treatments and provide services provides patients with a complete explanation of procedures or treatments always provides patient safety by keeping call light within reach maintaining bed in a low position with side rails in place and locked at all times and seeing that patients are secured appropriately when transporting by wheelchair or stretcher communicates appropriately and clearly to nurse manager coworkers and physicians consults other departments as appropriate for an interdisciplinary approach to the patients needs provides care appropriate to condition and age of the patient participates in orientation of new personnel demonstrates an ability to assist physicians with procedures and performs services requiring technical and manual skills manages and operates equipment safely and correctly delegates coordinates and supervises patient care as necessary documentation meets current standards and policies identifies and addresses psychosocial needs of patients and family communicates with social services regarding both in hospital and post discharge needs completes documentation as specified by organizational policy and procedures recognizes abuseneglect potential demonstrates a cost effective practice by efficient and nonwasteful use of supplies and linen always following established procedures for charge items participates in sharing of knowledge and expertise through inservice staff meetings assisting in orientation of new personnel utilizes infection control principles recognizes adverse drug reactionsinteractions with appropriate actions taken takes appropriate measure to prevent skin breakdown provides assistance with basic selfcareadls as appropriate provides feedback about health status and potential life style changes attends mandatory staff meetings reads and returns all staff meeting minutes promotes professional growth of peers and subordinates by sharing knowledge andor directing them to sources of information appropriate to a given situation accepts constructive criticism regarding nursing judgments or actions demonstrates an ability to be flexible organized and function under stressful situations interacts professionally with patientfamily and treats them with respect and dignity ensures patient confidentiality and privacy utilizes critical thinking skills recognizes and reacts appropriately in the delivery of patient care provides assistance to other nursing care team members to assure efficient effective and timely quality patient centered care understands and assumes responsibility for charge position when assigned to include patient assignment according to patient acuity and staff mix displays a positive attitude toward the hospital and hisher profession displays appropriate time management skills in the planning and administering of patient care active in pmly participates in the departments performance improvement pi activities assumes lifelong learning related to profession educationregulatory requirements current mississippi registered nurse licensure cpr certified acls certification within 6 months of hire or rn licensure one year medsurg experience preferred language skills ability to read and communicate effectively in english skills moderate to advanced computer and data entry skills specific age groups served all age groups exposure classifications classification i jobs in which required tasks routinely involve a potential for mucous membranes or skin contact with blood body fluids tissues or potential spills or splashes use of appropriate measures is required for every healthcare provider in these jobs professional expectations meets dress code standards appearance is neat and clean completes annual educational requirements maintains regulatory requirements wears identification badge while on duty attends annual review and department inservices as scheduled complies with all organizational policies regarding ethical business practices communicates the mission ethics and goals of the facility as well as the focus statement of the department demonstrates an ability to be flexible organized and functions well under stressful situations answers telephone and greets all patients and family members in a polite and tactful manner this job description is not intended to be allinclusive employee may perform other related duties as negotiated to meet the ongoing needs to the organization physical demands descriptions for physical demands 133  occasional 3467  frequent 68100  continuous physical demands onthejob time is spent in the following physical activities this job requires that weight is lifted or force is exerted stand  occasional walk  frequent sit  occasional talk or hear  continuous use hands to finger handle or feel  occasional pushpull  occasional reach with hands and arms  occasional up to 10 pounds  occasional up to 25 pounds  occasional up to 50 pounds  occasional up to 100 pounds  occasional more than 100 pounds  frequent close vision clear vision at 20 inches or less distance vision clear vision at 20 feet or more color vision ability to identify and distinguish colors peripheral vision ability to observe an area that can be seen up and down or to the left and right while eyes are fixed on a given point depth perception threedimensional vision ability to judge distances and spatial relationships ability to adjust focus ability to adjust eye to bring an object into sharp focus ability to hear alarms on equipment ability to hear client call ability to hear instructions from physiciandepartment staff ability to hear overhead paging system and fire alamrs work environment this job requires exposure to the following environmental conditions work near moving mechanical parts  occasional outdoor weather conditions  occasional risk of electrical shock  occasional risk of radiation  occasional the typical noise level for the work environment  moderate noise repetitive motion actions repetitive use of foot control  occasional repetitive use of hands  occasional grasping simplelight  occasional grasping firmheavy  occasional fine dexterity  occasional performance ratings key abbrev rating exceeds expectations ee 3 meets expectations me 2 needs improvment ni 1 unsatisfactory u 0 employeebased competenciesbehaviorspart a part a of this form has been designed to document the level of performance as measured against the employeebased competenciesbehaviors after each of the competenciesbehaviors senior management has indicated the weighting giving the highest weighting to those competencies needing the most focus the position questionnairesposition descriptions should be used as a reference guide the total weighting of all competenciesbehaviors is 100 the competenciesbehaviors support the anderson regional health systems arhs strategic planning goals which focus on safety quality satisfaction people and finance 15 people and satisfaction demonstrates effectiveness and courtesy when interfacing with patients family members contributors healthcare professionals regulatory agencies vendors andor other outside sources demonstrates effectiveness and courtesy when interfacing with coworkers at all levels organizationwide demonstrates team building leadership exhibits organizational values 15 quality participates in the intra and interdepartmental continuous quality improvement process involving enhanced work processes productivity and employee relations participates in improved departmental efficiency and productivity participates in improving andor supporting departmental policies and procedures 15 finance promotes arhs financial objectives by effectively establishing position priorities in accordance with department procedures accurately projecting the time frames needed to perform positionrelated duties conducts position duties in an organized and orderly manner avoiding costly mistakes avoids wasting time and departmental resources 25 safety  knowledge  position skills supports and adheres to safety rules and supports and adheres to applicable tjc requirements keeps apprised of current and proposed safety and risk management procedures displays technical and practical knowledge of essential job functions and positionrelated duties as described in the position questionnairesposition descriptions and other sources keeps current on trends and issues in the field demonstrates effective oral written and electronic communication skills effectively completes a high volumequantity work load performs job duties in a high quality manner 15 decision making  problem solving  critical thinking  conflict resolution exhibits a sense of ownership for decisionmaking activities displays willingness effectiveness accuracy and timeliness in making standard positionrelated decisions demonstrates critical thinking skills in collaboration with others as appropriate demonstrates effective conflict resolution skills 15 flexibility  dependability  professional responsibilities demonstrates dependability by maintaining a good attendance record by being punctual and must keep licensure and certifications current as per arhs policies demonstrates flexibility and reliability by assisting others when needed maintains adherence to arhs compliance and ethics programs participates as approved in appropriate training programs and volunteers andor participates on special projects career development part b this part focuses on the following development issues employee strengths career interests and aspirations and employee development needs this part should be completed by the incumbents immediate supervisor with input from the position incumbent employee strengths please provide information regarding the employees positionrolerelated strengths career interests and aspirations please provide information explaining the employees career goals and objectives employee development please provide information regarding how the employee can improve hisher positionrolerelated duties and enhance hisher professional development ie seminars inhouse training outside course work etc performance goals final overall performance rating overall rating additional informationanderson regional has implemented a 50 mile radius rule please do not submit candidates that live within 50 miles of the facility orientation onsite orientation will be paid additional modules on your own time prior to onsite are nonpaid anderson holds one orientation per month anderson does not guarantee hours thank you position urgencynormal billing string  medefis guaranteed hours contract weeks91\\ntlc nursing is an equal employment opportunity eeo employer and welcomes all to apply\\nat  the\\nwhy join tlc nursing\\ncompetitive compensation earn the best weekly rates on your assignment we will beat any offer for the same open position\\ndiverse work settings experience environments like acute care longterm care schools clinics summer camps prisons etc\\nguaranteed hours secure a consistent 36 or 40hour workweek with opportunities for overtime\\nbenefits\\nyour wellbeing matters health vision and dental insurance\\n401k with matching contribution\\npaid time off pto\\nimmediate availability of aflac for your purchase\\nstay comfortable opt for our fully furnished housing including utilities or choose a housing stipend\\nunlimited referral bonus\\naccess to unlimited continuing education units online\\nwe are proudly a nurseowned and operated travel nurse and travel healthcare staffing agency\\nvoted the best staffing agency in 2023 2022 2021 2020 2019 2017 by vermont business magazine\\ntlc nursing provides equal employment opportunities to all employees and applicants for employment and prohibits discrimination and harassment of any type without regard to race color religion age sex national origin disability status genetics protected veteran status sexual orientation gender identity or expression or any other characteristic protected by federal state or local laws this policy applies to all terms and conditions of employment including recruiting hiring placement promotion termination layoff recall transfer leaves of absence compensation and training\\nmost facilities tlc nursing works with require candidates to be fully vaccinated for covid and flu some facilities may accept religious and or medical exemptions from vaccination proper documentation is required and needs to be submitted to our client for approval the client facility makes all exemption decisions and tlc nursing has no control over this matter\\npowered by jazzhr\\nw4wlufrlxo\\nshow more\\nshow less')]"
            ]
          },
          "execution_count": 29,
          "metadata": {},
          "output_type": "execute_result"
        }
      ],
      "source": [
        "row_with_id_160 = Job_df.filter(Job_df['ID'] == 160).collect()\n",
        "row_with_id_160"
      ]
    },
    {
      "cell_type": "code",
      "execution_count": 30,
      "metadata": {
        "id": "Z0KRZ9xIw2r0"
      },
      "outputs": [],
      "source": [
        "def remove_numbers(text):\n",
        "    pattern = re.compile(r'\\d+')\n",
        "    return pattern.sub(r'', text)\n",
        "\n",
        "remove_numbers_udf = udf(remove_numbers, StringType())\n",
        "Job_df = Job_df.withColumn('job_summary', remove_numbers_udf(Job_df['job_summary']))"
      ]
    },
    {
      "cell_type": "code",
      "execution_count": 31,
      "metadata": {
        "colab": {
          "base_uri": "https://localhost:8080/"
        },
        "id": "60FiTgIHpNAT",
        "outputId": "cebca8cf-c677-42f3-8d02-8523f955948a"
      },
      "outputs": [
        {
          "data": {
            "text/plain": [
              "[Row(Id=160, job_summary='profession\\nregistered nurse rn\\nlocation\\nmeridian mississippi\\nspecialty\\nmed surg tele\\nunit\\ntelemetry med  surg observation critical care ccu\\ngross pay\\ntbd\\nschedule\\nx nights  \\nguaranteed hours\\n\\nopenings\\n\\nstart date\\n\\nend date\\n\\nassignment length\\n\\nexperience required\\n year\\njob id\\nmedefis\\nother info\\nid  shift  hour nightspaevery other weekend description total weight   job summary provides direct and indirect patient care in the assigned setting communicates with physiciansnurse managercoworkers as appropriate about changes in patients clinical condition including results of diagnostic studies and symptomatology is able to respond quickly and accurately to changes in condition or response to treatment additionally is able to perform general nursing duties utilizing the nursing process will float to other areas of the hospital as assigned duties and responsibilities demonstrates competency in the following areas professional requirements knowledge of medications and their correct administration based on age of the patient and their clinical condition performs patient care responsibilities considering needs specific to the plan of care ability to perform and document a complete admission assessment to include patients health history problems identified patient teaching and discharge needsexpectations ability to initiate andor revise an individualized nursing care plan that is based on assessment of identified needsproblems involving the patient andor family formulates a teaching plan based upon identified learning needs and evaluates effectiveness of learning family is included in teaching as appropriate demonstrates ability to perform treatments and provide services provides patients with a complete explanation of procedures or treatments always provides patient safety by keeping call light within reach maintaining bed in a low position with side rails in place and locked at all times and seeing that patients are secured appropriately when transporting by wheelchair or stretcher communicates appropriately and clearly to nurse manager coworkers and physicians consults other departments as appropriate for an interdisciplinary approach to the patients needs provides care appropriate to condition and age of the patient participates in orientation of new personnel demonstrates an ability to assist physicians with procedures and performs services requiring technical and manual skills manages and operates equipment safely and correctly delegates coordinates and supervises patient care as necessary documentation meets current standards and policies identifies and addresses psychosocial needs of patients and family communicates with social services regarding both in hospital and post discharge needs completes documentation as specified by organizational policy and procedures recognizes abuseneglect potential demonstrates a cost effective practice by efficient and nonwasteful use of supplies and linen always following established procedures for charge items participates in sharing of knowledge and expertise through inservice staff meetings assisting in orientation of new personnel utilizes infection control principles recognizes adverse drug reactionsinteractions with appropriate actions taken takes appropriate measure to prevent skin breakdown provides assistance with basic selfcareadls as appropriate provides feedback about health status and potential life style changes attends mandatory staff meetings reads and returns all staff meeting minutes promotes professional growth of peers and subordinates by sharing knowledge andor directing them to sources of information appropriate to a given situation accepts constructive criticism regarding nursing judgments or actions demonstrates an ability to be flexible organized and function under stressful situations interacts professionally with patientfamily and treats them with respect and dignity ensures patient confidentiality and privacy utilizes critical thinking skills recognizes and reacts appropriately in the delivery of patient care provides assistance to other nursing care team members to assure efficient effective and timely quality patient centered care understands and assumes responsibility for charge position when assigned to include patient assignment according to patient acuity and staff mix displays a positive attitude toward the hospital and hisher profession displays appropriate time management skills in the planning and administering of patient care active in pmly participates in the departments performance improvement pi activities assumes lifelong learning related to profession educationregulatory requirements current mississippi registered nurse licensure cpr certified acls certification within  months of hire or rn licensure one year medsurg experience preferred language skills ability to read and communicate effectively in english skills moderate to advanced computer and data entry skills specific age groups served all age groups exposure classifications classification i jobs in which required tasks routinely involve a potential for mucous membranes or skin contact with blood body fluids tissues or potential spills or splashes use of appropriate measures is required for every healthcare provider in these jobs professional expectations meets dress code standards appearance is neat and clean completes annual educational requirements maintains regulatory requirements wears identification badge while on duty attends annual review and department inservices as scheduled complies with all organizational policies regarding ethical business practices communicates the mission ethics and goals of the facility as well as the focus statement of the department demonstrates an ability to be flexible organized and functions well under stressful situations answers telephone and greets all patients and family members in a polite and tactful manner this job description is not intended to be allinclusive employee may perform other related duties as negotiated to meet the ongoing needs to the organization physical demands descriptions for physical demands   occasional   frequent   continuous physical demands onthejob time is spent in the following physical activities this job requires that weight is lifted or force is exerted stand  occasional walk  frequent sit  occasional talk or hear  continuous use hands to finger handle or feel  occasional pushpull  occasional reach with hands and arms  occasional up to  pounds  occasional up to  pounds  occasional up to  pounds  occasional up to  pounds  occasional more than  pounds  frequent close vision clear vision at  inches or less distance vision clear vision at  feet or more color vision ability to identify and distinguish colors peripheral vision ability to observe an area that can be seen up and down or to the left and right while eyes are fixed on a given point depth perception threedimensional vision ability to judge distances and spatial relationships ability to adjust focus ability to adjust eye to bring an object into sharp focus ability to hear alarms on equipment ability to hear client call ability to hear instructions from physiciandepartment staff ability to hear overhead paging system and fire alamrs work environment this job requires exposure to the following environmental conditions work near moving mechanical parts  occasional outdoor weather conditions  occasional risk of electrical shock  occasional risk of radiation  occasional the typical noise level for the work environment  moderate noise repetitive motion actions repetitive use of foot control  occasional repetitive use of hands  occasional grasping simplelight  occasional grasping firmheavy  occasional fine dexterity  occasional performance ratings key abbrev rating exceeds expectations ee  meets expectations me  needs improvment ni  unsatisfactory u  employeebased competenciesbehaviorspart a part a of this form has been designed to document the level of performance as measured against the employeebased competenciesbehaviors after each of the competenciesbehaviors senior management has indicated the weighting giving the highest weighting to those competencies needing the most focus the position questionnairesposition descriptions should be used as a reference guide the total weighting of all competenciesbehaviors is  the competenciesbehaviors support the anderson regional health systems arhs strategic planning goals which focus on safety quality satisfaction people and finance  people and satisfaction demonstrates effectiveness and courtesy when interfacing with patients family members contributors healthcare professionals regulatory agencies vendors andor other outside sources demonstrates effectiveness and courtesy when interfacing with coworkers at all levels organizationwide demonstrates team building leadership exhibits organizational values  quality participates in the intra and interdepartmental continuous quality improvement process involving enhanced work processes productivity and employee relations participates in improved departmental efficiency and productivity participates in improving andor supporting departmental policies and procedures  finance promotes arhs financial objectives by effectively establishing position priorities in accordance with department procedures accurately projecting the time frames needed to perform positionrelated duties conducts position duties in an organized and orderly manner avoiding costly mistakes avoids wasting time and departmental resources  safety  knowledge  position skills supports and adheres to safety rules and supports and adheres to applicable tjc requirements keeps apprised of current and proposed safety and risk management procedures displays technical and practical knowledge of essential job functions and positionrelated duties as described in the position questionnairesposition descriptions and other sources keeps current on trends and issues in the field demonstrates effective oral written and electronic communication skills effectively completes a high volumequantity work load performs job duties in a high quality manner  decision making  problem solving  critical thinking  conflict resolution exhibits a sense of ownership for decisionmaking activities displays willingness effectiveness accuracy and timeliness in making standard positionrelated decisions demonstrates critical thinking skills in collaboration with others as appropriate demonstrates effective conflict resolution skills  flexibility  dependability  professional responsibilities demonstrates dependability by maintaining a good attendance record by being punctual and must keep licensure and certifications current as per arhs policies demonstrates flexibility and reliability by assisting others when needed maintains adherence to arhs compliance and ethics programs participates as approved in appropriate training programs and volunteers andor participates on special projects career development part b this part focuses on the following development issues employee strengths career interests and aspirations and employee development needs this part should be completed by the incumbents immediate supervisor with input from the position incumbent employee strengths please provide information regarding the employees positionrolerelated strengths career interests and aspirations please provide information explaining the employees career goals and objectives employee development please provide information regarding how the employee can improve hisher positionrolerelated duties and enhance hisher professional development ie seminars inhouse training outside course work etc performance goals final overall performance rating overall rating additional informationanderson regional has implemented a  mile radius rule please do not submit candidates that live within  miles of the facility orientation onsite orientation will be paid additional modules on your own time prior to onsite are nonpaid anderson holds one orientation per month anderson does not guarantee hours thank you position urgencynormal billing string  medefis guaranteed hours contract weeks\\ntlc nursing is an equal employment opportunity eeo employer and welcomes all to apply\\nat  the\\nwhy join tlc nursing\\ncompetitive compensation earn the best weekly rates on your assignment we will beat any offer for the same open position\\ndiverse work settings experience environments like acute care longterm care schools clinics summer camps prisons etc\\nguaranteed hours secure a consistent  or hour workweek with opportunities for overtime\\nbenefits\\nyour wellbeing matters health vision and dental insurance\\nk with matching contribution\\npaid time off pto\\nimmediate availability of aflac for your purchase\\nstay comfortable opt for our fully furnished housing including utilities or choose a housing stipend\\nunlimited referral bonus\\naccess to unlimited continuing education units online\\nwe are proudly a nurseowned and operated travel nurse and travel healthcare staffing agency\\nvoted the best staffing agency in       by vermont business magazine\\ntlc nursing provides equal employment opportunities to all employees and applicants for employment and prohibits discrimination and harassment of any type without regard to race color religion age sex national origin disability status genetics protected veteran status sexual orientation gender identity or expression or any other characteristic protected by federal state or local laws this policy applies to all terms and conditions of employment including recruiting hiring placement promotion termination layoff recall transfer leaves of absence compensation and training\\nmost facilities tlc nursing works with require candidates to be fully vaccinated for covid and flu some facilities may accept religious and or medical exemptions from vaccination proper documentation is required and needs to be submitted to our client for approval the client facility makes all exemption decisions and tlc nursing has no control over this matter\\npowered by jazzhr\\nwwlufrlxo\\nshow more\\nshow less')]"
            ]
          },
          "execution_count": 31,
          "metadata": {},
          "output_type": "execute_result"
        }
      ],
      "source": [
        "row_with_id_160 = Job_df.filter(Job_df['ID'] == 160).collect()\n",
        "row_with_id_160"
      ]
    },
    {
      "cell_type": "code",
      "execution_count": null,
      "metadata": {
        "id": "1opJKf--H4ao"
      },
      "outputs": [],
      "source": []
    },
    {
      "cell_type": "markdown",
      "metadata": {
        "id": "FAIjcHRBJPRs"
      },
      "source": [
        "### Remove Non-ASCII characters:\n",
        "Some texts have some non-ASCII characters like (ã°â\\x9fâ\\x9fâ¡), so we need to delete them from texts"
      ]
    },
    {
      "cell_type": "code",
      "execution_count": 32,
      "metadata": {
        "colab": {
          "base_uri": "https://localhost:8080/"
        },
        "id": "QzFylz4ZH4VR",
        "outputId": "91d923d6-168c-41e1-c9f6-0dd0da0445fb"
      },
      "outputs": [
        {
          "data": {
            "text/plain": [
              "[Row(Id=915, job_summary='ð\\x9f\\x9f¡ head of operations\\nð\\x9f\\x9f¡  office based role in mayfair london am to pm\\nð\\x9f\\x9f¡ luxury real estate sector\\nð\\x9f\\x9f¡ salary up to â£ pa dependent on experience\\nð\\x9f\\x9f¡ progression route to coo\\nwe are delighted to be partnering with a prestige property development boutique in their search for a new head of operations\\nthis is a varied senior level role where daytoday you will be involved with multiple project streams coordinating between commercial design and sales teams on simultaneous high end development projects you will closely support the ceo across operational workflows and will take overarching responsibility for communications and compliance you will be an important and valued member of the senior leadership team and will be heavily involved in commercial strategy and business growth decisions\\nin order to be considered you must have significant experience in a similar senior role ideally gained within high end real estate investment management or luxury consumer goods sectors\\nyou will be a confident communicator with impeccable written and spoken english\\nyou will be commercially astute growth focused and ambitious\\nyou will be happy to work onsite monday to friday in the mayfair offices and occasionally travel to london based renovation projects when needed\\nin return you will receive a salary of up to â£ pa will have a medium term progression route to coo private healthcare and  days holiday plus christmas closure\\nplease do not apply if you cannot commit to a  office based role\\nshow more\\nshow less')]"
            ]
          },
          "execution_count": 32,
          "metadata": {},
          "output_type": "execute_result"
        }
      ],
      "source": [
        "row_with_id_915 = Job_df.filter(Job_df['ID'] == 915).collect()\n",
        "row_with_id_915"
      ]
    },
    {
      "cell_type": "code",
      "execution_count": 33,
      "metadata": {
        "id": "QoowVAkiGogf"
      },
      "outputs": [],
      "source": [
        "def remove_non_ascii(text):\n",
        "    if text is None:\n",
        "        return None\n",
        "    return re.sub(r'[^\\x00-\\x7F]+', '', str(text))\n",
        "\n",
        "remove_non_ascii_udf = udf(remove_non_ascii, StringType())\n",
        "Job_df = Job_df.withColumn('job_summary', remove_non_ascii_udf(Job_df['job_summary']))"
      ]
    },
    {
      "cell_type": "code",
      "execution_count": 34,
      "metadata": {
        "colab": {
          "base_uri": "https://localhost:8080/"
        },
        "id": "YhO9wxvhH4Qv",
        "outputId": "5c8b45f2-5551-406f-a413-25de562d5062"
      },
      "outputs": [
        {
          "data": {
            "text/plain": [
              "[Row(Id=915, job_summary=' head of operations\\n  office based role in mayfair london am to pm\\n luxury real estate sector\\n salary up to  pa dependent on experience\\n progression route to coo\\nwe are delighted to be partnering with a prestige property development boutique in their search for a new head of operations\\nthis is a varied senior level role where daytoday you will be involved with multiple project streams coordinating between commercial design and sales teams on simultaneous high end development projects you will closely support the ceo across operational workflows and will take overarching responsibility for communications and compliance you will be an important and valued member of the senior leadership team and will be heavily involved in commercial strategy and business growth decisions\\nin order to be considered you must have significant experience in a similar senior role ideally gained within high end real estate investment management or luxury consumer goods sectors\\nyou will be a confident communicator with impeccable written and spoken english\\nyou will be commercially astute growth focused and ambitious\\nyou will be happy to work onsite monday to friday in the mayfair offices and occasionally travel to london based renovation projects when needed\\nin return you will receive a salary of up to  pa will have a medium term progression route to coo private healthcare and  days holiday plus christmas closure\\nplease do not apply if you cannot commit to a  office based role\\nshow more\\nshow less')]"
            ]
          },
          "execution_count": 34,
          "metadata": {},
          "output_type": "execute_result"
        }
      ],
      "source": [
        "row_with_id_915 = Job_df.filter(Job_df['ID'] == 915).collect()\n",
        "row_with_id_915"
      ]
    },
    {
      "cell_type": "markdown",
      "metadata": {
        "id": "suADkpQqKsDz"
      },
      "source": [
        "### Remove extra space"
      ]
    },
    {
      "cell_type": "code",
      "execution_count": 35,
      "metadata": {
        "id": "Jbbv0O2kKgkp"
      },
      "outputs": [],
      "source": [
        "from pyspark.sql.functions import regexp_replace, col, trim\n",
        "\n",
        "def remove_extra_spaces(df, column_name):\n",
        "    df = df.withColumn(column_name, regexp_replace(col(column_name), \"\\\\s+\", \" \"))\n",
        "    return df.withColumn(column_name, trim(col(column_name)))"
      ]
    },
    {
      "cell_type": "code",
      "execution_count": 36,
      "metadata": {
        "id": "k8Dbz0BIKgiI"
      },
      "outputs": [],
      "source": [
        "Job_df = remove_extra_spaces(Job_df, \"job_summary\")"
      ]
    },
    {
      "cell_type": "markdown",
      "metadata": {
        "id": "-ETJ4cz1LCOg"
      },
      "source": [
        "### Tokenization"
      ]
    },
    {
      "cell_type": "code",
      "execution_count": 37,
      "metadata": {
        "colab": {
          "base_uri": "https://localhost:8080/"
        },
        "id": "E9trSn1OKggA",
        "outputId": "05a0cd0c-550a-4ab8-ca2e-e235bc421761"
      },
      "outputs": [
        {
          "name": "stdout",
          "output_type": "stream",
          "text": [
            "+---+--------------------+--------------------+\n",
            "| Id|         job_summary|              Tokens|\n",
            "+---+--------------------+--------------------+\n",
            "| 40|job title food se...|[job, title, food...|\n",
            "| 45|your responsibili...|[your, responsibi...|\n",
            "|160|profession regist...|[profession, regi...|\n",
            "|589|to apply for this...|[to, apply, for, ...|\n",
            "|656|the judge group i...|[the, judge, grou...|\n",
            "+---+--------------------+--------------------+\n",
            "only showing top 5 rows\n",
            "\n"
          ]
        }
      ],
      "source": [
        "tokenizer = Tokenizer().setInputCol(\"job_summary\").setOutputCol(\"Tokens\")\n",
        "Job_df = tokenizer.transform(Job_df)\n",
        "Job_df.show(5)"
      ]
    },
    {
      "cell_type": "markdown",
      "metadata": {
        "id": "kvws70vULf5W"
      },
      "source": [
        "### Removing Stopwords"
      ]
    },
    {
      "cell_type": "code",
      "execution_count": 38,
      "metadata": {
        "colab": {
          "base_uri": "https://localhost:8080/"
        },
        "id": "odmYIctMKgdf",
        "outputId": "bde22285-f308-4453-e015-22e37610d57f"
      },
      "outputs": [
        {
          "name": "stdout",
          "output_type": "stream",
          "text": [
            "['i', 'me', 'my', 'myself', 'we', 'our', 'ours', 'ourselves', 'you', 'your']\n",
            "181\n"
          ]
        }
      ],
      "source": [
        "remove_stopwords = StopWordsRemover()\n",
        "stopwords = remove_stopwords.getStopWords()\n",
        "print(stopwords[:10])\n",
        "print(len(stopwords))\n",
        "\n",
        "remove_stopwords.setInputCol(\"Tokens\").setOutputCol(\"Tokens stopwords removed\")\n",
        "Job_df = remove_stopwords.transform(Job_df)"
      ]
    },
    {
      "cell_type": "code",
      "execution_count": 42,
      "metadata": {
        "id": "OhDrnVUfLuB1"
      },
      "outputs": [],
      "source": [
        "# counting the number of tokens after stopwords removed\n",
        "Job_df = Job_df.withColumn(\"Number of tokens\", size(col(\"Tokens\")))\n",
        "Job_df = Job_df.withColumn(\"Number of tokens After stopwords removed\", size(col(\"Tokens stopwords removed\")))\n",
        "Job_df = Job_df.withColumn(\"Number of stopwords removed\", size(col(\"Tokens stopwords removed\")) - size(col(\"Tokens\")) )"
      ]
    },
    {
      "cell_type": "code",
      "execution_count": 43,
      "metadata": {
        "colab": {
          "base_uri": "https://localhost:8080/"
        },
        "id": "zzlMusQnrPQB",
        "outputId": "6cac3d15-1826-4fc1-d08a-6d4dfd2425d0"
      },
      "outputs": [
        {
          "name": "stdout",
          "output_type": "stream",
          "text": [
            "+----+--------------------+--------------------+------------------------+----------------+----------------------------------------+---------------------------+\n",
            "|  Id|         job_summary|              Tokens|Tokens stopwords removed|Number of tokens|Number of tokens After stopwords removed|Number of stopwords removed|\n",
            "+----+--------------------+--------------------+------------------------+----------------+----------------------------------------+---------------------------+\n",
            "|  40|job title food se...|[job, title, food...|    [job, title, food...|             374|                                     244|                       -130|\n",
            "|  45|your responsibili...|[your, responsibi...|    [responsibilities...|             775|                                     502|                       -273|\n",
            "| 160|profession regist...|[profession, regi...|    [profession, regi...|            1917|                                    1366|                       -551|\n",
            "| 589|to apply for this...|[to, apply, for, ...|    [apply, job, clic...|             269|                                     151|                       -118|\n",
            "| 656|the judge group i...|[the, judge, grou...|    [judge, group, cu...|             411|                                     279|                       -132|\n",
            "|1319|job title certifi...|[job, title, cert...|    [job, title, cert...|             362|                                     251|                       -111|\n",
            "|1324|come join the lea...|[come, join, the,...|    [come, join, lead...|             303|                                     219|                        -84|\n",
            "|1507|visiting angels o...|[visiting, angels...|    [visiting, angels...|             266|                                     189|                        -77|\n",
            "|1691|the certified nur...|[the, certified, ...|    [certified, nursi...|             444|                                     303|                       -141|\n",
            "|1882|interested in mak...|[interested, in, ...|    [interested, maki...|             498|                                     332|                       -166|\n",
            "+----+--------------------+--------------------+------------------------+----------------+----------------------------------------+---------------------------+\n",
            "only showing top 10 rows\n",
            "\n"
          ]
        }
      ],
      "source": [
        "Job_df.show(10)"
      ]
    },
    {
      "cell_type": "markdown",
      "metadata": {
        "id": "YbgLohL-91x2"
      },
      "source": [
        "###  Join the words"
      ]
    },
    {
      "cell_type": "markdown",
      "metadata": {
        "id": "kYGnoUbE9xAT"
      },
      "source": [
        "To join the words back together after tokenization and stopword removal, you can use the concat_ws function provided by PySpark. Here’s how you can do it:"
      ]
    },
    {
      "cell_type": "code",
      "execution_count": 44,
      "metadata": {
        "id": "kSrn4KhK9nHM"
      },
      "outputs": [],
      "source": [
        "from pyspark.sql.functions import concat_ws\n",
        "\n",
        "Job_df = Job_df.withColumn(\"Cleaned_text\", concat_ws(\" \", col(\"Tokens stopwords removed\")))"
      ]
    },
    {
      "cell_type": "markdown",
      "metadata": {
        "id": "oXPxWKx9L5a5"
      },
      "source": [
        "## Final dataset"
      ]
    },
    {
      "cell_type": "code",
      "execution_count": 45,
      "metadata": {
        "id": "MLsQ5XcBLu8K"
      },
      "outputs": [],
      "source": [
        "Job_df_proces = Job_df.select('Id', \"Cleaned_text\")"
      ]
    },
    {
      "cell_type": "code",
      "execution_count": 47,
      "metadata": {
        "colab": {
          "base_uri": "https://localhost:8080/"
        },
        "id": "f7xSwSLduTZC",
        "outputId": "a226d7d8-8b80-42b2-f7f3-f1e893b0c9b2"
      },
      "outputs": [
        {
          "name": "stdout",
          "output_type": "stream",
          "text": [
            "+---+--------------------+\n",
            "| Id|        Cleaned_text|\n",
            "+---+--------------------+\n",
            "| 40|job title food se...|\n",
            "| 45|responsibilities ...|\n",
            "|160|profession regist...|\n",
            "|589|apply job click l...|\n",
            "+---+--------------------+\n",
            "only showing top 4 rows\n",
            "\n"
          ]
        }
      ],
      "source": [
        "Job_df_proces.show(4)"
      ]
    },
    {
      "cell_type": "markdown",
      "metadata": {
        "id": "zE_L9bBXxvY-"
      },
      "source": [
        "### Creating Shingles"
      ]
    },
    {
      "cell_type": "code",
      "execution_count": 48,
      "metadata": {
        "id": "qjKhcqCtQP6u"
      },
      "outputs": [],
      "source": [
        "def shingle(text, k):\n",
        "    shingles = set()\n",
        "    words = text.split()\n",
        "    for i in range(len(words) - k + 1):\n",
        "        shingles.add(' '.join(words[i:i+k]))\n",
        "    return list(shingles)"
      ]
    },
    {
      "cell_type": "code",
      "execution_count": 49,
      "metadata": {
        "id": "nVIt5xhg-s_Z"
      },
      "outputs": [],
      "source": [
        "k = 2\n",
        "shingle_udf = udf(lambda text: shingle(text, k), ArrayType(StringType()))\n",
        "Job_df_proces = Job_df_proces.withColumn(\"shingles\", shingle_udf(col(\"Cleaned_text\")))"
      ]
    },
    {
      "cell_type": "code",
      "execution_count": 50,
      "metadata": {
        "colab": {
          "base_uri": "https://localhost:8080/"
        },
        "id": "x-GefdX8kFhK",
        "outputId": "3a2b6a6f-5c72-47dd-fd5c-2cffeb6e8d0d"
      },
      "outputs": [
        {
          "name": "stdout",
          "output_type": "stream",
          "text": [
            "+--------------------+\n",
            "|            shingles|\n",
            "+--------------------+\n",
            "|[looking musthave...|\n",
            "|[logistics system...|\n",
            "|[organizational v...|\n",
            "|[skills must, ski...|\n",
            "|[large army, expe...|\n",
            "+--------------------+\n",
            "only showing top 5 rows\n",
            "\n"
          ]
        }
      ],
      "source": [
        "Job_df_proces.select(\"shingles\").show(5)"
      ]
    },
    {
      "cell_type": "markdown",
      "metadata": {
        "id": "sYy_lJU1xvY_"
      },
      "source": [
        "#### convert shingles to sparse vectors"
      ]
    },
    {
      "cell_type": "code",
      "execution_count": 51,
      "metadata": {
        "colab": {
          "base_uri": "https://localhost:8080/"
        },
        "id": "98WSxCC7YYYy",
        "outputId": "d7aa3f82-1059-4214-d633-8126d48a0466"
      },
      "outputs": [
        {
          "name": "stderr",
          "output_type": "stream",
          "text": [
            "IOPub data rate exceeded.\n",
            "The notebook server will temporarily stop sending output\n",
            "to the client in order to avoid crashing it.\n",
            "To change this limit, set the config variable\n",
            "`--NotebookApp.iopub_data_rate_limit`.\n",
            "\n",
            "Current values:\n",
            "NotebookApp.iopub_data_rate_limit=1000000.0 (bytes/sec)\n",
            "NotebookApp.rate_limit_window=3.0 (secs)\n",
            "\n"
          ]
        }
      ],
      "source": [
        "# Flatten the shingles column to get all unique shingles\n",
        "unique_shingles = Job_df_proces.select(explode(\"shingles\").alias(\"shingle\")).distinct().collect()\n",
        "shingle_index = {row[\"shingle\"]: idx for idx, row in enumerate(unique_shingles)}\n",
        "\n",
        "print(\"Unique shingles and their indices:\")\n",
        "print(shingle_index)\n",
        "\n",
        "def shingles_to_sparse_vector(shingles):\n",
        "    indices = sorted([shingle_index[sh] for sh in shingles if sh in shingle_index])\n",
        "    values = [1.0] * len(indices)\n",
        "    return Vectors.sparse(len(unique_shingles), indices, values)\n",
        "\n",
        "\n",
        "sparse_vector_udf = udf(lambda shingles: shingles_to_sparse_vector(shingles), VectorUDT())\n",
        "\n",
        "Job_df_proces = Job_df_proces.withColumn(\"features\", sparse_vector_udf(col(\"shingles\")))"
      ]
    },
    {
      "cell_type": "code",
      "execution_count": 53,
      "metadata": {
        "colab": {
          "base_uri": "https://localhost:8080/"
        },
        "id": "9aTBcxCRtx2l",
        "outputId": "95f02812-c9b9-4365-c83b-b59f4381327b"
      },
      "outputs": [
        {
          "name": "stdout",
          "output_type": "stream",
          "text": [
            "+-------------------------------------------------------------------------------------------------------------------------------------------------------------------------------------------------------------------------------------------------------------------------------------------------------------------------------------------------------------------------------------------------------------------------------------------------------------------------------------------------------------------------------------------------------------------------------------------------------------------------------------------------------------------------------------------------------------------------------------------------------------------------------------------------------------------------------------------------------------------------------------------------------------------------------------------------------------------------------------------------------------------------------------------------------------------------------------------------------------------------------------------------------------------------------------------------------------------------------------------------------------------------------------------------------------------------------------------------------------------------------------------------------------------------------------------------------------------------------------------------------------------------------------------------------------------------------------------------------------------------------------------------------------------------------------------------------------------------------------------------------------------------------------------------------------------------------------------------------------------------------------------------------------------------------------------------------------------------------------------------------------------------------------------------------------------------------------------------------------------------------------------------------------------------------------------------------------------------------------------------------------------------------------------------------------------------------------------------------------------------------------------------------------------------------------------------------------------------------------------------------------------------------------------------------------------------------------------------------------------------------------------------------------------------------------------------------------------------------------------------------------------------------------------------------------------------------------------------------------------------------------------------------------------------------------------------------------------------------------------------------------------------------------------------------------------------------------------------------------------------------------------------------------------------------------------------------------------------------------------------------------------------------------------------------------------------------------------------------------------------------------------------------------------------------------------------------------------------------------------------------------------------------------------------------------------------------------------------------------------------------------------------------------------------------------------------------------------------------------------------------------------------------------------------------------------------------------------------------------------------------------------------------------------------------------------------------------------------------------------------------------------------------------------------------------------------------------------------------------------------------------------------------------------------------------------------------------------------------------------------------------------------------------------------------------------------------------------------------------------------------------------------------------------------------------------------------------------------------------------------------------------------------------------------------------------------------------------------------------------------------------------------------------------------------------------------------------------------------------------------------------------------------------------------------------------------------------------------------------------------------------------------------------------------------------------------------------------------------------------------------------------------------------------------------------------------------------------------------------------------------------------------------------------------------------------------------------------------------------------------------------------------------------------------------------------------------------------------------------------------------------------------------------------------------------------------------------------------------------------------------------------------------------------------------------------------------------------------------------------------------------------------------------------------------------------------------------------------------------------------------------------------------------------------------------------------------------------------------------------------------------------------------------------------------------------------------------------------------------------------------------------------------------------------------------------------------------------------------------------------------------------------------------------------------------------------------------------------------------------------------------------------------------------------------------------------------------------------------------------------------------------------------------------------------------------------------------------------------------------------------------------------------------------------------------------------------------------------------------------------------------------------------------------------------------------------------------------------------------------------------------------------------------------------------------------------------------------------------------------------------------------------------------------------------------------------------------------------------------------------------------------------------------------------------------------------------------------------------------------------------------------------------------------------------------------------------------------------------------------------------------------------------------------------------------------------------------------------------------------------------------------------------------------------------------------------------------------------------------------------------------------------------------------------------------------------------------------------------------------------------------------------------------------------------------------------------------------------------------------------------------------------------------------------------------------------------------------------------------------------------------------------------------------------------------------------------------------------------------------------------------------------------------------------------------------------------------------------------------------------------------------------------------------------------------------------------------------------------------------------------------------------------------------------------------------------------------------------------------------------------------------------------------------------------------------------------------------------------------------------------------------------------------------------------------------------------------------------------------------------------------------------------------------------------------------------------------------------------------------------------------------------------------------------------------------------------------------------------------------------------------------------------------------------------------------------------------------------------------------------------------------------------------------------------------------------------------------------------------------------------------------------------------------------------------------------------------------------------------------------------------------------------------------------------------------------------------------------------------------------------------------------------------------------------------------------------------------------------------------------------------------------------------------------------------------------------------------------------------------------------------------------------------------------------------------------------------------------------------------------------------------------------------------------------------------------------------------------------------------------------------------------------------------------------------------------------------------------------------------------------------------------------------------------------------------------------------------------------------------------------------------------------------------------------------------------------------------------------------------------------------------------------------------------------------------------------------------------------------------------------------------------------------------------------------------------------------------------------------------------------------------------------------------------------------------------------------------------------------------------------------------------------------------------------------------------------------------------------------------------------------------------------------------------------------------------------------------------------------------------------------------------------------------------------------------------------------------------------------------------------------------------------------------------------------------------------------------------------------------------------------------------------------------------------------------------------------------------------------------------------------------------------------------------------------------------------------------------------------------------------------------------------------------------------------------------------------------------------------------------------------------------------------------------------------------------------------------------------------------------------------------------------------------------------------------------------------------------------------------------------------------------------------------------------------------------------------------------------------------------------------------------------------------------------------------------------------------------------------------------------------------------------------------------------------------------------------------------------------------------------------------------------------------------------------------------------------------------------------------------------------------------------------------------------------------------------------------------------------------------------------------------------------------------------------------------------------------------------------------------------------------------------------------------------------------------------------------------------------------------------------------------------------------------------------------------------------------------------------------------------------------------------------------------------------------------------------------------------------------------------------------------------------------------------------------------------------------------------------------------------------------------------------------------------------------------------------------------------------------------------------------------------------------------------------------------------------------------------------------------------------------------------------------------------------------------------------------------------------------------------------------------------------------------------------------------------------------------------------------------------------------------------------------------------------------------------------------------------------------------------------------------------------------------------------------------------------------------------------------------------------------------------------------------------------------------------------------------------------------------------------------------------------------------------------------------------------------------------------------------------------------------------------------------------------------------------------------------------------------------------------------------------------------------------------------------------------------------------------+\n",
            "|features                                                                                                                                                                                                                                                                                                                                                                                                                                                                                                                                                                                                                                                                                                                                                                                                                                                                                                                                                                                                                                                                                                                                                                                                                                                                                                                                                                                                                                                                                                                                                                                                                                                                                                                                                                                                                                                                                                                                                                                                                                                                                                                                                                                                                                                                                                                                                                                                                                                                                                                                                                                                                                                                                                                                                                                                                                                                                                                                                                                                                                                                                                                                                                                                                                                                                                                                                                                                                                                                                                                                                                                                                                                                                                                                                                                                                                                                                                                                                                                                                                                                                                                                                                                                                                                                                                                                                                                                                                                                                                                                                                                                                                                                                                                                                                                                                                                                                                                                                                                                                                                                                                                                                                                                                                                                                                                                                                                                                                                                                                                                                                                                                                                                                                                                                                                                                                                                                                                                                                                                                                                                                                                                                                                                                                                                                                                                                                                                                                                                                                                                                                                                                                                                                                                                                                                                                                                                                                                                                                                                                                                                                                                                                                                                                                                                                                                                                                                                                                                                                                                                                                                                                                                                                                                                                                                                                                                                                                                                                                                                                                                                                                                                                                                                                                                                                                                                                                                                                                                                                                                                                                                                                                                                                                                                                                                                                                                                                                                                                                                                                                                                                                                                                                                                                                                                                                                                                                                                                                                                                                                                                                                                                                                                                                                                                                                                                                                                                                                                                                                                                                                                                                                                                                                                                                                                                                                                                                                                                                                                                                                                                                                                                                                                                                                                                                                                                                                                                                                                                                                                                                                                                                                                                                                                                                                                                                                                                                                                                                                                                                                                                                                                                                                                                                                                                                                                                                                                                                                                                                                                                                                                                                                                                                                                                                                                                                                                                                                                                                                                                                                                                                                                                                                                                                                                                                                                                                                                                                                                                                                                                                                                                                                                                                                                                                                                                                                                                                                                                                                                                                                                                                                                                                                                                                                                                                                                                                                                                                                                                                                                                                                                                                                                                                                                                             |\n",
            "+-------------------------------------------------------------------------------------------------------------------------------------------------------------------------------------------------------------------------------------------------------------------------------------------------------------------------------------------------------------------------------------------------------------------------------------------------------------------------------------------------------------------------------------------------------------------------------------------------------------------------------------------------------------------------------------------------------------------------------------------------------------------------------------------------------------------------------------------------------------------------------------------------------------------------------------------------------------------------------------------------------------------------------------------------------------------------------------------------------------------------------------------------------------------------------------------------------------------------------------------------------------------------------------------------------------------------------------------------------------------------------------------------------------------------------------------------------------------------------------------------------------------------------------------------------------------------------------------------------------------------------------------------------------------------------------------------------------------------------------------------------------------------------------------------------------------------------------------------------------------------------------------------------------------------------------------------------------------------------------------------------------------------------------------------------------------------------------------------------------------------------------------------------------------------------------------------------------------------------------------------------------------------------------------------------------------------------------------------------------------------------------------------------------------------------------------------------------------------------------------------------------------------------------------------------------------------------------------------------------------------------------------------------------------------------------------------------------------------------------------------------------------------------------------------------------------------------------------------------------------------------------------------------------------------------------------------------------------------------------------------------------------------------------------------------------------------------------------------------------------------------------------------------------------------------------------------------------------------------------------------------------------------------------------------------------------------------------------------------------------------------------------------------------------------------------------------------------------------------------------------------------------------------------------------------------------------------------------------------------------------------------------------------------------------------------------------------------------------------------------------------------------------------------------------------------------------------------------------------------------------------------------------------------------------------------------------------------------------------------------------------------------------------------------------------------------------------------------------------------------------------------------------------------------------------------------------------------------------------------------------------------------------------------------------------------------------------------------------------------------------------------------------------------------------------------------------------------------------------------------------------------------------------------------------------------------------------------------------------------------------------------------------------------------------------------------------------------------------------------------------------------------------------------------------------------------------------------------------------------------------------------------------------------------------------------------------------------------------------------------------------------------------------------------------------------------------------------------------------------------------------------------------------------------------------------------------------------------------------------------------------------------------------------------------------------------------------------------------------------------------------------------------------------------------------------------------------------------------------------------------------------------------------------------------------------------------------------------------------------------------------------------------------------------------------------------------------------------------------------------------------------------------------------------------------------------------------------------------------------------------------------------------------------------------------------------------------------------------------------------------------------------------------------------------------------------------------------------------------------------------------------------------------------------------------------------------------------------------------------------------------------------------------------------------------------------------------------------------------------------------------------------------------------------------------------------------------------------------------------------------------------------------------------------------------------------------------------------------------------------------------------------------------------------------------------------------------------------------------------------------------------------------------------------------------------------------------------------------------------------------------------------------------------------------------------------------------------------------------------------------------------------------------------------------------------------------------------------------------------------------------------------------------------------------------------------------------------------------------------------------------------------------------------------------------------------------------------------------------------------------------------------------------------------------------------------------------------------------------------------------------------------------------------------------------------------------------------------------------------------------------------------------------------------------------------------------------------------------------------------------------------------------------------------------------------------------------------------------------------------------------------------------------------------------------------------------------------------------------------------------------------------------------------------------------------------------------------------------------------------------------------------------------------------------------------------------------------------------------------------------------------------------------------------------------------------------------------------------------------------------------------------------------------------------------------------------------------------------------------------------------------------------------------------------------------------------------------------------------------------------------------------------------------------------------------------------------------------------------------------------------------------------------------------------------------------------------------------------------------------------------------------------------------------------------------------------------------------------------------------------------------------------------------------------------------------------------------------------------------------------------------------------------------------------------------------------------------------------------------------------------------------------------------------------------------------------------------------------------------------------------------------------------------------------------------------------------------------------------------------------------------------------------------------------------------------------------------------------------------------------------------------------------------------------------------------------------------------------------------------------------------------------------------------------------------------------------------------------------------------------------------------------------------------------------------------------------------------------------------------------------------------------------------------------------------------------------------------------------------------------------------------------------------------------------------------------------------------------------------------------------------------------------------------------------------------------------------------------------------------------------------------------------------------------------------------------------------------------------------------------------------------------------------------------------------------------------------------------------------------------------------------------------------------------------------------------------------------------------------------------------------------------------------------------------------------------------------------------------------------------------------------------------------------------------------------------------------------------------------------------------------------------------------------------------------------------------------------------------------------------------------------------------------------------------------------------------------------------------------------------------------------------------------------------------------------------------------------------------------------------------------------------------------------------------------------------------------------------------------------------------------------------------------------------------------------------------------------------------------------------------------------------------------------------------------------------------------------------------------------------------------------------------------------------------------------------------------------------------------------------------------------------------------------------------------------------------------------------------------------------------------------------------------------------------------------------------------------------------------------------------------------------------------------------------------------------------------------------------------------------------------------------------------------------------------------------------------------------------------------------------------------------------------------------------------------------------------------------------------------------------------------------------------------------------------------------------------------------------------------------------------------------------------------------------------------------------------------------------------------------------------------------------------------------------------------------------------------------------------------------------------------------------------------------------------------------------------------------------------------------------------------------------------------------------------------------------------------------------------------------------------------------------------------------------------------------------------------------------------------------------------------------------------------------------------------------------------------------------------------------------------------------------------------------------------------------------------------------------------------------------------------------------------------------------------------------------------------------------------------------------------------------------------------------------------------------------------------------------------------------------------------------------------------------------------------------------------------------------------------------------------------------------------------------------------------------------------------------------------------------------------------------------------------------------------------------------------------------------------------------------------------------------------------------------------------------------------------------------------+\n",
            "|(558004,[3368,5072,8382,8383,10132,10133,10134,11808,13492,13493,15153,16783,16784,18384,18385,21656,23247,23248,24858,24859,26466,26467,29651,29652,32842,34440,35979,38996,40480,40481,41913,43392,44813,46206,47578,53150,54512,55850,55851,57158,58442,59783,63598,66527,67583,68008,68265,68545,69709,70789,73252,74248,74249,75911,77653,81037,84443,86122,87767,96293,96294,98068,98069,99790,101438,101439,101440,103036,103037,103038,104773,113211,113212,113213,114845,116554,118258,118259,119922,119923,119924,121672,121673,126875,126876,131943,131944,133634,137031,137032,137033,137034,137035,138730,140399,140400,140401,143747,143748,145440,145441,147149,147150,148798,150469,152126,152127,155565,155566,155567,155568,157213,157214,157215,158956,162342,165765,278619,280321,280322,280323,285413,287136,287137,292260,292261,293928,295580,297132,298734,298735,303621,303622,305196,305197,305198,306794,314784,317805,317806,322190,322191,323744,325159,326528,326529,326530,327938,327939,329272,329273,330606,330607,331926,334657,335962,335963,337280,337281,341081,342350,343519,343520,347201,347494,349143,349863,353108,359872,359873,361595,361596,363305,363306,366784,368495,372020,373704,375388,375389,375390,377026,377027,378734,378735,378736,380424,380425,382176,385617,388958,388959,390622,392276,392277,392278,393885,395555,397308,397309,397310,399030,400747,400748,402428,402429,402430,404153,404154,404155,410908,410909,415926,415927,417642,419372,419373,421080,426176,426177,426178,426179,426180,431290,434702,439851,439852,439853,443402,443403,445073,445074,446766,446767],[1.0,1.0,1.0,1.0,1.0,1.0,1.0,1.0,1.0,1.0,1.0,1.0,1.0,1.0,1.0,1.0,1.0,1.0,1.0,1.0,1.0,1.0,1.0,1.0,1.0,1.0,1.0,1.0,1.0,1.0,1.0,1.0,1.0,1.0,1.0,1.0,1.0,1.0,1.0,1.0,1.0,1.0,1.0,1.0,1.0,1.0,1.0,1.0,1.0,1.0,1.0,1.0,1.0,1.0,1.0,1.0,1.0,1.0,1.0,1.0,1.0,1.0,1.0,1.0,1.0,1.0,1.0,1.0,1.0,1.0,1.0,1.0,1.0,1.0,1.0,1.0,1.0,1.0,1.0,1.0,1.0,1.0,1.0,1.0,1.0,1.0,1.0,1.0,1.0,1.0,1.0,1.0,1.0,1.0,1.0,1.0,1.0,1.0,1.0,1.0,1.0,1.0,1.0,1.0,1.0,1.0,1.0,1.0,1.0,1.0,1.0,1.0,1.0,1.0,1.0,1.0,1.0,1.0,1.0,1.0,1.0,1.0,1.0,1.0,1.0,1.0,1.0,1.0,1.0,1.0,1.0,1.0,1.0,1.0,1.0,1.0,1.0,1.0,1.0,1.0,1.0,1.0,1.0,1.0,1.0,1.0,1.0,1.0,1.0,1.0,1.0,1.0,1.0,1.0,1.0,1.0,1.0,1.0,1.0,1.0,1.0,1.0,1.0,1.0,1.0,1.0,1.0,1.0,1.0,1.0,1.0,1.0,1.0,1.0,1.0,1.0,1.0,1.0,1.0,1.0,1.0,1.0,1.0,1.0,1.0,1.0,1.0,1.0,1.0,1.0,1.0,1.0,1.0,1.0,1.0,1.0,1.0,1.0,1.0,1.0,1.0,1.0,1.0,1.0,1.0,1.0,1.0,1.0,1.0,1.0,1.0,1.0,1.0,1.0,1.0,1.0,1.0,1.0,1.0,1.0,1.0,1.0,1.0,1.0,1.0,1.0,1.0,1.0,1.0,1.0,1.0,1.0,1.0,1.0])                                                                                                                                                                                                                                                                                                                                                                                                                                                                                                                                                                                                                                                                                                                                                                                                                                                                                                                                                                                                                                                                                                                                                                                                                                                                                                                                                                                                                                                                                                                                                                                                                                                                                                                                                                                                                                                                                                                                                                                                                                                                                                                                                                                                                                                                                                                                                                                                                                                                                                                                                                                                                                                                                                                                                                                                                                                                                                                                                                                                                                                                                                                                                                                                                                                                                                                                                                                                                                                                                                                                                                                                                                                                                                                                                                                                                                                                                                                                                                                                                                                                                                                                                                                                                                                                                                                                                                                                                                                                                                                                                                                                                                                                                                                                                                                                                                                                                                                                                                                                                                                                                                                                                                                                                                                                                                                                                                                                                                                                                                                                                                                                                                                                                                                                                                                                                                                                                                                                                                                                                                                                                                                                                                                                                                                                                                                                                                                                                                                                                                                                                                                                                                                                                                                                                                                                                                                                                                                                                                                                                                                                                                                                                                                                                                                                                                                                                                                                                                                                                                                                                                                                                                                                                                                                                                                                                                                                                                                                                                                                                                                                                                                                                                                                                                                                                                                                                                                                                                                                                                                                                                                                                                                                                                                                                                                                                                                                                                                                                                                                                                                                                                                                                                                                                                                                                                                                                                                                                                                                                                                                                                                                                                                                                                                                                                                                                                                                                                                                                                                                                                                                                                                                                                                                                                                                                                                                                                                                                                                                                                                                                                                                                                                                                                                                                                                                                                                                                                                                                                                                                                                                                                                                                                                                                                                                                                                                                                                                                                                                                                                                                                                                               |\n",
            "|(558004,[0,1,2,3,1670,1671,1672,1673,1674,1675,3369,3370,5073,6703,6704,6705,6706,6707,8384,8385,10135,15154,15155,16785,18386,20001,23249,23250,23251,24860,24861,24862,24863,29653,29654,29655,29656,29657,31288,32843,32844,32845,34441,34442,34443,35980,35981,37496,37497,38996,38997,38998,40482,40483,41914,41915,41916,43393,44814,46207,48959,50385,50386,51740,53151,53152,53153,54513,54514,57159,57160,57161,58443,58444,59784,59785,59786,59787,61093,61094,62343,62344,64819,66853,67188,68008,68835,70426,72335,72790,73253,73254,74249,74250,74251,74252,75912,75913,77654,77655,77656,77657,77658,77659,77660,77661,81038,82740,82741,82742,84444,84445,86123,87768,87769,87770,89502,89503,89504,91162,91163,91164,92884,92885,92886,92887,92888,92889,94557,94558,96295,96296,96297,96298,96299,98070,98071,98072,98073,99791,101441,101442,101443,103039,103040,103041,103042,104774,104775,104776,104777,104778,106461,109864,109865,111519,113214,113215,113216,116555,116556,116557,118260,119924,119925,119926,119927,119928,119929,121674,121675,121676,123399,123400,123401,123402,123403,123404,125144,125145,125146,126877,126878,126879,126880,126881,128553,130257,130258,131945,131946,131947,133635,135286,135287,137036,137037,137038,138731,138732,138733,138734,140402,142065,142066,145442,145443,147151,147152,148799,148800,150470,150471,152128,153863,153864,153865,155569,155570,157216,157217,157218,158957,160675,162343,162344,162345,162346,164110,164111,164112,164113,165766,165767,167537,167538,167539,167540,167541,278620,280324,282021,282022,285414,287138,288847,290563,290564,290565,290566,290567,290568,292262,292263,292264,293929,295581,295582,295583,295584,297133,298736,298737,298738,298739,298740,298741,300441,300442,302033,302034,302035,303623,303624,303625,305199,305200,306795,306796,306797,306798,306799,306800,308391,308392,308393,310020,310021,310022,311602,311603,311604,311605,313228,313229,313230,314785,316327,317807,320776,320777,320778,320779,322192,322193,323745,323746,323747,325160,326531,327940,327941,327942,327943,329274,329275,329276,330608,330609,331926,331927,331928,333313,333314,333315,334658,334659,334660,334661,335964,337282,337283,339855,339856,341082,342351,344872,346183,347495,347811,348481,351099,352043,353109,353110,354783,354784,354785,356502,356503,358162,359874,361597,361598,361599,361600,361601,361602,363307,363308,363309,365039,366785,366786,368495,368496,370260,370261,372021,372022,372023,373705,373706,373707,373708,375391,375392,375393,375394,377028,378736,378737,378738,378739,380426,380427,380428,380429,385618,385619,387293,388960,388961,390623,390624,392279,392280,393886,393887,393888,393889,393890,393891,395556,395557,397311,397312,399031,399032,399033,399034,399035,399036,399037,400749,400750,402431,402432,402433,402434,404156,404157,405822,407540,407541,407542,407543,409231,409232,412624,412625,412626,412627,412628,414300,414301,415928,417643,417644,419374,421081,421082,422752,424448,426181,427818,427819,427820,429513,429514,431291,431292,432995,434702,434703,434704,436391,436392,436393,436394,438115,438116,438117,439854,441614,441615,443404,443405,443406,445075,445076,445077,446768,446769],[1.0,1.0,1.0,1.0,1.0,1.0,1.0,1.0,1.0,1.0,1.0,1.0,1.0,1.0,1.0,1.0,1.0,1.0,1.0,1.0,1.0,1.0,1.0,1.0,1.0,1.0,1.0,1.0,1.0,1.0,1.0,1.0,1.0,1.0,1.0,1.0,1.0,1.0,1.0,1.0,1.0,1.0,1.0,1.0,1.0,1.0,1.0,1.0,1.0,1.0,1.0,1.0,1.0,1.0,1.0,1.0,1.0,1.0,1.0,1.0,1.0,1.0,1.0,1.0,1.0,1.0,1.0,1.0,1.0,1.0,1.0,1.0,1.0,1.0,1.0,1.0,1.0,1.0,1.0,1.0,1.0,1.0,1.0,1.0,1.0,1.0,1.0,1.0,1.0,1.0,1.0,1.0,1.0,1.0,1.0,1.0,1.0,1.0,1.0,1.0,1.0,1.0,1.0,1.0,1.0,1.0,1.0,1.0,1.0,1.0,1.0,1.0,1.0,1.0,1.0,1.0,1.0,1.0,1.0,1.0,1.0,1.0,1.0,1.0,1.0,1.0,1.0,1.0,1.0,1.0,1.0,1.0,1.0,1.0,1.0,1.0,1.0,1.0,1.0,1.0,1.0,1.0,1.0,1.0,1.0,1.0,1.0,1.0,1.0,1.0,1.0,1.0,1.0,1.0,1.0,1.0,1.0,1.0,1.0,1.0,1.0,1.0,1.0,1.0,1.0,1.0,1.0,1.0,1.0,1.0,1.0,1.0,1.0,1.0,1.0,1.0,1.0,1.0,1.0,1.0,1.0,1.0,1.0,1.0,1.0,1.0,1.0,1.0,1.0,1.0,1.0,1.0,1.0,1.0,1.0,1.0,1.0,1.0,1.0,1.0,1.0,1.0,1.0,1.0,1.0,1.0,1.0,1.0,1.0,1.0,1.0,1.0,1.0,1.0,1.0,1.0,1.0,1.0,1.0,1.0,1.0,1.0,1.0,1.0,1.0,1.0,1.0,1.0,1.0,1.0,1.0,1.0,1.0,1.0,1.0,1.0,1.0,1.0,1.0,1.0,1.0,1.0,1.0,1.0,1.0,1.0,1.0,1.0,1.0,1.0,1.0,1.0,1.0,1.0,1.0,1.0,1.0,1.0,1.0,1.0,1.0,1.0,1.0,1.0,1.0,1.0,1.0,1.0,1.0,1.0,1.0,1.0,1.0,1.0,1.0,1.0,1.0,1.0,1.0,1.0,1.0,1.0,1.0,1.0,1.0,1.0,1.0,1.0,1.0,1.0,1.0,1.0,1.0,1.0,1.0,1.0,1.0,1.0,1.0,1.0,1.0,1.0,1.0,1.0,1.0,1.0,1.0,1.0,1.0,1.0,1.0,1.0,1.0,1.0,1.0,1.0,1.0,1.0,1.0,1.0,1.0,1.0,1.0,1.0,1.0,1.0,1.0,1.0,1.0,1.0,1.0,1.0,1.0,1.0,1.0,1.0,1.0,1.0,1.0,1.0,1.0,1.0,1.0,1.0,1.0,1.0,1.0,1.0,1.0,1.0,1.0,1.0,1.0,1.0,1.0,1.0,1.0,1.0,1.0,1.0,1.0,1.0,1.0,1.0,1.0,1.0,1.0,1.0,1.0,1.0,1.0,1.0,1.0,1.0,1.0,1.0,1.0,1.0,1.0,1.0,1.0,1.0,1.0,1.0,1.0,1.0,1.0,1.0,1.0,1.0,1.0,1.0,1.0,1.0,1.0,1.0,1.0,1.0,1.0,1.0,1.0,1.0,1.0,1.0,1.0,1.0,1.0,1.0,1.0,1.0,1.0,1.0,1.0,1.0,1.0,1.0,1.0,1.0,1.0,1.0,1.0,1.0,1.0,1.0,1.0,1.0,1.0,1.0,1.0,1.0,1.0,1.0,1.0,1.0,1.0,1.0,1.0,1.0,1.0,1.0,1.0,1.0,1.0,1.0,1.0,1.0,1.0,1.0,1.0,1.0,1.0,1.0,1.0,1.0,1.0,1.0,1.0,1.0,1.0,1.0,1.0,1.0,1.0,1.0,1.0,1.0,1.0,1.0,1.0,1.0,1.0,1.0,1.0,1.0])                                                                                                                                                                                                                                                                                                                                                                                                                                                                                                                                                                                                                                                                                                                                                                                                                                                                                                                                                                                                                                                                                                                                                                                                                                                                                                                                                                                                                                                                                                                                                                                                                                                                                                                                                                                                                                                                                                                                                                                                                                                                                                                                                                                                                                                                                                                                                                                                                                                                                                                                                                                                                                                                                                                                                                                                                                                                                                                                                                                                                                                                                                                                                                                                                                                                                                                                                                                                                                                                                                                                                                                                                                                                                                                                                                                                                                                                                                                                                                                                                                                                                                                                                                                                                                                                                                                                                                                                                                                                                                                                                                                                                                                                                                                                                                                                                                                                                                                                                                                                                                                                                                                                                                                                                                                                                                                                                                                                                                                                                                                                                                                                                                                                                                                                                                                                                                                                                                                                                                                                                                                                                                                                                                                                                                                                                                                                                                                                                                                                                                                                                                                                                                                                                                                                                                                                                                                                                                                                                                                                                                                                                                                                                                                                                                                                                                                                                                                                                                                                                                                                                                                                                                                                                                                                                                                                                                                                                                                                                                                                                                                                                                                                                                                                                                                                                                                                                                                                                                                                                                                                                                                                                                                                                                                                                                                                                                                                                                                                                                       |\n",
            "|(558004,[4,5,6,7,8,9,10,11,12,1676,1677,1678,1679,1680,3371,3372,3373,3374,3375,3376,3377,3378,5074,5075,5076,5077,5078,6708,6709,6710,6711,6712,6713,6714,6715,6716,6717,6718,6719,6720,6721,6722,8386,8387,8388,8389,8390,8391,8392,8393,10136,10137,10138,10139,11809,11810,11811,11812,11813,11814,11815,11816,13494,13495,13496,13497,15153,15156,15157,16786,16787,16788,16789,16790,18387,18388,18389,20002,20003,20004,20005,20006,20007,20008,20009,20010,20011,21657,21658,21659,21660,21661,21662,21663,21664,21665,23252,23253,23254,23255,23256,23257,23258,23259,23260,23261,24864,24865,24866,24867,24868,24869,24870,24871,26468,26469,26470,26471,26472,28082,28083,28084,28085,28086,28087,29651,29658,29659,29660,29661,31289,31290,31291,32846,32847,32848,32849,34444,34445,34446,34447,34448,35982,35983,35984,35985,35986,37498,37499,37500,38999,39000,39001,39002,39003,40484,40485,40486,40487,40488,40489,40490,41917,41918,41919,41920,43392,43394,43395,44815,44816,44817,44818,44819,46208,46209,46210,46211,46212,46213,46214,47579,47580,47581,47582,48960,48961,48962,48963,50387,50388,50389,50390,50391,50392,51741,51742,51743,51744,51745,51746,53154,53155,54515,54516,54517,54518,54519,54520,54521,55852,55853,55854,55855,55856,55857,55858,55859,55860,55861,55862,55863,55864,55865,57158,58445,58446,58447,58448,58449,58450,58451,59788,59789,59790,59791,59792,59793,59794,59795,61095,61096,61097,61098,61099,61100,61101,61102,61103,61104,61105,62345,63599,63600,63601,63602,64820,64821,64822,64823,64824,65771,65998,66181,66854,66855,67401,68008,68009,68010,68266,69144,69145,70058,70427,70790,71516,71905,71906,72336,72791,73255,74253,74254,75914,75915,75916,75917,75918,75919,75920,77662,77663,77664,77665,77666,77667,77668,79346,79347,81039,81040,81041,81042,81043,81044,81045,82743,82744,82745,82746,84446,84447,84448,84449,84450,84451,84452,84453,86124,86125,86126,86127,87771,87772,87773,87774,87775,87776,87777,87778,87779,89505,89506,89507,89508,89509,89510,91165,91166,91167,91168,91169,92886,92890,92891,92892,92893,92894,92895,94559,94560,94561,94562,94563,94564,96300,96301,96302,96303,98074,98075,98076,98077,98078,98079,98080,98081,99792,99793,99794,101444,101445,101446,101447,101448,101449,103043,103044,103045,103046,103047,103048,104779,104780,104781,104782,104783,104784,106462,106463,108156,108157,108158,108159,108160,108161,108162,109866,109867,109868,109869,111520,111521,111522,111523,111524,111525,111526,113217,113218,113219,113220,113221,113222,113223,113224,114846,114847,114848,114849,114850,114851,114852,114853,114854,114855,114856,114857,116558,116559,116560,116561,116562,116563,116564,118261,118262,118263,118264,118265,118266,119930,119931,119932,119933,119934,119935,119936,119937,121672,121677,121678,121679,123405,123406,123407,123408,123409,123410,123411,123412,123413,123414,123415,125147,125148,125149,125150,125151,125152,126882,126883,126884,126885,126886,126887,126888,128554,128555,128556,128557,128558,128559,128560,128561,128562,128563,128564,130259,130260,130261,130262,130263,130264,131948,131949,131950,131951,133636,133637,133638,135288,135289,135290,135291,135292,135293,137039,137040,137041,137042,137043,137044,137045,137046,138735,138736,138737,138738,138739,138740,138741,138742,138743,140403,140404,140405,140406,140407,140408,140409,140410,142067,142068,142069,142070,142071,142072,142073,142074,143749,143750,143751,143752,143753,143754,145444,145445,145446,145447,145448,145449,147153,147154,148801,148802,148803,150472,150473,150474,152126,152129,152130,152131,152132,152133,153866,153867,153868,153869,153870,153871,155571,155572,155573,155574,155575,155576,157219,157220,157221,158958,158959,158960,158961,158962,158963,158964,160676,160677,160678,160679,160680,160681,160682,162347,162348,162349,162350,164114,164115,164116,165768,165769,165770,165771,165772,165773,165774,167542,167543,167544,167545,278621,278622,278623,278624,278625,278626,278627,278628,278629,278630,278631,280325,282023,282024,282025,282026,282027,282028,283692,283693,283694,283695,283696,285415,285416,285417,285418,285419,285420,287139,287140,287141,287142,288848,290566,290569,290570,290571,290572,290573,290574,290575,290576,290577,290578,290579,290580,290581,290582,292265,292266,292267,292268,292269,292270,292271,293930,293931,293932,293933,293934,293935,293936,293937,295585,295586,295587,295588,295589,295590,297134,297135,297136,297137,297138,297139,297140,297141,297142,298742,298743,298744,298745,298746,298747,298748,298749,298750,298751,298752,300443,300444,300445,300446,300447,300448,300449,300450,300451,300452,300453,300454,300455,300456,300457,300458,300459,302036,302037,302038,302039,302040,303626,303627,303628,303629,305198,305201,305202,306796,306801,306802,306803,306804,308394,308395,308396,308397,308398,308399,308400,308401,310023,310024,311606,311607,311608,311609,311610,313231,313232,313233,314786,314787,314788,314789,314790,316328,316329,317808,317809,317810,319343,319344,319345,319346,320780,320781,322194,322195,322196,322197,322198,322199,323748,323749,323750,323751,325161,325162,326530,326532,326533,327944,327945,327946,327947,329277,329278,330607,330610,330611,330612,330613,330614,331929,331930,331931,331932,331933,331934,331935,333316,333317,333318,333319,334662,334663,334664,335965,335966,335967,335968,337284,337285,337286,338536,338537,338538,338539,339857,339858,339859,339860,339861,339862,339863,341083,341084,341085,342350,342352,342353,343521,343522,343523,343524,343525,343526,344222,344293,344294,344339,344340,344509,344588,345107,345399,345950,346184,346634,346919,346920,347202,347203,347204,348149,348150,348151,348482,348818,349496,349864,349865,350287,350680,351100,351588,351589,351590,353111,353112,353113,353114,353115,353116,353117,353118,354786,354787,354788,354789,354790,356504,356505,356506,356507,358163,358164,358165,358166,358167,358168,358169,358170,358171,358172,358173,359875,359876,359877,359878,359879,359880,359881,361603,361604,361605,361606,361607,361608,363310,363311,363312,363313,365040,365041,365042,365043,365044,365045,366787,366788,366789,366790,366791,366792,368495,368497,368498,368499,368500,368501,368502,368503,370262,370263,370264,372024,372025,372026,372027,372028,373709,373710,373711,373712,375395,375396,375397,375398,375399,375400,375401,375402,375403,377029,377030,377031,377032,377033,377034,377035,377036,377037,377038,378734,378740,378741,378742,378743,378744,378745,380430,380431,380432,380433,380434,380435,380436,380437,380438,380439,382177,382178,382179,382180,382181,382182,382183,382184,383959,383960,383961,385620,385621,385622,385623,385624,385625,385626,387294,387295,387296,387297,387298,387299,387300,387301,387302,387303,387304,388962,388963,388964,388965,388966,390625,390626,390627,392281,392282,392283,392284,392285,392286,392287,393892,393893,393894,393895,393896,395555,395558,395559,395560,395561,395562,395563,397313,397314,397315,397316,397317,397318,397319,397320,397321,397322,397323,397324,399038,399039,399040,399041,399042,399043,399044,399045,400748,400751,400752,400753,400754,400755,400756,402435,402436,402437,402438,402439,402440,402441,402442,402443,404158,404159,404160,404161,405823,405824,405825,405826,405827,405828,405829,405830,407544,407545,407546,407547,409233,409234,409235,409236,409237,409238,410910,410911,410912,410913,412629,412630,412631,412632,412633,412634,412635,412636,412637,412638,412639,412640,412641,412642,414302,414303,414304,414305,414306,414307,414308,414309,414310,414311,415929,415930,415931,415932,415933,415934,415935,415936,415937,415938,415939,415940,417645,417646,417647,417648,417649,417650,417651,417652,419375,419376,419377,419378,419379,419380,421083,421084,421085,421086,421087,421088,421089,421090,421091,421092,421093,421094,422753,422754,422755,422756,422757,422758,422759,422760,422761,422762,424449,424450,424451,424452,426182,426183,426184,426185,426186,426187,427821,427822,427823,427824,427825,427826,427827,427828,429515,429516,429517,429518,429519,429520,429521,431293,431294,431295,431296,431297,431298,431299,431300,431301,432996,432997,432998,432999,433000,433001,433002,433003,433004,433005,434702,434705,434706,434707,434708,434709,434710,436395,436396,436397,436398,438118,438119,438120,438121,438122,438123,438124,439855,439856,441616,441617,441618,441619,441620,441621,441622,441623,441624,441625,441626,441627,441628,441629,443407,443408,443409,443410,443411,443412,443413,443414,443415,443416,443417,445078,445079,445080,445081,445082,445083,445084,446770,446771,446772,446773,446774,446775,446776,446777,446778],[1.0,1.0,1.0,1.0,1.0,1.0,1.0,1.0,1.0,1.0,1.0,1.0,1.0,1.0,1.0,1.0,1.0,1.0,1.0,1.0,1.0,1.0,1.0,1.0,1.0,1.0,1.0,1.0,1.0,1.0,1.0,1.0,1.0,1.0,1.0,1.0,1.0,1.0,1.0,1.0,1.0,1.0,1.0,1.0,1.0,1.0,1.0,1.0,1.0,1.0,1.0,1.0,1.0,1.0,1.0,1.0,1.0,1.0,1.0,1.0,1.0,1.0,1.0,1.0,1.0,1.0,1.0,1.0,1.0,1.0,1.0,1.0,1.0,1.0,1.0,1.0,1.0,1.0,1.0,1.0,1.0,1.0,1.0,1.0,1.0,1.0,1.0,1.0,1.0,1.0,1.0,1.0,1.0,1.0,1.0,1.0,1.0,1.0,1.0,1.0,1.0,1.0,1.0,1.0,1.0,1.0,1.0,1.0,1.0,1.0,1.0,1.0,1.0,1.0,1.0,1.0,1.0,1.0,1.0,1.0,1.0,1.0,1.0,1.0,1.0,1.0,1.0,1.0,1.0,1.0,1.0,1.0,1.0,1.0,1.0,1.0,1.0,1.0,1.0,1.0,1.0,1.0,1.0,1.0,1.0,1.0,1.0,1.0,1.0,1.0,1.0,1.0,1.0,1.0,1.0,1.0,1.0,1.0,1.0,1.0,1.0,1.0,1.0,1.0,1.0,1.0,1.0,1.0,1.0,1.0,1.0,1.0,1.0,1.0,1.0,1.0,1.0,1.0,1.0,1.0,1.0,1.0,1.0,1.0,1.0,1.0,1.0,1.0,1.0,1.0,1.0,1.0,1.0,1.0,1.0,1.0,1.0,1.0,1.0,1.0,1.0,1.0,1.0,1.0,1.0,1.0,1.0,1.0,1.0,1.0,1.0,1.0,1.0,1.0,1.0,1.0,1.0,1.0,1.0,1.0,1.0,1.0,1.0,1.0,1.0,1.0,1.0,1.0,1.0,1.0,1.0,1.0,1.0,1.0,1.0,1.0,1.0,1.0,1.0,1.0,1.0,1.0,1.0,1.0,1.0,1.0,1.0,1.0,1.0,1.0,1.0,1.0,1.0,1.0,1.0,1.0,1.0,1.0,1.0,1.0,1.0,1.0,1.0,1.0,1.0,1.0,1.0,1.0,1.0,1.0,1.0,1.0,1.0,1.0,1.0,1.0,1.0,1.0,1.0,1.0,1.0,1.0,1.0,1.0,1.0,1.0,1.0,1.0,1.0,1.0,1.0,1.0,1.0,1.0,1.0,1.0,1.0,1.0,1.0,1.0,1.0,1.0,1.0,1.0,1.0,1.0,1.0,1.0,1.0,1.0,1.0,1.0,1.0,1.0,1.0,1.0,1.0,1.0,1.0,1.0,1.0,1.0,1.0,1.0,1.0,1.0,1.0,1.0,1.0,1.0,1.0,1.0,1.0,1.0,1.0,1.0,1.0,1.0,1.0,1.0,1.0,1.0,1.0,1.0,1.0,1.0,1.0,1.0,1.0,1.0,1.0,1.0,1.0,1.0,1.0,1.0,1.0,1.0,1.0,1.0,1.0,1.0,1.0,1.0,1.0,1.0,1.0,1.0,1.0,1.0,1.0,1.0,1.0,1.0,1.0,1.0,1.0,1.0,1.0,1.0,1.0,1.0,1.0,1.0,1.0,1.0,1.0,1.0,1.0,1.0,1.0,1.0,1.0,1.0,1.0,1.0,1.0,1.0,1.0,1.0,1.0,1.0,1.0,1.0,1.0,1.0,1.0,1.0,1.0,1.0,1.0,1.0,1.0,1.0,1.0,1.0,1.0,1.0,1.0,1.0,1.0,1.0,1.0,1.0,1.0,1.0,1.0,1.0,1.0,1.0,1.0,1.0,1.0,1.0,1.0,1.0,1.0,1.0,1.0,1.0,1.0,1.0,1.0,1.0,1.0,1.0,1.0,1.0,1.0,1.0,1.0,1.0,1.0,1.0,1.0,1.0,1.0,1.0,1.0,1.0,1.0,1.0,1.0,1.0,1.0,1.0,1.0,1.0,1.0,1.0,1.0,1.0,1.0,1.0,1.0,1.0,1.0,1.0,1.0,1.0,1.0,1.0,1.0,1.0,1.0,1.0,1.0,1.0,1.0,1.0,1.0,1.0,1.0,1.0,1.0,1.0,1.0,1.0,1.0,1.0,1.0,1.0,1.0,1.0,1.0,1.0,1.0,1.0,1.0,1.0,1.0,1.0,1.0,1.0,1.0,1.0,1.0,1.0,1.0,1.0,1.0,1.0,1.0,1.0,1.0,1.0,1.0,1.0,1.0,1.0,1.0,1.0,1.0,1.0,1.0,1.0,1.0,1.0,1.0,1.0,1.0,1.0,1.0,1.0,1.0,1.0,1.0,1.0,1.0,1.0,1.0,1.0,1.0,1.0,1.0,1.0,1.0,1.0,1.0,1.0,1.0,1.0,1.0,1.0,1.0,1.0,1.0,1.0,1.0,1.0,1.0,1.0,1.0,1.0,1.0,1.0,1.0,1.0,1.0,1.0,1.0,1.0,1.0,1.0,1.0,1.0,1.0,1.0,1.0,1.0,1.0,1.0,1.0,1.0,1.0,1.0,1.0,1.0,1.0,1.0,1.0,1.0,1.0,1.0,1.0,1.0,1.0,1.0,1.0,1.0,1.0,1.0,1.0,1.0,1.0,1.0,1.0,1.0,1.0,1.0,1.0,1.0,1.0,1.0,1.0,1.0,1.0,1.0,1.0,1.0,1.0,1.0,1.0,1.0,1.0,1.0,1.0,1.0,1.0,1.0,1.0,1.0,1.0,1.0,1.0,1.0,1.0,1.0,1.0,1.0,1.0,1.0,1.0,1.0,1.0,1.0,1.0,1.0,1.0,1.0,1.0,1.0,1.0,1.0,1.0,1.0,1.0,1.0,1.0,1.0,1.0,1.0,1.0,1.0,1.0,1.0,1.0,1.0,1.0,1.0,1.0,1.0,1.0,1.0,1.0,1.0,1.0,1.0,1.0,1.0,1.0,1.0,1.0,1.0,1.0,1.0,1.0,1.0,1.0,1.0,1.0,1.0,1.0,1.0,1.0,1.0,1.0,1.0,1.0,1.0,1.0,1.0,1.0,1.0,1.0,1.0,1.0,1.0,1.0,1.0,1.0,1.0,1.0,1.0,1.0,1.0,1.0,1.0,1.0,1.0,1.0,1.0,1.0,1.0,1.0,1.0,1.0,1.0,1.0,1.0,1.0,1.0,1.0,1.0,1.0,1.0,1.0,1.0,1.0,1.0,1.0,1.0,1.0,1.0,1.0,1.0,1.0,1.0,1.0,1.0,1.0,1.0,1.0,1.0,1.0,1.0,1.0,1.0,1.0,1.0,1.0,1.0,1.0,1.0,1.0,1.0,1.0,1.0,1.0,1.0,1.0,1.0,1.0,1.0,1.0,1.0,1.0,1.0,1.0,1.0,1.0,1.0,1.0,1.0,1.0,1.0,1.0,1.0,1.0,1.0,1.0,1.0,1.0,1.0,1.0,1.0,1.0,1.0,1.0,1.0,1.0,1.0,1.0,1.0,1.0,1.0,1.0,1.0,1.0,1.0,1.0,1.0,1.0,1.0,1.0,1.0,1.0,1.0,1.0,1.0,1.0,1.0,1.0,1.0,1.0,1.0,1.0,1.0,1.0,1.0,1.0,1.0,1.0,1.0,1.0,1.0,1.0,1.0,1.0,1.0,1.0,1.0,1.0,1.0,1.0,1.0,1.0,1.0,1.0,1.0,1.0,1.0,1.0,1.0,1.0,1.0,1.0,1.0,1.0,1.0,1.0,1.0,1.0,1.0,1.0,1.0,1.0,1.0,1.0,1.0,1.0,1.0,1.0,1.0,1.0,1.0,1.0,1.0,1.0,1.0,1.0,1.0,1.0,1.0,1.0,1.0,1.0,1.0,1.0,1.0,1.0,1.0,1.0,1.0,1.0,1.0,1.0,1.0,1.0,1.0,1.0,1.0,1.0,1.0,1.0,1.0,1.0,1.0,1.0,1.0,1.0,1.0,1.0,1.0,1.0,1.0,1.0,1.0,1.0,1.0,1.0,1.0,1.0,1.0,1.0,1.0,1.0,1.0,1.0,1.0,1.0,1.0,1.0,1.0,1.0,1.0,1.0,1.0,1.0,1.0,1.0,1.0,1.0,1.0,1.0,1.0,1.0,1.0,1.0,1.0,1.0,1.0,1.0,1.0,1.0,1.0,1.0,1.0,1.0,1.0,1.0,1.0,1.0,1.0,1.0,1.0,1.0,1.0,1.0,1.0,1.0,1.0,1.0,1.0,1.0,1.0,1.0,1.0,1.0,1.0,1.0,1.0,1.0,1.0,1.0,1.0,1.0,1.0,1.0,1.0,1.0,1.0,1.0,1.0,1.0,1.0,1.0,1.0,1.0,1.0,1.0,1.0,1.0,1.0,1.0,1.0,1.0,1.0,1.0,1.0,1.0,1.0,1.0,1.0,1.0,1.0,1.0,1.0,1.0,1.0,1.0,1.0,1.0,1.0,1.0,1.0,1.0,1.0,1.0,1.0,1.0,1.0,1.0,1.0,1.0,1.0,1.0,1.0,1.0,1.0,1.0,1.0,1.0,1.0,1.0,1.0,1.0,1.0,1.0,1.0,1.0,1.0,1.0,1.0,1.0,1.0,1.0,1.0,1.0,1.0,1.0,1.0,1.0,1.0,1.0,1.0,1.0,1.0,1.0,1.0,1.0,1.0,1.0,1.0,1.0,1.0,1.0,1.0,1.0,1.0,1.0,1.0,1.0,1.0,1.0,1.0,1.0,1.0,1.0,1.0,1.0,1.0,1.0,1.0,1.0,1.0,1.0,1.0,1.0,1.0,1.0,1.0,1.0,1.0,1.0,1.0,1.0,1.0,1.0,1.0,1.0,1.0,1.0,1.0,1.0,1.0,1.0,1.0,1.0,1.0,1.0,1.0,1.0,1.0,1.0,1.0,1.0,1.0,1.0,1.0,1.0,1.0,1.0,1.0,1.0,1.0,1.0,1.0,1.0,1.0,1.0,1.0,1.0,1.0,1.0,1.0,1.0,1.0,1.0,1.0,1.0,1.0,1.0,1.0,1.0,1.0,1.0,1.0,1.0,1.0,1.0,1.0,1.0,1.0,1.0,1.0,1.0,1.0,1.0,1.0,1.0,1.0,1.0,1.0,1.0,1.0,1.0,1.0,1.0,1.0,1.0,1.0,1.0,1.0,1.0,1.0,1.0,1.0,1.0,1.0,1.0,1.0,1.0,1.0,1.0,1.0,1.0,1.0,1.0,1.0,1.0,1.0,1.0,1.0,1.0,1.0,1.0,1.0,1.0,1.0,1.0,1.0,1.0,1.0,1.0,1.0,1.0,1.0,1.0,1.0,1.0,1.0,1.0,1.0,1.0,1.0,1.0,1.0,1.0,1.0,1.0,1.0,1.0,1.0,1.0,1.0,1.0,1.0,1.0,1.0,1.0,1.0,1.0,1.0,1.0,1.0,1.0,1.0,1.0,1.0,1.0,1.0,1.0,1.0,1.0,1.0,1.0,1.0,1.0,1.0,1.0,1.0,1.0,1.0,1.0,1.0,1.0,1.0,1.0,1.0,1.0,1.0])|\n",
            "|(558004,[11,6723,6724,6725,6726,10140,11817,15153,15158,15159,21666,23248,23262,24872,29662,31292,32850,34449,35981,39004,40491,44820,46215,48964,50393,54522,55851,57162,62346,65904,67402,68008,68836,69146,70428,70791,72337,77669,77670,79348,79349,81046,82747,86128,87780,87781,92896,98082,98083,99795,101450,106464,106465,108163,109870,113225,116565,116566,116567,119938,121680,123416,123417,128562,131952,133639,133640,135294,137047,140411,140412,147155,152134,155577,157222,158965,164117,165775,278632,278633,280326,287143,287144,293938,302039,302041,302042,302043,305198,305203,310025,310026,311611,319347,320782,320783,322200,327948,329279,331936,331937,337284,342350,342354,344767,345951,350681,353119,354791,356508,365046,368495,372029,377039,378734,380440,382185,382186,382187,385627,385628,387305,388967,390628,392288,395564,395565,402429,402444,405831,407548,414312,417653,417654,419381,422763,424453,424454,427829,427830,429522,434711,438125,445085],[1.0,1.0,1.0,1.0,1.0,1.0,1.0,1.0,1.0,1.0,1.0,1.0,1.0,1.0,1.0,1.0,1.0,1.0,1.0,1.0,1.0,1.0,1.0,1.0,1.0,1.0,1.0,1.0,1.0,1.0,1.0,1.0,1.0,1.0,1.0,1.0,1.0,1.0,1.0,1.0,1.0,1.0,1.0,1.0,1.0,1.0,1.0,1.0,1.0,1.0,1.0,1.0,1.0,1.0,1.0,1.0,1.0,1.0,1.0,1.0,1.0,1.0,1.0,1.0,1.0,1.0,1.0,1.0,1.0,1.0,1.0,1.0,1.0,1.0,1.0,1.0,1.0,1.0,1.0,1.0,1.0,1.0,1.0,1.0,1.0,1.0,1.0,1.0,1.0,1.0,1.0,1.0,1.0,1.0,1.0,1.0,1.0,1.0,1.0,1.0,1.0,1.0,1.0,1.0,1.0,1.0,1.0,1.0,1.0,1.0,1.0,1.0,1.0,1.0,1.0,1.0,1.0,1.0,1.0,1.0,1.0,1.0,1.0,1.0,1.0,1.0,1.0,1.0,1.0,1.0,1.0,1.0,1.0,1.0,1.0,1.0,1.0,1.0,1.0,1.0,1.0,1.0,1.0,1.0])                                                                                                                                                                                                                                                                                                                                                                                                                                                                                                                                                                                                                                                                                                                                                                                                                                                                                                                                                                                                                                                                                                                                                                                                                                                                                                                                                                                                                                                                                                                                                                                                                                                                                                                                                                                                                                                                                                                                                                                                                                                                                                                                                                                                                                                                                                                                                                                                                                                                                                                                                                                                                                                                                                                                                                                                                                                                                                                                                                                                                                                                                                                                                                                                                                                                                                                                                                                                                                                                                                                                                                                                                                                                                                                                                                                                                                                                                                                                                                                                                                                                                                                                                                                                                                                                                                                                                                                                                                                                                                                                                                                                                                                                                                                                                                                                                                                                                                                                                                                                                                                                                                                                                                                                                                                                                                                                                                                                                                                                                                                                                                                                                                                                                                                                                                                                                                                                                                                                                                                                                                                                                                                                                                                                                                                                                                                                                                                                                                                                                                                                                                                                                                                                                                                                                                                                                                                                                                                                                                                                                                                                                                                                                                                                                                                                                                                                                                                                                                                                                                                                                                                                                                                                                                                                                                                                                                                                                                                                                                                                                                                                                                                                                                                                                                                                                                                                                                                                                                                                                                                                                                                                                                                                                                                                                                                                                                                                                                                                                                                                                                                                                                                                                                                                                                                                                                                                                                                                                                                                                                                                                                                                                                                                                                                                                                                                                                                                                                                                                                                                                                                                                                                                                                                                                                                                                                                                                                                                                                                                                                                                                                                                                                                                                                                                                                                                                                                                                                                                                                                                                                                                                                                                                                                                                                                                                                                                                                                                                                                                                                                                                                                                                                                                                                                                                                                                                                                                                                                                                                                                                                                                                                                                                                                                                                                                                                                                                                                                                                                                                                                                                                                                                                  |\n",
            "|(558004,[13,14,15,16,1681,1682,3379,6727,6728,8394,11818,11819,13498,18390,18391,18392,18393,18394,21667,23263,23264,23265,24873,24874,26473,28088,28089,29663,31293,31294,31295,35987,37501,37502,37503,39005,39006,40492,41921,43396,44821,44822,44823,44824,47583,48965,54523,54524,57163,57164,58452,58453,61106,62347,64825,64826,66384,67189,67584,67585,67797,68008,68546,70059,70060,73256,73257,75921,75922,77671,77672,77673,77674,79350,81047,81048,82748,82749,84454,84455,84456,84457,84458,84459,86129,87782,89511,92897,92898,94565,94566,94567,98084,98085,99796,103049,103050,103051,104785,104786,104787,108164,108165,108166,109871,111527,111528,113226,114858,116568,116569,118267,118268,121681,123418,125153,125154,125155,126889,128562,128565,131953,131954,133641,135295,135296,135297,135298,135299,140413,140414,140415,142075,143755,145450,147156,148804,148805,150475,150476,150477,153872,153873,155569,155578,158966,160683,160684,162351,164118,164119,164120,167546,167547,278634,280327,280328,280329,282029,285421,285422,287144,288849,290583,290584,295591,298753,300460,305204,305205,311612,311613,313234,313235,313236,313237,314791,317811,319348,320784,325163,326534,327949,331938,333320,333321,334665,338540,341086,341087,342355,342356,343527,343528,347205,348483,353113,353120,353121,354792,354793,354794,354795,354796,354797,356509,356510,358174,363314,365047,365048,365049,368495,370265,370266,372030,372031,373713,373714,373715,373716,377040,378746,378747,378748,380441,380442,382188,382189,383962,383963,383964,383965,383966,383967,385629,388968,390629,392289,393897,397325,400757,400758,400759,402428,402430,402445,404162,405832,405833,410914,414313,415941,415942,415943,417655,421095,424455,424456,424457,426188,429523,429524,429525,434712,436399,441630,443418,445086,445087,446767],[1.0,1.0,1.0,1.0,1.0,1.0,1.0,1.0,1.0,1.0,1.0,1.0,1.0,1.0,1.0,1.0,1.0,1.0,1.0,1.0,1.0,1.0,1.0,1.0,1.0,1.0,1.0,1.0,1.0,1.0,1.0,1.0,1.0,1.0,1.0,1.0,1.0,1.0,1.0,1.0,1.0,1.0,1.0,1.0,1.0,1.0,1.0,1.0,1.0,1.0,1.0,1.0,1.0,1.0,1.0,1.0,1.0,1.0,1.0,1.0,1.0,1.0,1.0,1.0,1.0,1.0,1.0,1.0,1.0,1.0,1.0,1.0,1.0,1.0,1.0,1.0,1.0,1.0,1.0,1.0,1.0,1.0,1.0,1.0,1.0,1.0,1.0,1.0,1.0,1.0,1.0,1.0,1.0,1.0,1.0,1.0,1.0,1.0,1.0,1.0,1.0,1.0,1.0,1.0,1.0,1.0,1.0,1.0,1.0,1.0,1.0,1.0,1.0,1.0,1.0,1.0,1.0,1.0,1.0,1.0,1.0,1.0,1.0,1.0,1.0,1.0,1.0,1.0,1.0,1.0,1.0,1.0,1.0,1.0,1.0,1.0,1.0,1.0,1.0,1.0,1.0,1.0,1.0,1.0,1.0,1.0,1.0,1.0,1.0,1.0,1.0,1.0,1.0,1.0,1.0,1.0,1.0,1.0,1.0,1.0,1.0,1.0,1.0,1.0,1.0,1.0,1.0,1.0,1.0,1.0,1.0,1.0,1.0,1.0,1.0,1.0,1.0,1.0,1.0,1.0,1.0,1.0,1.0,1.0,1.0,1.0,1.0,1.0,1.0,1.0,1.0,1.0,1.0,1.0,1.0,1.0,1.0,1.0,1.0,1.0,1.0,1.0,1.0,1.0,1.0,1.0,1.0,1.0,1.0,1.0,1.0,1.0,1.0,1.0,1.0,1.0,1.0,1.0,1.0,1.0,1.0,1.0,1.0,1.0,1.0,1.0,1.0,1.0,1.0,1.0,1.0,1.0,1.0,1.0,1.0,1.0,1.0,1.0,1.0,1.0,1.0,1.0,1.0,1.0,1.0,1.0,1.0,1.0,1.0,1.0,1.0,1.0,1.0,1.0,1.0,1.0,1.0,1.0,1.0,1.0,1.0,1.0,1.0,1.0,1.0,1.0,1.0,1.0,1.0,1.0,1.0])                                                                                                                                                                                                                                                                                                                                                                                                                                                                                                                                                                                                                                                                                                                                                                                                                                                                                                                                                                                                                                                                                                                                                                                                                                                                                                                                                                                                                                                                                                                                                                                                                                                                                                                                                                                                                                                                                                                                                                                                                                                                                                                                                                                                                                                                                                                                                                                                                                                                                                                                                                                                                                                                                                                                                                                                                                                                                                                                                                                                                                                                                                                                                                                                                                                                                                                                                                                                                                                                                                                                                                                                                                                                                                                                                                                                                                                                                                                                                                                                                                                                                                                                                                                                                                                                                                                                                                                                                                                                                                                                                                                                                                                                                                                                                                                                                                                                                                                                                                                                                                                                                                                                                                                                                                                                                                                                                                                                                                                                                                                                                                                                                                                                                                                                                                                                                                                                                                                                                                                                                                                                                                                                                                                                                                                                                                                                                                                                                                                                                                                                                                                                                                                                                                                                                                                                                                                                                                                                                                                                                                                                                                                                                                                                                                                                                                                                                                                                                                                                                                                                                                                                                                                                                                                                                                                                                                                                                                                                                                                                                                                                                                                                                                                                                                                                                                                                                                                                                                                                                                                                                                                                                                                                                                                                                                                                                                                                                                                                                                                                                                                                                                                                                                                                                                                                                                                                                                                                                                                                                                                                                                                                                                                                                                                                                                                                                                                                                                                                                                                                                                                                                                                                                                                                                                                                                                                                                                                                                                                                                                                                                                                                                                                                                                                                                                                                                                                                                                                                                                                                                                                                                                                                                                                                                                     |\n",
            "+-------------------------------------------------------------------------------------------------------------------------------------------------------------------------------------------------------------------------------------------------------------------------------------------------------------------------------------------------------------------------------------------------------------------------------------------------------------------------------------------------------------------------------------------------------------------------------------------------------------------------------------------------------------------------------------------------------------------------------------------------------------------------------------------------------------------------------------------------------------------------------------------------------------------------------------------------------------------------------------------------------------------------------------------------------------------------------------------------------------------------------------------------------------------------------------------------------------------------------------------------------------------------------------------------------------------------------------------------------------------------------------------------------------------------------------------------------------------------------------------------------------------------------------------------------------------------------------------------------------------------------------------------------------------------------------------------------------------------------------------------------------------------------------------------------------------------------------------------------------------------------------------------------------------------------------------------------------------------------------------------------------------------------------------------------------------------------------------------------------------------------------------------------------------------------------------------------------------------------------------------------------------------------------------------------------------------------------------------------------------------------------------------------------------------------------------------------------------------------------------------------------------------------------------------------------------------------------------------------------------------------------------------------------------------------------------------------------------------------------------------------------------------------------------------------------------------------------------------------------------------------------------------------------------------------------------------------------------------------------------------------------------------------------------------------------------------------------------------------------------------------------------------------------------------------------------------------------------------------------------------------------------------------------------------------------------------------------------------------------------------------------------------------------------------------------------------------------------------------------------------------------------------------------------------------------------------------------------------------------------------------------------------------------------------------------------------------------------------------------------------------------------------------------------------------------------------------------------------------------------------------------------------------------------------------------------------------------------------------------------------------------------------------------------------------------------------------------------------------------------------------------------------------------------------------------------------------------------------------------------------------------------------------------------------------------------------------------------------------------------------------------------------------------------------------------------------------------------------------------------------------------------------------------------------------------------------------------------------------------------------------------------------------------------------------------------------------------------------------------------------------------------------------------------------------------------------------------------------------------------------------------------------------------------------------------------------------------------------------------------------------------------------------------------------------------------------------------------------------------------------------------------------------------------------------------------------------------------------------------------------------------------------------------------------------------------------------------------------------------------------------------------------------------------------------------------------------------------------------------------------------------------------------------------------------------------------------------------------------------------------------------------------------------------------------------------------------------------------------------------------------------------------------------------------------------------------------------------------------------------------------------------------------------------------------------------------------------------------------------------------------------------------------------------------------------------------------------------------------------------------------------------------------------------------------------------------------------------------------------------------------------------------------------------------------------------------------------------------------------------------------------------------------------------------------------------------------------------------------------------------------------------------------------------------------------------------------------------------------------------------------------------------------------------------------------------------------------------------------------------------------------------------------------------------------------------------------------------------------------------------------------------------------------------------------------------------------------------------------------------------------------------------------------------------------------------------------------------------------------------------------------------------------------------------------------------------------------------------------------------------------------------------------------------------------------------------------------------------------------------------------------------------------------------------------------------------------------------------------------------------------------------------------------------------------------------------------------------------------------------------------------------------------------------------------------------------------------------------------------------------------------------------------------------------------------------------------------------------------------------------------------------------------------------------------------------------------------------------------------------------------------------------------------------------------------------------------------------------------------------------------------------------------------------------------------------------------------------------------------------------------------------------------------------------------------------------------------------------------------------------------------------------------------------------------------------------------------------------------------------------------------------------------------------------------------------------------------------------------------------------------------------------------------------------------------------------------------------------------------------------------------------------------------------------------------------------------------------------------------------------------------------------------------------------------------------------------------------------------------------------------------------------------------------------------------------------------------------------------------------------------------------------------------------------------------------------------------------------------------------------------------------------------------------------------------------------------------------------------------------------------------------------------------------------------------------------------------------------------------------------------------------------------------------------------------------------------------------------------------------------------------------------------------------------------------------------------------------------------------------------------------------------------------------------------------------------------------------------------------------------------------------------------------------------------------------------------------------------------------------------------------------------------------------------------------------------------------------------------------------------------------------------------------------------------------------------------------------------------------------------------------------------------------------------------------------------------------------------------------------------------------------------------------------------------------------------------------------------------------------------------------------------------------------------------------------------------------------------------------------------------------------------------------------------------------------------------------------------------------------------------------------------------------------------------------------------------------------------------------------------------------------------------------------------------------------------------------------------------------------------------------------------------------------------------------------------------------------------------------------------------------------------------------------------------------------------------------------------------------------------------------------------------------------------------------------------------------------------------------------------------------------------------------------------------------------------------------------------------------------------------------------------------------------------------------------------------------------------------------------------------------------------------------------------------------------------------------------------------------------------------------------------------------------------------------------------------------------------------------------------------------------------------------------------------------------------------------------------------------------------------------------------------------------------------------------------------------------------------------------------------------------------------------------------------------------------------------------------------------------------------------------------------------------------------------------------------------------------------------------------------------------------------------------------------------------------------------------------------------------------------------------------------------------------------------------------------------------------------------------------------------------------------------------------------------------------------------------------------------------------------------------------------------------------------------------------------------------------------------------------------------------------------------------------------------------------------------------------------------------------------------------------------------------------------------------------------------------------------------------------------------------------------------------------------------------------------------------------------------------------------------------------------------------------------------------------------------------------------------------------------------------------------------------------------------------------------------------------------------------------------------------------------------------------------------------------------------------------------------------------------------------------------------------------------------------------------------------------------------------------------------------------------------------------------------------------------------------------------------------------------------------------------------------------------------------------------------------------------------------------------------------------------------------------------------------------------------------------------------------------------------------------------------------------------------------------------------------------------------+\n",
            "only showing top 5 rows\n",
            "\n"
          ]
        }
      ],
      "source": [
        "Job_df_proces.select(\"features\").show(5, truncate=False)"
      ]
    },
    {
      "cell_type": "markdown",
      "metadata": {
        "id": "D3g3O904xvZA"
      },
      "source": [
        "## Implementing MinHashLSH"
      ]
    },
    {
      "cell_type": "code",
      "execution_count": 54,
      "metadata": {
        "colab": {
          "base_uri": "https://localhost:8080/"
        },
        "id": "Ks6uAGuN5hcb",
        "outputId": "6db5eef5-6e0e-4080-b48c-ab0eee48086b"
      },
      "outputs": [
        {
          "name": "stdout",
          "output_type": "stream",
          "text": [
            "The hashed dataset where hashed values are stored in the column 'hashes':\n",
            "Computation time: 7.484 seconds\n",
            "------------------------------------\n"
          ]
        }
      ],
      "source": [
        "start = time.time()\n",
        "\n",
        "# Initialize MinHashLSH\n",
        "mh = MinHashLSH(inputCol=\"features\", outputCol=\"hashes\", seed=12345, numHashTables=20)\n",
        "model = mh.fit(Job_df_proces)\n",
        "print(\"The hashed dataset where hashed values are stored in the column 'hashes':\")\n",
        "hash = model.transform(Job_df_proces)\n",
        "\n",
        "# Compute the locality sensitive hashes for the input rows, then perform approximate\n",
        "# similarity join to Calculate Jaccard Distances.\n",
        "result = model.approxSimilarityJoin(hash, hash, 0.6, distCol=\"JaccardDistance\").select(\n",
        "    col(\"datasetA.id\").alias(\"idA\"),\n",
        "    col(\"datasetB.id\").alias(\"idB\"),\n",
        "    col(\"JaccardDistance\")\n",
        ")\n",
        "\n",
        "# Filter out self-pairs and display the results\n",
        "result_filtered = result.filter(col(\"idA\") < col(\"idB\"))\n",
        "\n",
        "end = time.time()\n",
        "computation_time = round(end - start, 3)\n",
        "print(\"Computation time: {} seconds\".format(computation_time))\n",
        "\n",
        "print('------------------------------------')\n",
        "\n",
        "# https://spark.apache.org/docs/2.2.0/ml-features.html\n",
        "# https://spark.apache.org/docs/3.1.1/api/python/reference/api/pyspark.ml.feature.MinHashLSH.html"
      ]
    },
    {
      "cell_type": "code",
      "execution_count": 55,
      "metadata": {
        "colab": {
          "base_uri": "https://localhost:8080/",
          "height": 187
        },
        "id": "_JLdmJFmc5Zm",
        "outputId": "e909fa13-f1ee-4831-a584-73b5b2933cf0"
      },
      "outputs": [
        {
          "data": {
            "text/html": [
              "<div style=\"max-width:800px; border: 1px solid var(--colab-border-color);\"><style>\n",
              "      pre.function-repr-contents {\n",
              "        overflow-x: auto;\n",
              "        padding: 8px 12px;\n",
              "        max-height: 500px;\n",
              "      }\n",
              "\n",
              "      pre.function-repr-contents.function-repr-contents-collapsed {\n",
              "        cursor: pointer;\n",
              "        max-height: 100px;\n",
              "      }\n",
              "    </style>\n",
              "    <pre style=\"white-space: initial; background:\n",
              "         var(--colab-secondary-surface-color); padding: 8px 12px;\n",
              "         border-bottom: 1px solid var(--colab-border-color);\"><b>pyspark.sql.dataframe.DataFrame</b><br/>def __init__(jdf: JavaObject, sql_ctx: Union[&#x27;SQLContext&#x27;, &#x27;SparkSession&#x27;])</pre><pre class=\"function-repr-contents function-repr-contents-collapsed\" style=\"\"><a class=\"filepath\" style=\"display:none\" href=\"#\">/usr/local/lib/python3.10/dist-packages/pyspark/sql/dataframe.py</a>A distributed collection of data grouped into named columns.\n",
              "\n",
              ".. versionadded:: 1.3.0\n",
              "\n",
              ".. versionchanged:: 3.4.0\n",
              "    Supports Spark Connect.\n",
              "\n",
              "Examples\n",
              "--------\n",
              "A :class:`DataFrame` is equivalent to a relational table in Spark SQL,\n",
              "and can be created using various functions in :class:`SparkSession`:\n",
              "\n",
              "&gt;&gt;&gt; people = spark.createDataFrame([\n",
              "...     {&quot;deptId&quot;: 1, &quot;age&quot;: 40, &quot;name&quot;: &quot;Hyukjin Kwon&quot;, &quot;gender&quot;: &quot;M&quot;, &quot;salary&quot;: 50},\n",
              "...     {&quot;deptId&quot;: 1, &quot;age&quot;: 50, &quot;name&quot;: &quot;Takuya Ueshin&quot;, &quot;gender&quot;: &quot;M&quot;, &quot;salary&quot;: 100},\n",
              "...     {&quot;deptId&quot;: 2, &quot;age&quot;: 60, &quot;name&quot;: &quot;Xinrong Meng&quot;, &quot;gender&quot;: &quot;F&quot;, &quot;salary&quot;: 150},\n",
              "...     {&quot;deptId&quot;: 3, &quot;age&quot;: 20, &quot;name&quot;: &quot;Haejoon Lee&quot;, &quot;gender&quot;: &quot;M&quot;, &quot;salary&quot;: 200}\n",
              "... ])\n",
              "\n",
              "Once created, it can be manipulated using the various domain-specific-language\n",
              "(DSL) functions defined in: :class:`DataFrame`, :class:`Column`.\n",
              "\n",
              "To select a column from the :class:`DataFrame`, use the apply method:\n",
              "\n",
              "&gt;&gt;&gt; age_col = people.age\n",
              "\n",
              "A more concrete example:\n",
              "\n",
              "&gt;&gt;&gt; # To create DataFrame using SparkSession\n",
              "... department = spark.createDataFrame([\n",
              "...     {&quot;id&quot;: 1, &quot;name&quot;: &quot;PySpark&quot;},\n",
              "...     {&quot;id&quot;: 2, &quot;name&quot;: &quot;ML&quot;},\n",
              "...     {&quot;id&quot;: 3, &quot;name&quot;: &quot;Spark SQL&quot;}\n",
              "... ])\n",
              "\n",
              "&gt;&gt;&gt; people.filter(people.age &gt; 30).join(\n",
              "...     department, people.deptId == department.id).groupBy(\n",
              "...     department.name, &quot;gender&quot;).agg({&quot;salary&quot;: &quot;avg&quot;, &quot;age&quot;: &quot;max&quot;}).show()\n",
              "+-------+------+-----------+--------+\n",
              "|   name|gender|avg(salary)|max(age)|\n",
              "+-------+------+-----------+--------+\n",
              "|     ML|     F|      150.0|      60|\n",
              "|PySpark|     M|       75.0|      50|\n",
              "+-------+------+-----------+--------+\n",
              "\n",
              "Notes\n",
              "-----\n",
              "A DataFrame should only be created as described above. It should not be directly\n",
              "created via using the constructor.</pre>\n",
              "      <script>\n",
              "      if (google.colab.kernel.accessAllowed && google.colab.files && google.colab.files.view) {\n",
              "        for (const element of document.querySelectorAll('.filepath')) {\n",
              "          element.style.display = 'block'\n",
              "          element.onclick = (event) => {\n",
              "            event.preventDefault();\n",
              "            event.stopPropagation();\n",
              "            google.colab.files.view(element.textContent, 80);\n",
              "          };\n",
              "        }\n",
              "      }\n",
              "      for (const element of document.querySelectorAll('.function-repr-contents')) {\n",
              "        element.onclick = (event) => {\n",
              "          event.preventDefault();\n",
              "          event.stopPropagation();\n",
              "          element.classList.toggle('function-repr-contents-collapsed');\n",
              "        };\n",
              "      }\n",
              "      </script>\n",
              "      </div>"
            ],
            "text/plain": [
              "pyspark.sql.dataframe.DataFrame"
            ]
          },
          "execution_count": 55,
          "metadata": {},
          "output_type": "execute_result"
        }
      ],
      "source": [
        "type(result_filtered)"
      ]
    },
    {
      "cell_type": "code",
      "execution_count": 56,
      "metadata": {
        "colab": {
          "base_uri": "https://localhost:8080/"
        },
        "id": "_a36H2GOvUN4",
        "outputId": "9148fd96-4aab-4bc3-ae45-65e4811985b3"
      },
      "outputs": [
        {
          "name": "stdout",
          "output_type": "stream",
          "text": [
            "+----+----+--------------------+\n",
            "| idA| idB|     JaccardDistance|\n",
            "+----+----+--------------------+\n",
            "|2196|3217| 0.03754266211604096|\n",
            "| 743| 949|                 0.0|\n",
            "| 431| 827|                 0.0|\n",
            "| 662| 984|                 0.0|\n",
            "| 654| 995|                 0.0|\n",
            "| 697|1013|0.018907563025210128|\n",
            "|2973|2995| 0.02898550724637683|\n",
            "|3363|3421|0.024324324324324298|\n",
            "|3795|4717|0.044642857142857095|\n",
            "| 912|3305|0.043624161073825496|\n",
            "|1311|1706|                 0.0|\n",
            "|2014|2942|  0.3739837398373984|\n",
            "|2007|2356|0.012383900928792602|\n",
            "| 910| 998|                 0.0|\n",
            "|2680|2970| 0.10399999999999998|\n",
            "|3324|3617|   0.038664323374341|\n",
            "|2808|3139| 0.13458262350936967|\n",
            "|2208|2209|  0.5513812154696133|\n",
            "| 158| 948|                 0.0|\n",
            "|  46| 576|                 0.0|\n",
            "+----+----+--------------------+\n",
            "only showing top 20 rows\n",
            "\n"
          ]
        }
      ],
      "source": [
        "result_filtered.show()"
      ]
    },
    {
      "cell_type": "code",
      "execution_count": 57,
      "metadata": {
        "colab": {
          "base_uri": "https://localhost:8080/"
        },
        "id": "AYWHOzqMv16I",
        "outputId": "ddf99c8a-e823-42c9-b06a-6a336deda059"
      },
      "outputs": [
        {
          "name": "stdout",
          "output_type": "stream",
          "text": [
            "+---+---+---------------+\n",
            "|idA|idB|JaccardDistance|\n",
            "+---+---+---------------+\n",
            "|626|838|            0.0|\n",
            "|576|948|            0.0|\n",
            "|431|626|            0.0|\n",
            "|817|918|            0.0|\n",
            "| 52|226|            0.0|\n",
            "|827|850|            0.0|\n",
            "|626|665|            0.0|\n",
            "|838|949|            0.0|\n",
            "|743|883|            0.0|\n",
            "|850|883|            0.0|\n",
            "+---+---+---------------+\n",
            "only showing top 10 rows\n",
            "\n"
          ]
        }
      ],
      "source": [
        "result_filtered.sort(result_filtered.JaccardDistance.asc()).show(10)"
      ]
    },
    {
      "cell_type": "code",
      "execution_count": 58,
      "metadata": {
        "colab": {
          "base_uri": "https://localhost:8080/"
        },
        "id": "CsuKatxZv12T",
        "outputId": "3aca83f0-0320-48b6-f649-65ee7c17443a"
      },
      "outputs": [
        {
          "name": "stdout",
          "output_type": "stream",
          "text": [
            "+----+----+------------------+\n",
            "| idA| idB|   JaccardDistance|\n",
            "+----+----+------------------+\n",
            "|3284|4955|0.5998985801217038|\n",
            "|4051|4261|0.5997536945812808|\n",
            "|3187|4189|0.5995115995115995|\n",
            "|3771|4880| 0.599294947121034|\n",
            "|3817|3882| 0.599224305106658|\n",
            "|3771|4808| 0.599121361889072|\n",
            "|1715|2249|0.5988235294117648|\n",
            "|2857|3735|0.5986984815618221|\n",
            "|3735|3810|0.5984807379272925|\n",
            "|3284|3801|0.5984251968503937|\n",
            "+----+----+------------------+\n",
            "only showing top 10 rows\n",
            "\n"
          ]
        }
      ],
      "source": [
        "result_filtered.sort(result_filtered.JaccardDistance.desc()).show(10)"
      ]
    },
    {
      "cell_type": "code",
      "execution_count": 59,
      "metadata": {
        "colab": {
          "base_uri": "https://localhost:8080/"
        },
        "id": "N4MhwwmOH0--",
        "outputId": "1f32bed8-13b5-45e5-d086-96bb8b8e3854"
      },
      "outputs": [
        {
          "name": "stdout",
          "output_type": "stream",
          "text": [
            "+----+----+-------------------+\n",
            "| idA| idB|    JaccardDistance|\n",
            "+----+----+-------------------+\n",
            "|1909|3014| 0.2005494505494505|\n",
            "|3058|3148| 0.2008196721311475|\n",
            "|2023|2036|0.20105820105820105|\n",
            "| 553|1909|0.20110192837465568|\n",
            "|2205|2223|0.20110192837465568|\n",
            "|1602|2205|0.20110192837465568|\n",
            "| 289|2572|  0.201641266119578|\n",
            "|2572|3421|  0.201641266119578|\n",
            "|4761|4840|0.20170454545454541|\n",
            "|3451|4840|0.20170454545454541|\n",
            "+----+----+-------------------+\n",
            "only showing top 10 rows\n",
            "\n"
          ]
        }
      ],
      "source": [
        "# JaccardDistance between 0.2 and 0.3\n",
        "filtered_result = result_filtered.filter((result_filtered.JaccardDistance >= 0.2) & (result_filtered.JaccardDistance <= 0.3))\n",
        "filtered_result.sort(filtered_result.JaccardDistance.asc()).show(10)"
      ]
    },
    {
      "cell_type": "markdown",
      "metadata": {
        "id": "qstGEpIdSZbc"
      },
      "source": [
        "#### Result of minhash function (hash values)"
      ]
    },
    {
      "cell_type": "code",
      "execution_count": 60,
      "metadata": {
        "colab": {
          "base_uri": "https://localhost:8080/"
        },
        "id": "fD4bpJ27Lus-",
        "outputId": "fe689ae8-283e-4d92-cafc-a4d3ee6e7f59"
      },
      "outputs": [
        {
          "name": "stdout",
          "output_type": "stream",
          "text": [
            "+----+--------------------+--------------------+--------------------+--------------------+\n",
            "|  Id|        Cleaned_text|            shingles|            features|              hashes|\n",
            "+----+--------------------+--------------------+--------------------+--------------------+\n",
            "|  40|job title food se...|[looking musthave...|(558004,[3368,507...|[[2.9382435E7], [...|\n",
            "|  45|responsibilities ...|[logistics system...|(558004,[0,1,2,3,...|[[8304474.0], [49...|\n",
            "| 160|profession regist...|[organizational v...|(558004,[4,5,6,7,...|[[5008270.0], [38...|\n",
            "| 589|apply job click l...|[skills must, ski...|(558004,[11,6723,...|[[1.3007104E7], [...|\n",
            "| 656|judge group curre...|[large army, expe...|(558004,[13,14,15...|[[1.441622E7], [5...|\n",
            "|1319|job title certifi...|[cnas responsible...|(558004,[17,1683,...|[[2301225.0], [87...|\n",
            "|1324|come join leader ...|[training leaders...|(558004,[18,19,16...|[[1.7307271E7], [...|\n",
            "|1507|visiting angels h...|[shopping errands...|(558004,[5081,839...|[[1930405.0], [85...|\n",
            "|1691|certified nursing...|[staff medical, s...|(558004,[20,1688,...|[[6565714.0], [28...|\n",
            "|1882|interested making...|[referafriend bon...|(558004,[21,1693,...|[[7904819.0], [28...|\n",
            "|2477|restaurant assist...|[champion unbridl...|(558004,[22,23,16...|[[4677281.0], [30...|\n",
            "|2499|steris help custo...|[summary supervis...|(558004,[24,1696,...|[[984112.0], [414...|\n",
            "|3230|facility profile ...|[state florida, w...|(558004,[25,1701,...|[[37819.0], [9739...|\n",
            "|4015|salary pay grade ...|[qualifications e...|(558004,[26,3390,...|[[5646911.0], [39...|\n",
            "|4101|want learn role j...|[skills proficien...|(558004,[27,28,17...|[[2038902.0], [18...|\n",
            "|4301|description acts ...|[er case, present...|(558004,[29,30,31...|[[2900035.0], [32...|\n",
            "|4626|salt lake city ma...|[customers invoic...|(558004,[32,33,34...|[[8412971.0], [1....|\n",
            "|4651|job description a...|[next realtime, l...|(558004,[35,36,37...|[[9426585.0], [37...|\n",
            "|4711|company descripti...|[reside legal, ho...|(558004,[38,39,40...|[[8514625.0], [40...|\n",
            "| 158|description resta...|[race color, seaf...|(558004,[42,43,44...|[[7620504.0], [43...|\n",
            "+----+--------------------+--------------------+--------------------+--------------------+\n",
            "only showing top 20 rows\n",
            "\n"
          ]
        }
      ],
      "source": [
        "hash.show()"
      ]
    },
    {
      "cell_type": "markdown",
      "metadata": {
        "id": "1YFR2Dy9WhfA"
      },
      "source": [
        "#### Sparce vector for first document , id = 160"
      ]
    },
    {
      "cell_type": "code",
      "execution_count": 61,
      "metadata": {
        "colab": {
          "base_uri": "https://localhost:8080/"
        },
        "id": "fEYHI8RjROKN",
        "outputId": "8309ed8c-a107-4346-c2c6-a2ea6907843d"
      },
      "outputs": [
        {
          "data": {
            "text/plain": [
              "SparseVector(558004, {3368: 1.0, 5072: 1.0, 8382: 1.0, 8383: 1.0, 10132: 1.0, 10133: 1.0, 10134: 1.0, 11808: 1.0, 13492: 1.0, 13493: 1.0, 15153: 1.0, 16783: 1.0, 16784: 1.0, 18384: 1.0, 18385: 1.0, 21656: 1.0, 23247: 1.0, 23248: 1.0, 24858: 1.0, 24859: 1.0, 26466: 1.0, 26467: 1.0, 29651: 1.0, 29652: 1.0, 32842: 1.0, 34440: 1.0, 35979: 1.0, 38996: 1.0, 40480: 1.0, 40481: 1.0, 41913: 1.0, 43392: 1.0, 44813: 1.0, 46206: 1.0, 47578: 1.0, 53150: 1.0, 54512: 1.0, 55850: 1.0, 55851: 1.0, 57158: 1.0, 58442: 1.0, 59783: 1.0, 63598: 1.0, 66527: 1.0, 67583: 1.0, 68008: 1.0, 68265: 1.0, 68545: 1.0, 69709: 1.0, 70789: 1.0, 73252: 1.0, 74248: 1.0, 74249: 1.0, 75911: 1.0, 77653: 1.0, 81037: 1.0, 84443: 1.0, 86122: 1.0, 87767: 1.0, 96293: 1.0, 96294: 1.0, 98068: 1.0, 98069: 1.0, 99790: 1.0, 101438: 1.0, 101439: 1.0, 101440: 1.0, 103036: 1.0, 103037: 1.0, 103038: 1.0, 104773: 1.0, 113211: 1.0, 113212: 1.0, 113213: 1.0, 114845: 1.0, 116554: 1.0, 118258: 1.0, 118259: 1.0, 119922: 1.0, 119923: 1.0, 119924: 1.0, 121672: 1.0, 121673: 1.0, 126875: 1.0, 126876: 1.0, 131943: 1.0, 131944: 1.0, 133634: 1.0, 137031: 1.0, 137032: 1.0, 137033: 1.0, 137034: 1.0, 137035: 1.0, 138730: 1.0, 140399: 1.0, 140400: 1.0, 140401: 1.0, 143747: 1.0, 143748: 1.0, 145440: 1.0, 145441: 1.0, 147149: 1.0, 147150: 1.0, 148798: 1.0, 150469: 1.0, 152126: 1.0, 152127: 1.0, 155565: 1.0, 155566: 1.0, 155567: 1.0, 155568: 1.0, 157213: 1.0, 157214: 1.0, 157215: 1.0, 158956: 1.0, 162342: 1.0, 165765: 1.0, 278619: 1.0, 280321: 1.0, 280322: 1.0, 280323: 1.0, 285413: 1.0, 287136: 1.0, 287137: 1.0, 292260: 1.0, 292261: 1.0, 293928: 1.0, 295580: 1.0, 297132: 1.0, 298734: 1.0, 298735: 1.0, 303621: 1.0, 303622: 1.0, 305196: 1.0, 305197: 1.0, 305198: 1.0, 306794: 1.0, 314784: 1.0, 317805: 1.0, 317806: 1.0, 322190: 1.0, 322191: 1.0, 323744: 1.0, 325159: 1.0, 326528: 1.0, 326529: 1.0, 326530: 1.0, 327938: 1.0, 327939: 1.0, 329272: 1.0, 329273: 1.0, 330606: 1.0, 330607: 1.0, 331926: 1.0, 334657: 1.0, 335962: 1.0, 335963: 1.0, 337280: 1.0, 337281: 1.0, 341081: 1.0, 342350: 1.0, 343519: 1.0, 343520: 1.0, 347201: 1.0, 347494: 1.0, 349143: 1.0, 349863: 1.0, 353108: 1.0, 359872: 1.0, 359873: 1.0, 361595: 1.0, 361596: 1.0, 363305: 1.0, 363306: 1.0, 366784: 1.0, 368495: 1.0, 372020: 1.0, 373704: 1.0, 375388: 1.0, 375389: 1.0, 375390: 1.0, 377026: 1.0, 377027: 1.0, 378734: 1.0, 378735: 1.0, 378736: 1.0, 380424: 1.0, 380425: 1.0, 382176: 1.0, 385617: 1.0, 388958: 1.0, 388959: 1.0, 390622: 1.0, 392276: 1.0, 392277: 1.0, 392278: 1.0, 393885: 1.0, 395555: 1.0, 397308: 1.0, 397309: 1.0, 397310: 1.0, 399030: 1.0, 400747: 1.0, 400748: 1.0, 402428: 1.0, 402429: 1.0, 402430: 1.0, 404153: 1.0, 404154: 1.0, 404155: 1.0, 410908: 1.0, 410909: 1.0, 415926: 1.0, 415927: 1.0, 417642: 1.0, 419372: 1.0, 419373: 1.0, 421080: 1.0, 426176: 1.0, 426177: 1.0, 426178: 1.0, 426179: 1.0, 426180: 1.0, 431290: 1.0, 434702: 1.0, 439851: 1.0, 439852: 1.0, 439853: 1.0, 443402: 1.0, 443403: 1.0, 445073: 1.0, 445074: 1.0, 446766: 1.0, 446767: 1.0})"
            ]
          },
          "execution_count": 61,
          "metadata": {},
          "output_type": "execute_result"
        }
      ],
      "source": [
        "hash.first()['features']"
      ]
    },
    {
      "cell_type": "markdown",
      "metadata": {
        "id": "NWOyzTwkWhfA"
      },
      "source": [
        "#### Signature vector for first document, id = 160\n",
        "Values inside DenseVector shows value of each hash function."
      ]
    },
    {
      "cell_type": "code",
      "execution_count": 62,
      "metadata": {
        "colab": {
          "base_uri": "https://localhost:8080/"
        },
        "id": "c9Z45IyVROG4",
        "outputId": "17eb0d42-0047-4ee4-8822-541b7f0ad18f"
      },
      "outputs": [
        {
          "data": {
            "text/plain": [
              "[DenseVector([29382435.0]),\n",
              " DenseVector([67391.0]),\n",
              " DenseVector([24946479.0]),\n",
              " DenseVector([15109894.0]),\n",
              " DenseVector([6009839.0]),\n",
              " DenseVector([8928521.0]),\n",
              " DenseVector([459012.0]),\n",
              " DenseVector([5302797.0]),\n",
              " DenseVector([5409404.0]),\n",
              " DenseVector([19769471.0]),\n",
              " DenseVector([224289.0]),\n",
              " DenseVector([118223.0]),\n",
              " DenseVector([18658145.0]),\n",
              " DenseVector([18318724.0]),\n",
              " DenseVector([4336886.0]),\n",
              " DenseVector([16571678.0]),\n",
              " DenseVector([5240649.0]),\n",
              " DenseVector([1428559.0]),\n",
              " DenseVector([8351152.0]),\n",
              " DenseVector([4989205.0])]"
            ]
          },
          "execution_count": 62,
          "metadata": {},
          "output_type": "execute_result"
        }
      ],
      "source": [
        "hash.first()['hashes']"
      ]
    },
    {
      "cell_type": "markdown",
      "metadata": {
        "id": "71mSHKCVzfu6"
      },
      "source": [
        "### Creating New dataframe in order to compare pair document with each other"
      ]
    },
    {
      "cell_type": "code",
      "execution_count": 70,
      "metadata": {
        "id": "0POYM2OLzXvY"
      },
      "outputs": [],
      "source": [
        "Job_df2 = Job_df.select('Id', \"Tokens stopwords removed\")"
      ]
    },
    {
      "cell_type": "code",
      "execution_count": 72,
      "metadata": {
        "id": "h5TnIF1WhZ44"
      },
      "outputs": [],
      "source": [
        "from pyspark.sql import DataFrame\n",
        "\n",
        "def analyze_text_by_id(df: DataFrame, id_number: int):\n",
        "    row_with_id = df.filter(df['ID'] == id_number).collect()\n",
        "    print(row_with_id)\n",
        "\n",
        "    if not row_with_id:\n",
        "        print(f\"No row found with ID {id_number}\")\n",
        "        return\n",
        "\n",
        "    txt = row_with_id[0][1:][0]\n",
        "\n",
        "    print(f\"Type of txt: {type(txt)}\")\n",
        "    print(f\"Length of txt: {len(txt)}\")\n",
        "    print(f\"Fourth character in txt: {txt[3]}\")\n",
        "\n",
        "    return txt"
      ]
    },
    {
      "cell_type": "code",
      "execution_count": 64,
      "metadata": {
        "id": "rya7IKnL6GLR"
      },
      "outputs": [],
      "source": [
        "def analyze_lists(text1, text2):\n",
        "    list1 = [word for word in text1 if word]\n",
        "    list2 = [word for word in text2 if word]\n",
        "\n",
        "    num_words_list1 = len(list1)\n",
        "    num_words_list2 = len(list2)\n",
        "    num_unique_words_list1 = len(set(list1))\n",
        "    num_unique_words_list2 = len(set(list2))\n",
        "\n",
        "    common_words = set(list1).intersection(list2)\n",
        "    num_common_words = len(common_words)\n",
        "\n",
        "    percentage_common_list1 = (num_common_words / num_unique_words_list1) * 100 if num_unique_words_list1 > 0 else 0\n",
        "    percentage_common_list2 = (num_common_words / num_unique_words_list2) * 100 if num_unique_words_list2 > 0 else 0\n",
        "\n",
        "    return (num_words_list1, num_words_list2, num_unique_words_list1,\n",
        "            num_unique_words_list2, num_common_words,\n",
        "            percentage_common_list1, percentage_common_list2)"
      ]
    },
    {
      "cell_type": "code",
      "execution_count": null,
      "metadata": {
        "id": "zpfXgancVA0h"
      },
      "outputs": [],
      "source": []
    },
    {
      "cell_type": "markdown",
      "metadata": {
        "id": "e_lwJOnlzKxD"
      },
      "source": [
        "### Comparing the Documents with 'ID' number of 1909 & 3014, which have Jaccard distance equal to 0.20\n",
        "\n"
      ]
    },
    {
      "cell_type": "code",
      "execution_count": 73,
      "metadata": {
        "colab": {
          "base_uri": "https://localhost:8080/"
        },
        "id": "3u49-zW9RN8b",
        "outputId": "ff902f9a-cb02-4c51-dd5b-b569e146cbc4"
      },
      "outputs": [
        {
          "name": "stdout",
          "output_type": "stream",
          "text": [
            "[Row(Id=1909, Tokens stopwords removed=['interested', 'making', 'positive', 'impact', 'youve', 'come', 'right', 'place', 'fusion', 'medical', 'staffing', 'goal', 'improve', 'lives', 'everyone', 'touch', 'always', 'looking', 'people', 'like', 'join', 'mission', 'making', 'difference', 'isnt', 'perk', 'traveling', 'us', 'start', 'medical', 'travel', 'career', 'fusion', 'medical', 'staffing', 'gain', 'access', 'competitive', 'pay', 'packages', 'comprehensive', 'benefits', 'corporate', 'discounts', 'perks', 'clinical', 'team', 'support', 'along', 'journey', 'recruiter', 'determined', 'help', 'succeed', 'weve', 'got', 'back', 'focus', 'best', 'helping', 'others', 'certified', 'nursing', 'assistant', 'skilled', 'nursing', 'facility', 'position', 'certified', 'nursing', 'assistant', 'specialty', 'skilled', 'nursing', 'facility', 'week', 'skilled', 'nursing', 'facility', 'certified', 'nursing', 'assistant', 'travel', 'assignment', 'client', 'de', 'smet', 'sd', 'looking', 'skilled', 'nursing', 'facility', 'certified', 'nursing', 'assistant', 'help', 'weeks', 'fusion', 'medical', 'truly', 'believe', 'people', 'taking', 'care', 'people', 'together', 'anything', 'benefits', 'include', 'paid', 'time', 'pto', 'hours', 'highly', 'competitive', 'pay', 'best', 'industry', 'medical', 'dental', 'vision', 'short', 'term', 'disability', 'k', 'aggressive', 'referafriend', 'bonus', 'program', 'recruiter', 'available', 'reimbursement', 'licensure', 'ceus', 'qualificationsrequirements', 'one', 'three', 'years', 'experience', 'certified', 'nursing', 'assistant', 'preferred', 'certifications', 'may', 'required', 'position', 'critical', 'thinking', 'service', 'excellence', 'good', 'interpersonal', 'communication', 'skills', 'ability', 'readcomprehend', 'written', 'instructions', 'ability', 'follow', 'verbal', 'instructions', 'pc', 'skills', 'physical', 'abilities', 'remain', 'stationary', 'position', 'move', 'move', 'equipment', 'lbs', 'pushing', 'pulling', 'bending', 'following', 'summary', 'major', 'job', 'duties', 'job', 'duties', 'may', 'performed', 'major', 'minor', 'mentioned', 'specific', 'activities', 'may', 'change', 'time', 'time', 'communicates', 'collaborates', 'physicians', 'health', 'team', 'members', 'provides', 'coordinates', 'patient', 'care', 'health', 'team', 'members', 'monitors', 'patients', 'responses', 'interventions', 'reports', 'outcomes', 'administers', 'medications', 'ordered', 'appropriate', 'documentation', 'monitor', 'evaluates', 'patients', 'post', 'procedure', 'depending', 'unit', 'shares', 'oncall', 'responsibilities', 'minute', 'response', 'time', 'required', 'maintains', 'cleanliness', 'rooms', 'adequate', 'stock', 'supplies', 'transports', 'patients', 'needed', 'performs', 'duties', 'assigned', 'required', 'essential', 'skills', 'interpersonal', 'skills', 'work', 'effectively', 'variety', 'personnel', 'professional', 'ancillary', 'present', 'positive', 'attitude', 'professional', 'appearance', 'technicalmotor', 'skills', 'ability', 'grasp', 'fine', 'manipulation', 'pushingpulling', 'able', 'move', 'assisting', 'procedures', 'andor', 'using', 'department', 'equipment', 'mental', 'requirements', 'must', 'able', 'cope', 'frequent', 'contact', 'general', 'public', 'customers', 'meeting', 'deadlines', 'pressure', 'must', 'able', 'work', 'close', 'supervision', 'occasionally', 'well', 'working', 'without', 'assistance', 'personnel', 'must', 'able', 'contend', 'irregular', 'activity', 'schedules', 'occasionally', 'continuous', 'concentration', 'detail', 'sensory', 'visual', 'acuity', 'ability', 'effectively', 'communicate', 'fusion', 'eoeeverify', 'employer', 'facility', 'details', 'facility', 'please', 'contact', 'facility', 'info', 'job', 'details', 'starts', 'assignment', 'length', 'shift', 'indicated', 'call', 'policy', 'hours', 'guaranteed', 'job', 'quantity', 'type', 'travel', 'show', 'show', 'less'])]\n",
            "Type of txt: <class 'list'>\n",
            "Length of txt: 344\n",
            "Fourth character in txt: impact\n"
          ]
        }
      ],
      "source": [
        "txt1 = analyze_text_by_id(Job_df2, 1909)"
      ]
    },
    {
      "cell_type": "code",
      "execution_count": 74,
      "metadata": {
        "colab": {
          "base_uri": "https://localhost:8080/"
        },
        "id": "ZPCo62tESFsv",
        "outputId": "beda93e9-3641-4902-b2f4-45ddc6c42062"
      },
      "outputs": [
        {
          "name": "stdout",
          "output_type": "stream",
          "text": [
            "[Row(Id=3014, Tokens stopwords removed=['interested', 'making', 'positive', 'impact', 'youve', 'come', 'right', 'place', 'fusion', 'medical', 'staffing', 'goal', 'improve', 'lives', 'everyone', 'touch', 'always', 'looking', 'people', 'like', 'join', 'mission', 'making', 'difference', 'isnt', 'perk', 'traveling', 'us', 'start', 'medical', 'travel', 'career', 'fusion', 'medical', 'staffing', 'gain', 'access', 'competitive', 'pay', 'packages', 'comprehensive', 'benefits', 'corporate', 'discounts', 'perks', 'clinical', 'team', 'support', 'along', 'journey', 'recruiter', 'determined', 'help', 'succeed', 'weve', 'got', 'back', 'focus', 'best', 'helping', 'others', 'technician', 'patient', 'care', 'position', 'technician', 'specialty', 'patient', 'care', 'week', 'patient', 'care', 'technician', 'travel', 'assignment', 'client', 'hackensack', 'nj', 'looking', 'patient', 'care', 'technician', 'help', 'weeks', 'fusion', 'medical', 'truly', 'believe', 'people', 'taking', 'care', 'people', 'together', 'anything', 'benefits', 'include', 'paid', 'time', 'pto', 'hours', 'highly', 'competitive', 'pay', 'best', 'industry', 'medical', 'dental', 'vision', 'short', 'term', 'disability', 'k', 'aggressive', 'referafriend', 'bonus', 'program', 'recruiter', 'available', 'reimbursement', 'licensure', 'ceus', 'qualificationsrequirements', 'one', 'three', 'years', 'experience', 'technician', 'preferred', 'certifications', 'may', 'required', 'position', 'critical', 'thinking', 'service', 'excellence', 'good', 'interpersonal', 'communication', 'skills', 'ability', 'readcomprehend', 'written', 'instructions', 'ability', 'follow', 'verbal', 'instructions', 'pc', 'skills', 'physical', 'abilities', 'remain', 'stationary', 'position', 'move', 'move', 'equipment', 'lbs', 'pushing', 'pulling', 'bending', 'following', 'summary', 'major', 'job', 'duties', 'job', 'duties', 'may', 'performed', 'major', 'minor', 'mentioned', 'specific', 'activities', 'may', 'change', 'time', 'time', 'communicates', 'collaborates', 'physicians', 'health', 'team', 'members', 'provides', 'coordinates', 'patient', 'care', 'health', 'team', 'members', 'monitors', 'patients', 'responses', 'interventions', 'reports', 'outcomes', 'administers', 'medications', 'ordered', 'appropriate', 'documentation', 'monitor', 'evaluates', 'patients', 'post', 'procedure', 'depending', 'unit', 'shares', 'oncall', 'responsibilities', 'minute', 'response', 'time', 'required', 'maintains', 'cleanliness', 'rooms', 'adequate', 'stock', 'supplies', 'transports', 'patients', 'needed', 'performs', 'duties', 'assigned', 'required', 'essential', 'skills', 'interpersonal', 'skills', 'work', 'effectively', 'variety', 'personnel', 'professional', 'ancillary', 'present', 'positive', 'attitude', 'professional', 'appearance', 'technicalmotor', 'skills', 'ability', 'grasp', 'fine', 'manipulation', 'pushingpulling', 'able', 'move', 'assisting', 'procedures', 'andor', 'using', 'department', 'equipment', 'mental', 'requirements', 'must', 'able', 'cope', 'frequent', 'contact', 'general', 'public', 'customers', 'meeting', 'deadlines', 'pressure', 'must', 'able', 'work', 'close', 'supervision', 'occasionally', 'well', 'working', 'without', 'assistance', 'personnel', 'must', 'able', 'contend', 'irregular', 'activity', 'schedules', 'occasionally', 'continuous', 'concentration', 'detail', 'sensory', 'visual', 'acuity', 'ability', 'effectively', 'communicate', 'fusion', 'eoeeverify', 'employer', 'facility', 'details', 'facility', 'please', 'contact', 'facility', 'info', 'facility', 'type', 'short', 'term', 'acute', 'care', 'hospital', 'number', 'beds', 'trauma', 'center', 'level', 'ii', 'pediatric', 'trauma', 'center', 'charting', 'system', 'epic', 'epic', 'systems', 'corporation', 'epic', 'systems', 'corporationidentity', 'epic', 'systems', 'corporation', 'epic', 'systems', 'corporationmychart', 'job', 'details', 'starts', 'assignment', 'length', 'shift', 'day', 'call', 'policy', 'please', 'contact', 'info', 'job', 'quantity', 'type', 'travel', 'show', 'show', 'less'])]\n",
            "Type of txt: <class 'list'>\n",
            "Length of txt: 361\n",
            "Fourth character in txt: impact\n"
          ]
        }
      ],
      "source": [
        "txt2 = analyze_text_by_id(Job_df2, 3014)"
      ]
    },
    {
      "cell_type": "code",
      "execution_count": 75,
      "metadata": {
        "colab": {
          "base_uri": "https://localhost:8080/"
        },
        "id": "AymhKdfOSJz7",
        "outputId": "05b647cb-b00f-4f63-aef9-53160352d794"
      },
      "outputs": [
        {
          "name": "stdout",
          "output_type": "stream",
          "text": [
            "Number of words in Text_1: 344\n",
            "Number of words in Text_2: 361\n",
            "Number of Unique words in Text_1: 249\n",
            "Number of Unique words in Text_2: 260\n",
            "Number of common Uniqe words: 240\n",
            "Percentage of common words in Text_1: 96.39%\n",
            "Percentage of common words in Text_2: 92.31%\n"
          ]
        }
      ],
      "source": [
        "# Comparing number of common words inside Documents with 'ID' number of 1909 & 3014\n",
        "\n",
        "(num_words_list1, num_words_list2, num_unique_words_list1,\n",
        " num_unique_words_list2, num_common_words,\n",
        " percentage_common_list1, percentage_common_list2) = analyze_lists(txt1, txt2)\n",
        "\n",
        "print(f\"Number of words in Text_1: {num_words_list1}\")\n",
        "print(f\"Number of words in Text_2: {num_words_list2}\")\n",
        "print(f\"Number of Unique words in Text_1: {num_unique_words_list1}\")\n",
        "print(f\"Number of Unique words in Text_2: {num_unique_words_list2}\")\n",
        "print(f\"Number of common Uniqe words: {num_common_words}\")\n",
        "print(f\"Percentage of common words in Text_1: {percentage_common_list1:.2f}%\")\n",
        "print(f\"Percentage of common words in Text_2: {percentage_common_list2:.2f}%\")"
      ]
    },
    {
      "cell_type": "code",
      "execution_count": null,
      "metadata": {
        "id": "07IsXkar8NtM"
      },
      "outputs": [],
      "source": []
    },
    {
      "cell_type": "markdown",
      "metadata": {
        "id": "YWCJl4vX8azC"
      },
      "source": [
        "### Comparing the Documents with 'ID' number of 3284 & 4955, which have Jaccard distance equal to 0.59"
      ]
    },
    {
      "cell_type": "code",
      "execution_count": 76,
      "metadata": {
        "colab": {
          "base_uri": "https://localhost:8080/"
        },
        "id": "OF9mSBuq8NZz",
        "outputId": "6a4764fa-da9b-460d-d163-3535e3df2edf"
      },
      "outputs": [
        {
          "name": "stdout",
          "output_type": "stream",
          "text": [
            "[Row(Id=3284, Tokens stopwords removed=['summary', 'position', 'eligible', 'education', 'debt', 'reduction', 'program', 'edrp', 'student', 'loan', 'payment', 'reimbursement', 'program', 'must', 'meet', 'specific', 'individual', 'eligibility', 'requirements', 'accordance', 'vha', 'policy', 'submit', 'edrp', 'application', 'within', 'four', 'months', 'appointment', 'approval', 'award', 'amount', 'eligibility', 'period', 'one', 'five', 'years', 'determined', 'vha', 'education', 'loan', 'repayment', 'services', 'program', 'office', 'complete', 'review', 'edrp', 'application', 'learn', 'agency', 'help', 'duties', 'staff', 'psychologist', 'position', 'fulltime', 'position', 'supporting', 'alcohol', 'drug', 'treatment', 'program', 'adtp', 'administered', 'mental', 'health', 'service', 'line', 'mhsl', 'located', 'grounds', 'va', 'boston', 'healthcare', 'system', 'vabhs', 'brockton', 'division', 'psychologist', 'provides', 'direct', 'care', 'services', 'including', 'consultation', 'diagnostic', 'assessment', 'evidencebased', 'individual', 'group', 'psychotherapy', 'substance', 'use', 'disorders', 'common', 'psychiatric', 'comorbidities', 'risk', 'assessment', 'treatment', 'planning', 'clinical', 'responsibilities', 'direct', 'service', 'provision', 'provides', 'full', 'range', 'therapeutic', 'services', 'interventions', 'adtp', 'including', 'psychiatric', 'assessments', 'individual', 'group', 'psychotherapy', 'selects', 'provides', 'appropriate', 'psychotherapeutic', 'techniques', 'providing', 'quality', 'care', 'including', 'evidencebased', 'care', 'substance', 'use', 'disorders', 'psychiatric', 'comorbidities', 'attends', 'adtp', 'treatment', 'team', 'meetings', 'serves', 'consultant', 'treatment', 'providers', 'completes', 'mental', 'health', 'intakes', 'makes', 'appropriate', 'treatment', 'recommendations', 'based', 'theseintake', 'interviews', 'provides', 'clinical', 'supervision', 'training', 'psychology', 'psychiatry', 'social', 'work', 'trainees', 'contributes', 'clinical', 'service', 'activities', 'eg', 'urgent', 'care', 'police', 'evaluations', 'compensation', 'pension', 'evaluations', 'requested', 'clinical', 'administrative', 'support', 'management', 'functions', 'completes', 'administrative', 'functions', 'including', 'report', 'progress', 'note', 'writing', 'attending', 'staff', 'organizational', 'meetings', 'keeps', 'informed', 'regarding', 'treatment', 'outcome', 'research', 'development', 'areas', 'substance', 'use', 'disorders', 'mental', 'health', 'related', 'fields', 'assists', 'implementation', 'modification', 'existing', 'treatments', 'based', 'developments', 'areas', 'practice', 'works', 'compliance', 'local', 'national', 'performance', 'measures', 'answers', 'clinic', 'consults', 'coordinates', 'patient', 'care', 'assists', 'tracking', 'clinic', 'data', 'responsible', 'timely', 'completion', 'clinical', 'charting', 'documentation', 'required', 'local', 'national', 'guidelines', 'timely', 'compliance', 'safetyfire', 'prevention', 'guidelines', 'trainings', 'completion', 'vamandated', 'trainings', 'renewing', 'clinical', 'privileges', 'schedule', 'completing', 'peer', 'reviews', 'per', 'psychology', 'service', 'guidelines', 'provides', 'clinical', 'service', 'ethical', 'manner', 'consistent', 'american', 'psychological', 'association', 'va', 'boston', 'healthcare', 'system', 'ethical', 'guidelines', 'provides', 'crossdisciplinary', 'clinical', 'consultation', 'clinical', 'guidance', 'mental', 'health', 'medical', 'staff', 'needed', 'enriching', 'elements', 'academicteachingtraining', 'may', 'pursue', 'faculty', 'appointment', 'boston', 'university', 'harvard', 'university', 'schools', 'medicine', 'provides', 'direct', 'education', 'psychology', 'interns', 'fellows', 'psychiatry', 'residents', 'clinical', 'forums', 'seminars', 'provides', 'supervision', 'direct', 'clinical', 'care', 'offered', 'trainees', 'attends', 'training', 'meetings', 'regarding', 'psychology', 'training', 'boston', 'brockton', 'serves', 'consultant', 'medical', 'mental', 'health', 'staff', 'trainees', 'issues', 'related', 'addiction', 'program', 'evaluation', 'contributes', 'development', 'innovative', 'clinical', 'services', 'better', 'meet', 'needs', 'veterans', 'within', 'adtp', 'assists', 'program', 'managers', 'assess', 'efficacy', 'programming', 'adjusts', 'programming', 'necessary', 'enhance', 'clinical', 'care', 'outcomes', 'assists', 'preparation', 'analysis', 'program', 'outcome', 'data', 'form', 'appropriate', 'questions', 'quality', 'improvement', 'projects', 'research', 'applicable', 'presents', 'research', 'results', 'va', 'regional', 'national', 'scientific', 'professional', 'meetings', 'may', 'assist', 'preparation', 'grant', 'proposals', 'scholarly', 'work', 'including', 'presentations', 'national', 'professional', 'conferences', 'publications', 'professional', 'journals', 'applicable', 'prepares', 'submits', 'manuscripts', 'peerreviewed', 'journals', 'may', 'serve', 'medical', 'center', 'healthcare', 'system', 'visn', 'andor', 'national', 'va', 'committees', 'task', 'forces', 'requested', 'actively', 'participates', 'local', 'state', 'andor', 'national', 'professional', 'organizations', 'assuming', 'leadership', 'roles', 'appropriate', 'work', 'schedule', 'mondayfriday', 'ampm', 'telework', 'available', 'functional', 'statement', 'f', 'f', 'f', 'edrp', 'authorized', 'contact', 'karenchapmanvagov', 'edrp', 'coordinator', 'questionsassistance', 'help', 'requirements', 'conditions', 'employment', 'must', 'us', 'citizen', 'apply', 'job', 'selective', 'service', 'registration', 'required', 'males', 'born', 'must', 'proficient', 'written', 'spoken', 'english', 'may', 'required', 'serve', 'probationary', 'period', 'subject', 'backgroundsecurity', 'investigation', 'selected', 'applicants', 'required', 'complete', 'online', 'onboarding', 'process', 'must', 'pass', 'preemployment', 'physical', 'examination', 'participation', 'seasonal', 'influenza', 'vaccination', 'program', 'requirement', 'department', 'veterans', 'affairs', 'health', 'care', 'personnel', 'hcp', 'participation', 'coronavirus', 'disease', 'covid', 'vaccination', 'program', 'requirement', 'veterans', 'health', 'administration', 'health', 'care', 'personnel', 'hcp', 'see', 'additional', 'information', 'details', 'qualifications', 'applicants', 'pending', 'completion', 'educational', 'certificationlicensure', 'requirements', 'may', 'referred', 'tentatively', 'selected', 'may', 'hired', 'requirements', 'met', 'basic', 'requirements', 'basic', 'requirements', 'employment', 'vha', 'psychologist', 'prescribed', 'public', 'law', 'codified', 'usc', 'qualify', 'appointment', 'psychologist', 'vha', 'applicants', 'must', 'meet', 'following', 'citizenship', 'citizen', 'united', 'states', 'education', 'doctoral', 'degree', 'psychology', 'graduate', 'program', 'psychology', 'accredited', 'american', 'psychological', 'association', 'apa', 'psychological', 'clinical', 'science', 'accreditation', 'system', 'pcsas', 'canadian', 'psychological', 'association', 'cpa', 'time', 'program', 'completed', 'specialty', 'area', 'degree', 'must', 'consistent', 'assignment', 'applicant', 'employed', 'purpose', 'meeting', 'requirement', 'term', 'specialty', 'area', 'refers', 'specific', 'specialty', 'areas', 'recognized', 'accrediting', 'body', 'specific', 'job', 'duties', 'might', 'require', 'special', 'skills', 'currently', 'apa', 'accredits', 'doctoral', 'programs', 'specialty', 'areas', 'clinical', 'psychology', 'counseling', 'psychology', 'school', 'psychology', 'combinations', 'two', 'areas', 'pcsas', 'accredits', 'doctoral', 'programs', 'psychological', 'clinical', 'science', 'cpa', 'accredits', 'doctoral', 'programs', 'clinical', 'psychology', 'counseling', 'psychology', 'clinical', 'neuropsychology', 'school', 'psychology', 'job', 'assignments', 'vha', 'require', 'skills', 'school', 'psychologist', 'therefore', 'applicant', 'degree', 'specialty', 'area', 'school', 'psychology', 'eligible', 'appointment', 'strictly', 'purpose', 'determining', 'eligibility', 'appointment', 'psychologist', 'vha', 'distinction', 'specialty', 'areas', 'exception', 'school', 'psychology', 'doctoral', 'degree', 'area', 'psychology', 'addition', 'successfully', 'complete', 'respecialization', 'program', 'including', 'documentation', 'approved', 'internship', 'completed', 'part', 'respecialization', 'program', 'meeting', 'following', 'conditions', 'respecialization', 'program', 'must', 'completed', 'apa', 'cpa', 'accredited', 'doctoral', 'program', 'applicant', 'employed', 'note', 'applicant', 'must', 'provide', 'official', 'transcript', 'andor', 'certificate', 'documenting', 'completion', 'respecialization', 'program', 'includes', 'completion', 'apa', 'cpa', 'internship', 'psychologists', 'successfully', 'completed', 'respecialization', 'program', 'described', 'employed', 'department', 'veterans', 'affairs', 'prior', 'implementation', 'standard', 'considered', 'fully', 'met', 'educational', 'requirements', 'qualification', 'standards', 'doctoral', 'degree', 'awarded', 'regionallyaccredited', 'institution', 'dissertation', 'primarily', 'psychological', 'nature', 'internships', 'successfully', 'completed', 'professional', 'psychology', 'internship', 'training', 'program', 'accredited', 'apa', 'cpa', 'time', 'program', 'completed', 'consistent', 'assignment', 'applicant', 'employed', 'new', 'vha', 'psychology', 'internship', 'programs', 'process', 'applying', 'apa', 'accreditation', 'acceptable', 'fulfillment', 'internship', 'requirement', 'provided', 'programs', 'sanctioned', 'vha', 'central', 'office', 'program', 'director', 'psychology', 'vha', 'office', 'academic', 'affiliations', 'time', 'individual', 'intern', 'vha', 'facilities', 'offered', 'fulltime', 'oneyear', 'predoctoral', 'internships', 'prior', 'pl', 'pre', 'considered', 'acceptable', 'fulfillment', 'internship', 'requirement', 'applicants', 'completed', 'internship', 'accredited', 'apa', 'cpa', 'time', 'program', 'completed', 'may', 'considered', 'eligible', 'hire', 'currently', 'board', 'certified', 'american', 'board', 'professional', 'psychology', 'specialty', 'area', 'consistent', 'assignment', 'applicant', 'employed', 'note', 'board', 'certified', 'employee', 'required', 'maintain', 'board', 'certification', 'applicants', 'doctoral', 'degree', 'awarded', 'regionallyaccredited', 'institution', 'dissertation', 'primarily', 'psychological', 'nature', 'may', 'fulfill', 'internship', 'requirement', 'equivalent', 'oneyear', 'supervised', 'internship', 'experience', 'site', 'specifically', 'acceptable', 'candidates', 'doctoral', 'program', 'internship', 'experience', 'noted', 'applicants', 'official', 'transcript', 'applicant', 'must', 'provide', 'statement', 'doctoral', 'program', 'verifying', 'equivalent', 'oneyear', 'supervised', 'internship', 'experience', 'completed', 'site', 'acceptable', 'doctoral', 'program', 'licensure', 'hold', 'full', 'current', 'unrestricted', 'license', 'practice', 'psychology', 'doctoral', 'level', 'state', 'territory', 'commonwealth', 'united', 'states', 'district', 'columbia', 'loss', 'credential', 'psychologist', 'fails', 'maintain', 'required', 'licensure', 'must', 'removed', 'occupation', 'may', 'result', 'termination', 'employment', 'discretion', 'appointing', 'official', 'employee', 'may', 'reassigned', 'another', 'occupation', 'qualified', 'placement', 'opportunity', 'exists', 'board', 'certification', 'loss', 'credential', 'board', 'certification', 'persons', 'hired', 'psychology', 'positions', 'vha', 'completed', 'internship', 'accredited', 'time', 'program', 'completed', 'must', 'board', 'certified', 'american', 'board', 'professional', 'psychology', 'specialty', 'area', 'consistent', 'assignment', 'applicant', 'employed', 'board', 'certificate', 'must', 'current', 'applicant', 'must', 'abide', 'certifying', 'bodys', 'requirement', 'continuing', 'education', 'loss', 'credential', 'board', 'certified', 'psychologist', 'must', 'maintain', 'full', 'valid', 'unrestricted', 'board', 'certification', 'remain', 'qualified', 'employment', 'psychologist', 'fails', 'maintain', 'required', 'board', 'certification', 'must', 'removed', 'occupation', 'may', 'result', 'termination', 'employment', 'discretion', 'appointing', 'official', 'employee', 'may', 'reassigned', 'another', 'occupation', 'qualified', 'placement', 'opportunity', 'exists', 'english', 'language', 'proficiency', 'candidates', 'must', 'proficient', 'spoken', 'written', 'english', 'appointed', 'authorized', 'usc', 'f', 'physical', 'requirements', 'see', 'va', 'directive', 'handbook', 'preferred', 'experience', 'experience', 'empiricallybased', 'treatment', 'substance', 'use', 'disorders', 'common', 'comorbidities', 'including', 'ptsd', 'interestexperience', 'supervision', 'training', 'experience', 'research', 'andor', 'program', 'evaluation', 'quality', 'improvement', 'activities', 'grade', 'requirements', 'addition', 'basic', 'requirements', 'employment', 'following', 'criteria', 'must', 'met', 'determining', 'grade', 'candidates', 'current', 'professional', 'psychology', 'practice', 'creditable', 'psychological', 'work', 'experience', 'obtained', 'paid', 'nonpaid', 'employment', 'providing', 'psychological', 'work', 'participating', 'supervised', 'postdoctoral', 'psychology', 'training', 'program', 'ie', 'fellowship', 'residency', 'psychological', 'work', 'experience', 'must', 'occurred', 'doctoral', 'degree', 'obtained', 'must', 'required', 'use', 'knowledge', 'skills', 'abilities', 'characteristics', 'associated', 'current', 'professional', 'psychology', 'practice', 'professional', 'psychology', 'practice', 'includes', 'limited', 'following', 'psychologyoriented', 'job', 'duties', 'providing', 'professional', 'clinical', 'services', 'conducting', 'research', 'carrying', 'education', 'training', 'activities', 'carrying', 'program', 'evaluation', 'activities', 'clinical', 'consultation', 'supervision', 'administration', 'education', 'quality', 'experience', 'experience', 'creditable', 'postdoctoral', 'experience', 'professional', 'psychologist', 'directly', 'related', 'duties', 'performed', 'qualifying', 'experience', 'must', 'also', 'level', 'comparable', 'exceeding', 'professional', 'psychology', 'experience', 'next', 'lower', 'level', 'parttime', 'experience', 'parttime', 'experience', 'creditable', 'according', 'relationship', 'fulltime', 'workweek', 'example', 'psychologist', 'employed', 'hours', 'per', 'week', 'half', 'time', 'basis', 'receive', 'one', 'fulltime', 'workweek', 'credit', 'two', 'weeks', 'service', 'postdoctoral', 'degree', 'fellowships', 'postdoctoral', 'fellowships', 'residencies', 'training', 'programs', 'advanced', 'area', 'clinical', 'practice', 'training', 'fellow', 'resident', 'considered', 'creditable', 'experience', 'yearforyear', 'basis', 'grade', 'determinations', 'addition', 'basic', 'requirements', 'employment', 'following', 'criteria', 'must', 'met', 'determining', 'grade', 'candidates', 'staff', 'psychologist', 'gs', 'entry', 'level', 'experience', 'none', 'beyond', 'basic', 'requirements', 'assignment', 'staff', 'psychologists', 'level', 'diagnose', 'mental', 'disorders', 'conduct', 'psychological', 'neuropsychological', 'assessments', 'treat', 'mental', 'disorders', 'variety', 'modalities', 'provide', 'adjunctive', 'interventions', 'treatment', 'medical', 'disorders', 'may', 'conduct', 'research', 'may', 'assigned', 'program', 'area', 'psychologists', 'licensed', 'must', 'practice', 'close', 'supervision', 'licensed', 'psychologist', 'staff', 'psychologist', 'gs', 'developmental', 'level', 'experience', 'least', 'one', 'year', 'experience', 'professional', 'psychologist', 'equivalent', 'next', 'lower', 'grade', 'level', 'gs', 'psychologists', 'licensed', 'must', 'practice', 'supervision', 'licensed', 'psychologist', 'less', 'intense', 'supervision', 'gs', 'grade', 'level', 'b', 'demonstrated', 'knowledge', 'skills', 'abilities', 'addition', 'experience', 'candidate', 'must', 'demonstrate', 'following', 'ksas', 'knowledge', 'ability', 'apply', 'wide', 'range', 'professional', 'psychological', 'treatments', 'assessment', 'methods', 'variety', 'patient', 'populations', 'ability', 'design', 'implement', 'effective', 'treatment', 'strategies', 'ability', 'incorporate', 'new', 'clinical', 'procedures', 'ability', 'conduct', 'research', 'activities', 'designing', 'implementing', 'clinical', 'research', 'projects', 'staff', 'psychologists', 'specified', 'research', 'job', 'duties', 'ability', 'perform', 'basic', 'research', 'tasks', 'scholarship', 'research', 'execution', 'within', 'context', 'established', 'research', 'team', 'including', 'research', 'participant', 'relations', 'research', 'documentation', 'data', 'acquisition', 'maintenance', 'collaboration', 'assignment', 'staff', 'psychologists', 'level', 'diagnose', 'mental', 'disorders', 'conduct', 'psychological', 'neuropsychological', 'assessments', 'treat', 'mental', 'disorders', 'variety', 'modalities', 'provide', 'adjunctive', 'interventions', 'treatment', 'medical', 'disorders', 'may', 'conduct', 'research', 'may', 'assigned', 'program', 'area', 'staff', 'psychologist', 'gs', 'full', 'performance', 'level', 'experience', 'least', 'two', 'years', 'experience', 'professional', 'psychologist', 'least', 'one', 'year', 'equivalent', 'gs', 'grade', 'level', 'demonstrated', 'knowledge', 'skills', 'abilities', 'addition', 'experience', 'candidate', 'must', 'demonstrate', 'following', 'ksas', 'knowledge', 'ability', 'apply', 'professional', 'psychological', 'treatments', 'full', 'range', 'patient', 'populations', 'ability', 'provide', 'professional', 'advice', 'consultation', 'areas', 'related', 'professional', 'psychology', 'behavioral', 'health', 'knowledge', 'clinical', 'research', 'literature', 'assignment', 'full', 'performance', 'level', 'staff', 'psychologists', 'level', 'psychologists', 'licensed', 'practice', 'independently', 'provision', 'psychological', 'services', 'consulting', 'peers', 'supervisors', 'appropriate', 'may', 'assigned', 'vha', 'program', 'setting', 'inpatient', 'outpatient', 'medicine', 'primary', 'care', 'surgery', 'mental', 'health', 'neurology', 'rehabilitation', 'medicine', 'geriatrics', 'compensation', 'pension', 'vet', 'centers', 'vha', 'national', 'center', 'organization', 'development', 'psychologists', 'diagnose', 'mental', 'disorders', 'conduct', 'psychological', 'neuropsychological', 'assessments', 'treat', 'mental', 'disorders', 'variety', 'modalities', 'provide', 'adjunctive', 'interventions', 'treatment', 'medical', 'disorders', 'among', 'modalities', 'provided', 'individual', 'family', 'group', 'psychotherapies', 'interventions', 'behavioral', 'health', 'community', 'interventions', 'psychologists', 'consult', 'medical', 'center', 'staff', 'wide', 'variety', 'patient', 'care', 'issues', 'staff', 'psychologists', 'may', 'involved', 'program', 'evaluation', 'teaching', 'training', 'research', 'activities', 'references', 'va', 'handbook', 'part', 'ii', 'appendix', 'g', 'full', 'performance', 'level', 'vacancy', 'gs', 'physical', 'requirements', 'must', 'overall', 'good', 'health', 'able', 'sit', 'desk', 'working', 'computer', 'engage', 'light', 'moderate', 'physical', 'activity', 'including', 'sitting', 'walking', 'bending', 'carrying', 'supplies', 'work', 'primarily', 'sedentary', 'although', 'slight', 'physical', 'effort', 'may', 'required', 'important', 'transcript', 'must', 'submitted', 'application', 'basing', 'part', 'qualifications', 'education', 'note', 'education', 'degrees', 'recognized', 'us', 'department', 'education', 'accredited', 'colleges', 'universities', 'schools', 'institutions', 'may', 'used', 'qualify', 'federal', 'employment', 'verify', 'education', 'using', 'foreign', 'education', 'meet', 'qualification', 'requirements', 'must', 'send', 'certificate', 'foreign', 'equivalency', 'transcript', 'order', 'receive', 'credit', 'education', 'information', 'visit', 'additional', 'information', 'receiving', 'service', 'credit', 'earning', 'annual', 'vacation', 'leave', 'federal', 'employees', 'earn', 'annual', 'leave', 'rate', 'hours', 'per', 'pay', 'period', 'based', 'number', 'years', 'served', 'federal', 'employee', 'selected', 'applicants', 'may', 'qualify', 'credit', 'toward', 'annual', 'leave', 'accrual', 'based', 'prior', 'work', 'experience', 'military', 'service', 'experience', 'credited', 'service', 'used', 'determining', 'rate', 'earn', 'annual', 'leave', 'credit', 'must', 'requested', 'approved', 'prior', 'appointment', 'date', 'guaranteed', 'job', 'opportunity', 'announcement', 'may', 'used', 'fill', 'additional', 'vacancies', 'position', 'excepted', 'service', 'confer', 'competitive', 'status', 'va', 'encourages', 'persons', 'disabilities', 'apply', 'healthrelated', 'positions', 'va', 'covered', 'title', 'covered', 'schedule', 'excepted', 'appointment', 'authority', 'pursuant', 'vha', 'directive', 'vha', 'health', 'care', 'personnel', 'hcp', 'required', 'fully', 'vaccinated', 'covid', 'subject', 'accommodations', 'required', 'law', 'ie', 'medical', 'religious', 'pregnancy', 'vha', 'hcps', 'include', 'remote', 'workers', 'infrequently', 'enter', 'vha', 'locations', 'selected', 'required', 'fully', 'vaccinated', 'covid', 'submit', 'documentation', 'proof', 'vaccination', 'start', 'date', 'agency', 'provide', 'additional', 'information', 'regarding', 'information', 'documentation', 'needed', 'request', 'legally', 'required', 'accommodation', 'requirement', 'using', 'reasonable', 'accommodation', 'process', 'unable', 'apply', 'online', 'need', 'alternate', 'method', 'submit', 'documents', 'please', 'reach', 'agency', 'contact', 'listed', 'job', 'opportunity', 'announcement', 'read', 'help', 'career', 'us', 'government', 'provides', 'employees', 'comprehensive', 'benefits', 'package', 'federal', 'employee', 'family', 'access', 'range', 'benefits', 'designed', 'make', 'federal', 'career', 'rewarding', 'opens', 'new', 'windowlearn', 'federal', 'benefits', 'review', 'benefits', 'eligibility', 'benefits', 'depends', 'type', 'position', 'hold', 'whether', 'position', 'fulltime', 'parttime', 'intermittent', 'contact', 'hiring', 'agency', 'information', 'specific', 'benefits', 'offered', 'va', 'boston', 'healthcare', 'system', 'belmont', 'street', 'brockton', 'ma', 'us', 'show', 'show', 'less'])]\n",
            "Type of txt: <class 'list'>\n",
            "Length of txt: 1876\n",
            "Fourth character in txt: education\n"
          ]
        }
      ],
      "source": [
        "txt5 = analyze_text_by_id(Job_df2, 3284)"
      ]
    },
    {
      "cell_type": "code",
      "execution_count": 77,
      "metadata": {
        "colab": {
          "base_uri": "https://localhost:8080/"
        },
        "id": "DfLHNPgd8NW6",
        "outputId": "af1d6e9a-48b3-4db8-c51c-4f945baa4fdb"
      },
      "outputs": [
        {
          "name": "stdout",
          "output_type": "stream",
          "text": [
            "[Row(Id=4955, Tokens stopwords removed=['summary', 'position', 'eligible', 'education', 'debt', 'reduction', 'program', 'edrp', 'student', 'loan', 'payment', 'reimbursement', 'program', 'must', 'meet', 'specific', 'individual', 'eligibility', 'requirements', 'accordance', 'vha', 'policy', 'submit', 'edrp', 'application', 'within', 'four', 'months', 'appointment', 'approval', 'award', 'amount', 'eligibility', 'period', 'one', 'five', 'years', 'determined', 'vha', 'education', 'loan', 'repayment', 'services', 'program', 'office', 'complete', 'review', 'edrp', 'application', 'learn', 'agency', 'help', 'duties', 'open', 'continuous', 'announcement', 'remain', 'open', 'april', 'initial', 'cutoff', 'date', 'referral', 'eligible', 'applications', 'february', 'eligible', 'applications', 'received', 'date', 'referred', 'regular', 'intervals', 'additional', 'vacancies', 'occur', 'asneeded', 'basis', 'position', 'filled', 'relocationrecruitment', 'incentives', 'authorized', 'duties', 'include', 'limited', 'works', 'part', 'multidisciplinary', 'team', 'within', 'bhip', 'providing', 'various', 'assessment', 'therapy', 'rehabilitative', 'services', 'veterans', 'wide', 'range', 'mental', 'behavioral', 'health', 'diagnoses', 'symptoms', 'provides', 'full', 'range', 'psychodiagnostic', 'services', 'including', 'limited', 'comprehensive', 'psychological', 'assessments', 'psychological', 'testing', 'interpretation', 'use', 'appropriate', 'psychotherapeutic', 'techniques', 'provide', 'quality', 'care', 'wide', 'range', 'patient', 'populations', 'including', 'specific', 'patient', 'populations', 'provides', 'assessment', 'treatment', 'services', 'full', 'continuum', 'clinical', 'settings', 'modalities', 'include', 'individual', 'group', 'couplesfamily', 'therapy', 'video', 'telehealth', 'telephonic', 'facetoface', 'care', 'formats', 'makes', 'use', 'evidencebased', 'treatments', 'full', 'range', 'patient', 'populations', 'psychiatric', 'conditions', 'covered', 'diagnostic', 'statistical', 'manual', 'th', 'edition', 'dsmv', 'develops', 'implements', 'documents', 'psychotherapeutic', 'treatment', 'plan', 'assigned', 'caseload', 'patients', 'computerized', 'patient', 'record', 'system', 'cprs', 'participates', 'treatment', 'team', 'meetings', 'patients', 'interdisciplinary', 'staff', 'recommend', 'review', 'treatment', 'plans', 'provides', 'education', 'patients', 'family', 'members', 'significant', 'others', 'needed', 'provides', 'consultation', 'advise', 'professional', 'staff', 'within', 'bhip', 'team', 'bhip', 'program', 'mental', 'health', 'service', 'savahcs', 'community', 'providers', 'concerning', 'clinical', 'assessment', 'findings', 'appropriate', 'treatment', 'plans', 'patients', 'patient', 'care', 'issues', 'responsible', 'timely', 'completion', 'clinical', 'reminders', 'consults', 'return', 'clinic', 'orders', 'open', 'encounters', 'documentation', 'secure', 'messages', 'patient', 'correspondence', 'clinicaladministrative', 'requirements', 'required', 'mhs', 'medical', 'center', 'healthcare', 'system', 'andor', 'va', 'returns', 'patient', 'phone', 'calls', 'provides', 'guidance', 'patients', 'treatment', 'options', 'timely', 'manner', 'accomplishes', 'suicide', 'risk', 'screenings', 'risk', 'assessments', 'safety', 'plans', 'behavior', 'reports', 'processes', 'relevant', 'suicide', 'prevention', 'standards', 'provides', 'case', 'management', 'identified', 'populations', 'indicated', 'functions', 'independently', 'member', 'savahcs', 'medical', 'staff', 'full', 'clinical', 'privileges', 'requested', 'approved', 'credentialing', 'process', 'assumes', 'complete', 'professional', 'responsibility', 'hisher', 'clinical', 'assessment', 'findings', 'patient', 'care', 'decisions', 'documentation', 'provides', 'psychotherapy', 'andor', 'psychological', 'assessments', 'include', 'psychological', 'testing', 'programs', 'mental', 'health', 'service', 'necessary', 'preferred', 'experience', 'experience', 'providing', 'timelimited', 'evidencebased', 'psychotherapy', 'diagnosing', 'mental', 'health', 'disorders', 'working', 'veterans', 'andor', 'military', 'populations', 'experience', 'training', 'family', 'therapy', 'work', 'schedule', 'monday', 'friday', 'pmmonday', 'friday', 'pm', 'work', 'schedule', 'may', 'adjusted', 'meet', 'needs', 'service', 'telework', 'may', 'considered', 'highly', 'qualified', 'candidates', 'initial', 'days', 'employment', 'met', 'virtual', 'virtual', 'position', 'position', 'titlefunctional', 'statement', 'relocationrecruitment', 'incentives', 'authorized', 'edrp', 'authorized', 'contact', 'visnhreducationreimbursementteamvagov', 'questionsassistance', 'learn', 'permanent', 'change', 'station', 'pcs', 'notauthorized', 'fi', 'nancial', 'disclosure', 'report', 'required', 'help', 'requirements', 'conditions', 'employment', 'must', 'us', 'citizen', 'apply', 'job', 'applicants', 'tentatively', 'selected', 'va', 'employment', 'testing', 'designated', 'position', 'subject', 'urinalysis', 'screen', 'illegal', 'drug', 'use', 'prior', 'appointment', 'applicants', 'refuse', 'tested', 'denied', 'employment', 'va', 'selective', 'service', 'registration', 'required', 'males', 'born', 'must', 'proficient', 'written', 'spoken', 'english', 'may', 'required', 'serve', 'probationary', 'period', 'subject', 'backgroundsecurity', 'investigation', 'selected', 'applicants', 'required', 'complete', 'online', 'onboarding', 'process', 'participation', 'seasonal', 'influenza', 'vaccination', 'program', 'requirement', 'department', 'veterans', 'affairs', 'health', 'care', 'personnel', 'hcp', 'participation', 'coronavirus', 'disease', 'covid', 'vaccination', 'program', 'requirement', 'veterans', 'health', 'administration', 'health', 'care', 'personnel', 'hcp', 'see', 'additional', 'information', 'details', 'qualifications', 'applicants', 'pending', 'completion', 'educational', 'certificationlicensure', 'requirements', 'may', 'referred', 'tentatively', 'selected', 'may', 'hired', 'requirements', 'met', 'basic', 'requirements', 'united', 'states', 'citizenship', 'noncitizens', 'may', 'appointed', 'possible', 'recruit', 'qualified', 'citizens', 'accordance', 'va', 'policy', 'education', 'doctoral', 'degree', 'psychology', 'graduate', 'program', 'psychology', 'accredited', 'american', 'psychological', 'association', 'apa', 'psychological', 'clinical', 'science', 'accreditation', 'system', 'pcsas', 'canadian', 'psychological', 'association', 'cpa', 'time', 'program', 'completed', 'specialty', 'area', 'degree', 'must', 'consistent', 'assignment', 'applicant', 'employed', 'purpose', 'meeting', 'requirement', 'term', 'specialty', 'area', 'refers', 'specific', 'specialty', 'areas', 'recognized', 'accrediting', 'body', 'specific', 'job', 'duties', 'might', 'require', 'special', 'skills', 'currently', 'apa', 'accredits', 'doctoral', 'programs', 'specialty', 'areas', 'clinical', 'psychology', 'counseling', 'psychology', 'school', 'psychology', 'combinations', 'two', 'areas', 'pcsas', 'accredits', 'doctoral', 'programs', 'psychological', 'clinical', 'science', 'cpa', 'accredits', 'doctoral', 'programs', 'clinical', 'psychology', 'counseling', 'psychology', 'clinical', 'neuropsychology', 'school', 'psychology', 'job', 'assignments', 'vha', 'require', 'skills', 'school', 'psychologist', 'therefore', 'applicant', 'degree', 'specialty', 'area', 'school', 'psychology', 'eligible', 'appointment', 'strictly', 'purpose', 'determining', 'eligibility', 'appointment', 'psychologist', 'vha', 'distinction', 'specialty', 'areas', 'exception', 'school', 'psychology', 'doctoral', 'degree', 'area', 'psychology', 'addition', 'successfully', 'complete', 'respecialization', 'program', 'including', 'documentation', 'approved', 'internship', 'completed', 'part', 'respecialization', 'program', 'meeting', 'following', 'conditions', 'respecialization', 'program', 'must', 'completed', 'apa', 'cpa', 'accredited', 'doctoral', 'program', 'b', 'specialty', 'applicant', 'retrained', 'must', 'consistent', 'assignment', 'applicant', 'employed', 'doctoral', 'degree', 'awarded', 'regionallyaccredited', 'institution', 'dissertation', 'primarily', 'psychological', 'nature', 'internships', 'successfully', 'completed', 'professional', 'psychology', 'internship', 'training', 'program', 'accredited', 'apa', 'cpa', 'time', 'program', 'completed', 'consistent', 'assignment', 'applicant', 'employed', 'b', 'new', 'vha', 'psychology', 'internship', 'programs', 'process', 'applying', 'apa', 'accreditation', 'acceptable', 'fulfillment', 'internship', 'requirement', 'provided', 'programs', 'sanctioned', 'vha', 'central', 'office', 'program', 'director', 'psychology', 'vha', 'office', 'academic', 'affiliations', 'time', 'individual', 'intern', 'c', 'vha', 'facilities', 'offered', 'fulltime', 'oneyear', 'predoctoral', 'internships', 'prior', 'pl', 'pre', 'considered', 'acceptable', 'fulfillment', 'internship', 'requirement', 'd', 'applicants', 'completed', 'internship', 'accredited', 'apa', 'cpa', 'time', 'program', 'completed', 'may', 'considered', 'eligible', 'hire', 'currently', 'board', 'certified', 'american', 'board', 'professional', 'psychology', 'specialty', 'area', 'consistent', 'assignment', 'applicant', 'employed', 'note', 'board', 'certified', 'employee', 'required', 'maintain', 'board', 'certification', 'e', 'applicants', 'doctoral', 'degree', 'awarded', 'regionally', 'accredited', 'institution', 'dissertation', 'primarily', 'psychological', 'nature', 'may', 'fulfill', 'internship', 'requirement', 'equivalent', 'oneyear', 'supervised', 'internship', 'experience', 'site', 'specifically', 'acceptable', 'candidates', 'doctoral', 'program', 'internship', 'experience', 'noted', 'applicants', 'official', 'transcript', 'applicant', 'must', 'provide', 'statement', 'doctoral', 'program', 'verifying', 'equivalent', 'oneyear', 'supervised', 'internship', 'experience', 'completed', 'site', 'acceptable', 'doctoral', 'program', 'licensure', 'hold', 'full', 'current', 'unrestricted', 'license', 'practice', 'psychology', 'doctoral', 'level', 'state', 'territory', 'commonwealth', 'united', 'states', 'district', 'columbia', 'english', 'language', 'proficiency', 'psychologists', 'must', 'proficient', 'spoken', 'written', 'english', 'accordance', 'va', 'handbook', 'part', 'ii', 'chapter', 'section', 'paragraph', 'j', 'may', 'qualify', 'based', 'covered', 'grandfathering', 'provision', 'described', 'va', 'qualification', 'standard', 'occupation', 'applicable', 'current', 'vha', 'employees', 'occupation', 'meet', 'criteria', 'grade', 'determinations', 'staff', 'psychologist', 'gs', 'entry', 'level', 'experience', 'none', 'beyond', 'basic', 'requirements', 'staff', 'psychologist', 'gs', 'developmental', 'level', 'experience', 'least', 'one', 'year', 'experience', 'professional', 'psychologist', 'equivalent', 'next', 'lower', 'grade', 'level', 'gs', 'psychologists', 'licensed', 'must', 'practice', 'supervision', 'licensed', 'psychologist', 'less', 'intense', 'supervision', 'gs', 'grade', 'level', 'demonstrated', 'knowledge', 'skills', 'abilities', 'addition', 'experience', 'candidate', 'must', 'demonstrate', 'following', 'ksas', 'knowledge', 'ability', 'apply', 'wide', 'range', 'professional', 'psychological', 'treatments', 'assessment', 'methods', 'variety', 'patient', 'populations', 'ability', 'design', 'implement', 'effective', 'treatment', 'strategies', 'ability', 'incorporate', 'new', 'clinical', 'procedures', 'ability', 'conduct', 'research', 'activities', 'designing', 'implementing', 'clinical', 'research', 'projects', 'staff', 'psychologists', 'specified', 'research', 'job', 'duties', 'ability', 'perform', 'basic', 'research', 'tasks', 'scholarship', 'research', 'execution', 'within', 'context', 'established', 'research', 'team', 'including', 'research', 'participant', 'relations', 'research', 'documentation', 'data', 'acquisition', 'maintenance', 'collaboration', 'staff', 'psychologist', 'gs', 'full', 'performance', 'level', 'experience', 'least', 'two', 'years', 'experience', 'professional', 'psychologist', 'least', 'one', 'year', 'equivalent', 'gs', 'grade', 'level', 'demonstrated', 'knowledge', 'skills', 'abilities', 'addition', 'experience', 'candidate', 'must', 'demonstrate', 'following', 'ksas', 'knowledge', 'ability', 'apply', 'professional', 'psychological', 'treatments', 'full', 'range', 'patient', 'populations', 'ability', 'provide', 'professional', 'advice', 'consultation', 'areas', 'related', 'professional', 'psychology', 'behavioral', 'health', 'knowledge', 'clinical', 'research', 'literature', 'preferred', 'experience', 'training', 'andor', 'certification', 'evidencebased', 'practice', 'psychotherapy', 'protocols', 'references', 'va', 'handbook', 'part', 'ii', 'appendix', 'g', 'psychologist', 'qualification', 'standards', 'gs', 'veterans', 'health', 'administration', 'full', 'performance', 'level', 'vacancy', 'gs', 'actual', 'grade', 'applicant', 'may', 'selected', 'vacancy', 'range', 'gs', 'gs', 'physical', 'requirements', 'work', 'primarily', 'sedentary', 'prolonged', 'periods', 'sitting', 'work', 'requires', 'moderate', 'lifting', 'carrying', 'pushing', 'standing', 'reaching', 'shoulder', 'use', 'fingers', 'ability', 'read', 'without', 'strain', 'ability', 'hear', 'whispered', 'voice', 'without', 'hearing', 'aid', 'emotional', 'mental', 'stability', 'education', 'important', 'transcript', 'must', 'submitted', 'application', 'basing', 'part', 'qualifications', 'education', 'note', 'education', 'degrees', 'recognized', 'us', 'department', 'education', 'accredited', 'colleges', 'universities', 'schools', 'institutions', 'may', 'used', 'qualify', 'federal', 'employment', 'verify', 'education', 'using', 'foreign', 'education', 'meet', 'qualification', 'requirements', 'must', 'send', 'certificate', 'foreign', 'equivalency', 'transcript', 'order', 'receive', 'credit', 'education', 'information', 'visit', 'additional', 'information', 'receiving', 'service', 'credit', 'earning', 'annual', 'vacation', 'leave', 'federal', 'employees', 'earn', 'annual', 'leave', 'rate', 'hours', 'per', 'pay', 'period', 'based', 'number', 'years', 'served', 'federal', 'employee', 'selected', 'applicants', 'may', 'qualify', 'credit', 'toward', 'annual', 'leave', 'accrual', 'based', 'prior', 'work', 'experience', 'military', 'service', 'experience', 'credited', 'service', 'used', 'determining', 'rate', 'earn', 'annual', 'leave', 'credit', 'must', 'requested', 'approved', 'prior', 'appointment', 'date', 'guaranteed', 'job', 'opportunity', 'announcement', 'may', 'used', 'fill', 'additional', 'vacancies', 'position', 'excepted', 'service', 'confer', 'competitive', 'status', 'va', 'encourages', 'persons', 'disabilities', 'apply', 'healthrelated', 'positions', 'va', 'covered', 'title', 'covered', 'schedule', 'excepted', 'appointment', 'authority', 'pursuant', 'vha', 'directive', 'vha', 'health', 'care', 'personnel', 'hcp', 'required', 'fully', 'vaccinated', 'covid', 'subject', 'accommodations', 'required', 'law', 'ie', 'medical', 'religious', 'pregnancy', 'vha', 'hcps', 'include', 'remote', 'workers', 'infrequently', 'enter', 'vha', 'locations', 'selected', 'required', 'fully', 'vaccinated', 'covid', 'submit', 'documentation', 'proof', 'vaccination', 'start', 'date', 'agency', 'provide', 'additional', 'information', 'regarding', 'information', 'documentation', 'needed', 'request', 'legally', 'required', 'accommodation', 'requirement', 'using', 'reasonable', 'accommodation', 'process', 'unable', 'apply', 'online', 'need', 'alternate', 'method', 'submit', 'documents', 'please', 'reach', 'agency', 'contact', 'listed', 'job', 'opportunity', 'announcement', 'read', 'help', 'career', 'us', 'government', 'provides', 'employees', 'comprehensive', 'benefits', 'package', 'federal', 'employee', 'family', 'access', 'range', 'benefits', 'designed', 'make', 'federal', 'career', 'rewarding', 'opens', 'new', 'windowlearn', 'federal', 'benefits', 'review', 'benefits', 'eligibility', 'benefits', 'depends', 'type', 'position', 'hold', 'whether', 'position', 'fulltime', 'parttime', 'intermittent', 'contact', 'hiring', 'agency', 'information', 'specific', 'benefits', 'offered', 'tucson', 'va', 'medical', 'center', 'south', 'sixth', 'avenue', 'tucson', 'az', 'us', 'show', 'show', 'less'])]\n",
            "Type of txt: <class 'list'>\n",
            "Length of txt: 1387\n",
            "Fourth character in txt: education\n"
          ]
        }
      ],
      "source": [
        "txt6 = analyze_text_by_id(Job_df2, 4955)"
      ]
    },
    {
      "cell_type": "code",
      "execution_count": 78,
      "metadata": {
        "colab": {
          "base_uri": "https://localhost:8080/"
        },
        "id": "THI9u5OA8zKZ",
        "outputId": "52965300-fd6c-4a84-af1e-b9af40317290"
      },
      "outputs": [
        {
          "name": "stdout",
          "output_type": "stream",
          "text": [
            "Number of words in Text_1: 1876\n",
            "Number of words in Text_2: 1387\n",
            "Number of Unique words in Text_1: 718\n",
            "Number of Unique words in Text_2: 634\n",
            "Number of common Uniqe words: 481\n",
            "Percentage of common words in Text_1: 66.99%\n",
            "Percentage of common words in Text_2: 75.87%\n"
          ]
        }
      ],
      "source": [
        "# Comparing number of common words inside Documents with 'ID' number of 3284 & 4955\n",
        "\n",
        "(num_words_list1, num_words_list2, num_unique_words_list1,\n",
        " num_unique_words_list2, num_common_words,\n",
        " percentage_common_list1, percentage_common_list2) = analyze_lists(txt5, txt6)\n",
        "\n",
        "print(f\"Number of words in Text_1: {num_words_list1}\")\n",
        "print(f\"Number of words in Text_2: {num_words_list2}\")\n",
        "print(f\"Number of Unique words in Text_1: {num_unique_words_list1}\")\n",
        "print(f\"Number of Unique words in Text_2: {num_unique_words_list2}\")\n",
        "print(f\"Number of common Uniqe words: {num_common_words}\")\n",
        "print(f\"Percentage of common words in Text_1: {percentage_common_list1:.2f}%\")\n",
        "print(f\"Percentage of common words in Text_2: {percentage_common_list2:.2f}%\")"
      ]
    },
    {
      "cell_type": "code",
      "execution_count": null,
      "metadata": {
        "id": "qFy2-wHaXnsh"
      },
      "outputs": [],
      "source": []
    },
    {
      "cell_type": "markdown",
      "metadata": {
        "id": "NzWOQBVSXzcu"
      },
      "source": [
        "### Comparing the Documents with 'ID' number of 503 & 948, which have Jaccard distance equal to 0.\n",
        "\n"
      ]
    },
    {
      "cell_type": "code",
      "execution_count": 79,
      "metadata": {
        "colab": {
          "base_uri": "https://localhost:8080/"
        },
        "id": "SuYF5xeJXnpn",
        "outputId": "472ef16b-e481-459a-fd10-80e83e874923"
      },
      "outputs": [
        {
          "name": "stdout",
          "output_type": "stream",
          "text": [
            "[Row(Id=503, Tokens stopwords removed=['description', 'restaurant', 'teamshift', 'leaders', 'dual', 'role', 'youll', 'serve', 'restaurant', 'leader', 'team', 'member', 'leader', 'youll', 'work', 'closely', 'restaurant', 'manager', 'ensuring', 'operating', 'procedures', 'followed', 'youll', 'also', 'assist', 'scheduling', 'training', 'supervising', 'team', 'members', 'ensure', 'customer', 'enjoys', 'hot', 'freshlyprepared', 'product', 'using', 'highest', 'quality', 'ingredients', 'served', 'comfortable', 'clean', 'friendly', 'environment', 'whats', 'competitive', 'weekly', 'pay', 'hour', 'schedule', 'flexibility', 'dayeveningovernight', 'shifts', 'discounted', 'meals', 'opportunities', 'career', 'development', 'growth', 'whataburger', 'family', 'foundation', 'scholarship', 'program', 'medical', 'dental', 'vision', 'plans', 'k', 'savings', 'plans', 'whatagames', 'ask', 'us', 'people', 'make', 'difference', 'whataburger', 'take', 'pride', 'work', 'take', 'care', 'love', 'serving', 'customers', 'every', 'day', 'youll', 'learning', 'skills', 'serve', 'well', 'matter', 'career', 'journey', 'leads', 'required', 'qualifications', 'qualifications', 'must', 'least', 'years', 'age', 'high', 'school', 'diplomaged', 'equivalent', 'work', 'experience', 'months', 'experience', 'retail', 'setting', 'driving', 'essential', 'position', 'valid', 'drivers', 'license', 'liability', 'insurance', 'driving', 'record', 'adhering', 'whataburger', 'standards', 'satisfactory', 'background', 'check', 'required', 'solid', 'communication', 'skills', 'ability', 'build', 'maintain', 'effective', 'working', 'relationship', 'management', 'coworkers', 'demonstrated', 'ability', 'work', 'team', 'environment', 'strong', 'leadership', 'skills', 'food', 'safety', 'certification', 'may', 'vary', 'based', 'city', 'county', 'state', 'requirements', 'food', 'handlers', 'certification', 'requirements', 'must', 'able', 'lift', 'lbs', 'must', 'able', 'stand', 'entire', 'shift', 'must', 'able', 'reach', 'bend', 'stoop', 'lift', 'shake', 'stir', 'pour', 'carry', 'push', 'must', 'able', 'read', 'orders', 'tickets', 'menu', 'board', 'receipts', 'etc', 'frequent', 'contactimmersion', 'hands', 'water', 'cleaning', 'sanitation', 'solutions', 'meat', 'products', 'poultry', 'products', 'seafood', 'produce', 'items', 'frequent', 'washing', 'hands', 'must', 'able', 'use', 'computers', 'telephones', 'office', 'equipment', 'job', 'posting', 'contain', 'exhaustive', 'list', 'roles', 'activities', 'requirements', 'efforts', 'working', 'conditions', 'associated', 'position', 'description', 'intended', 'accurate', 'reflection', 'current', 'position', 'whataburger', 'reserves', 'right', 'revise', 'position', 'require', 'different', 'activities', 'performed', 'circumstances', 'change', 'eg', 'emergencies', 'changes', 'personnel', 'workload', 'rush', 'jobs', 'technological', 'developments', 'operational', 'need', 'whataburger', 'burger', 'chain', 'place', 'feels', 'like', 'home', 'employees', 'call', 'family', 'members', 'millions', 'customers', 'take', 'pride', 'work', 'care', 'absolutely', 'love', 'serving', 'customers', 'opportunities', 'limitless', 'bring', 'drive', 'hunger', 'well', 'give', 'tools', 'resources', 'need', 'reach', 'full', 'potential', 'career', 'whataburger', 'make', 'whataburger', 'committed', 'providing', 'equal', 'employment', 'opportunities', 'employees', 'applicants', 'without', 'regard', 'race', 'color', 'religion', 'sex', 'sexual', 'orientation', 'national', 'origin', 'genetic', 'information', 'disability', 'veteran', 'status', 'age', 'condition', 'status', 'protected', 'law', 'whataburger', 'participates', 'federal', 'everify', 'program', 'information', 'go', 'everify', 'registered', 'trademark', 'us', 'department', 'homeland', 'security', 'publish', 'date', 'jan', 'requisition', 'id', 'show', 'show', 'less'])]\n",
            "Type of txt: <class 'list'>\n",
            "Length of txt: 346\n",
            "Fourth character in txt: leaders\n"
          ]
        }
      ],
      "source": [
        "txt3 = analyze_text_by_id(Job_df2, 503)"
      ]
    },
    {
      "cell_type": "code",
      "execution_count": 80,
      "metadata": {
        "colab": {
          "base_uri": "https://localhost:8080/"
        },
        "id": "f8PuUgYzXnmK",
        "outputId": "9d809449-72ea-48c9-e8a7-895577dca965"
      },
      "outputs": [
        {
          "name": "stdout",
          "output_type": "stream",
          "text": [
            "[Row(Id=948, Tokens stopwords removed=['description', 'restaurant', 'teamshift', 'leaders', 'dual', 'role', 'youll', 'serve', 'restaurant', 'leader', 'team', 'member', 'leader', 'youll', 'work', 'closely', 'restaurant', 'manager', 'ensuring', 'operating', 'procedures', 'followed', 'youll', 'also', 'assist', 'scheduling', 'training', 'supervising', 'team', 'members', 'ensure', 'customer', 'enjoys', 'hot', 'freshlyprepared', 'product', 'using', 'highest', 'quality', 'ingredients', 'served', 'comfortable', 'clean', 'friendly', 'environment', 'whats', 'competitive', 'weekly', 'pay', 'hour', 'schedule', 'flexibility', 'dayeveningovernight', 'shifts', 'discounted', 'meals', 'opportunities', 'career', 'development', 'growth', 'whataburger', 'family', 'foundation', 'scholarship', 'program', 'medical', 'dental', 'vision', 'plans', 'k', 'savings', 'plans', 'whatagames', 'ask', 'us', 'people', 'make', 'difference', 'whataburger', 'take', 'pride', 'work', 'take', 'care', 'love', 'serving', 'customers', 'every', 'day', 'youll', 'learning', 'skills', 'serve', 'well', 'matter', 'career', 'journey', 'leads', 'required', 'qualifications', 'qualifications', 'must', 'least', 'years', 'age', 'high', 'school', 'diplomaged', 'equivalent', 'work', 'experience', 'months', 'experience', 'retail', 'setting', 'driving', 'essential', 'position', 'valid', 'drivers', 'license', 'liability', 'insurance', 'driving', 'record', 'adhering', 'whataburger', 'standards', 'satisfactory', 'background', 'check', 'required', 'solid', 'communication', 'skills', 'ability', 'build', 'maintain', 'effective', 'working', 'relationship', 'management', 'coworkers', 'demonstrated', 'ability', 'work', 'team', 'environment', 'strong', 'leadership', 'skills', 'food', 'safety', 'certification', 'may', 'vary', 'based', 'city', 'county', 'state', 'requirements', 'food', 'handlers', 'certification', 'requirements', 'must', 'able', 'lift', 'lbs', 'must', 'able', 'stand', 'entire', 'shift', 'must', 'able', 'reach', 'bend', 'stoop', 'lift', 'shake', 'stir', 'pour', 'carry', 'push', 'must', 'able', 'read', 'orders', 'tickets', 'menu', 'board', 'receipts', 'etc', 'frequent', 'contactimmersion', 'hands', 'water', 'cleaning', 'sanitation', 'solutions', 'meat', 'products', 'poultry', 'products', 'seafood', 'produce', 'items', 'frequent', 'washing', 'hands', 'must', 'able', 'use', 'computers', 'telephones', 'office', 'equipment', 'job', 'posting', 'contain', 'exhaustive', 'list', 'roles', 'activities', 'requirements', 'efforts', 'working', 'conditions', 'associated', 'position', 'description', 'intended', 'accurate', 'reflection', 'current', 'position', 'whataburger', 'reserves', 'right', 'revise', 'position', 'require', 'different', 'activities', 'performed', 'circumstances', 'change', 'eg', 'emergencies', 'changes', 'personnel', 'workload', 'rush', 'jobs', 'technological', 'developments', 'operational', 'need', 'whataburger', 'burger', 'chain', 'place', 'feels', 'like', 'home', 'employees', 'call', 'family', 'members', 'millions', 'customers', 'take', 'pride', 'work', 'care', 'absolutely', 'love', 'serving', 'customers', 'opportunities', 'limitless', 'bring', 'drive', 'hunger', 'well', 'give', 'tools', 'resources', 'need', 'reach', 'full', 'potential', 'career', 'whataburger', 'make', 'whataburger', 'committed', 'providing', 'equal', 'employment', 'opportunities', 'employees', 'applicants', 'without', 'regard', 'race', 'color', 'religion', 'sex', 'sexual', 'orientation', 'national', 'origin', 'genetic', 'information', 'disability', 'veteran', 'status', 'age', 'condition', 'status', 'protected', 'law', 'whataburger', 'participates', 'federal', 'everify', 'program', 'information', 'go', 'everify', 'registered', 'trademark', 'us', 'department', 'homeland', 'security', 'publish', 'date', 'jan', 'requisition', 'id', 'show', 'show', 'less'])]\n",
            "Type of txt: <class 'list'>\n",
            "Length of txt: 346\n",
            "Fourth character in txt: leaders\n"
          ]
        }
      ],
      "source": [
        "txt4 = analyze_text_by_id(Job_df2, 948)"
      ]
    },
    {
      "cell_type": "code",
      "execution_count": 81,
      "metadata": {
        "colab": {
          "base_uri": "https://localhost:8080/"
        },
        "id": "eMilCjeNX6Ax",
        "outputId": "3bd69e58-68fd-4d30-e59d-cb64949098fe"
      },
      "outputs": [
        {
          "name": "stdout",
          "output_type": "stream",
          "text": [
            "Number of words in Text_1: 346\n",
            "Number of words in Text_2: 346\n",
            "Number of Unique words in Text_1: 268\n",
            "Number of Unique words in Text_2: 268\n",
            "Number of common Uniqe words: 268\n",
            "Percentage of common words in Text_1: 100.00%\n",
            "Percentage of common words in Text_2: 100.00%\n"
          ]
        }
      ],
      "source": [
        "# Comparing number of common words inside Documents with 'ID' number of 503 & 948\n",
        "\n",
        "(num_words_list1, num_words_list2, num_unique_words_list1,\n",
        " num_unique_words_list2, num_common_words,\n",
        " percentage_common_list1, percentage_common_list2) = analyze_lists(txt3, txt4)\n",
        "\n",
        "print(f\"Number of words in Text_1: {num_words_list1}\")\n",
        "print(f\"Number of words in Text_2: {num_words_list2}\")\n",
        "print(f\"Number of Unique words in Text_1: {num_unique_words_list1}\")\n",
        "print(f\"Number of Unique words in Text_2: {num_unique_words_list2}\")\n",
        "print(f\"Number of common Uniqe words: {num_common_words}\")\n",
        "print(f\"Percentage of common words in Text_1: {percentage_common_list1:.2f}%\")\n",
        "print(f\"Percentage of common words in Text_2: {percentage_common_list2:.2f}%\")"
      ]
    },
    {
      "cell_type": "markdown",
      "metadata": {
        "id": "FCUJpwLndWX7"
      },
      "source": [
        "## Cheking the Equality of documents:\n",
        "#### Cheking the Equality of documents with ['ID'] number 503 & 948, which they have Jaccard Distance equal to Zero."
      ]
    },
    {
      "cell_type": "code",
      "execution_count": 82,
      "metadata": {
        "colab": {
          "base_uri": "https://localhost:8080/",
          "height": 192
        },
        "id": "NQGDOn0bbt-y",
        "outputId": "92e8aa8d-a057-4b62-c9af-22ea4872b7c8"
      },
      "outputs": [
        {
          "data": {
            "application/vnd.google.colaboratory.intrinsic+json": {
              "type": "string"
            },
            "text/plain": [
              "'description our restaurant teamshift leaders have a dual role youll serve as both a restaurant leader and a team member as a leader youll work closely with the restaurant manager ensuring all operating procedures are followed youll also assist with scheduling training and supervising team members to ensure each customer enjoys a hot freshlyprepared product using the highest quality ingredients served in a comfortable clean friendly environment whats in it for you competitive weekly pay hour schedule flexibility dayeveningovernight shifts discounted meals opportunities for career development and growth whataburger family foundation and scholarship program medical dental and vision plans k savings plans whatagames ask us about this our people make the difference at whataburger we take pride in our work take care of each other and love serving our customers each and every day youll be learning skills that will serve you well no matter where your career journey leads you required qualifications qualifications must be at least years of age high school diplomaged or equivalent work experience months experience in a retail setting driving is essential for this position so a valid drivers license with liability insurance a driving record adhering to whataburger standards and a satisfactory background check is required solid communication skills and the ability to build and maintain an effective working relationship with management and coworkers demonstrated ability to work in a team environment with strong leadership skills food safety certification may vary based on city county and state requirements food handlers certification requirements must be able to lift up to lbs must be able to stand during entire shift must be able to reach bend stoop lift shake stir pour carry and push must be able to read orders on tickets menu board receipts etc frequent contactimmersion of hands in water cleaning and sanitation solutions meat products poultry products seafood and produce items frequent washing of hands must be able to use computers telephones and office equipment this job posting does not contain an exhaustive list of all roles activities requirements efforts or working conditions associated with the position this description is intended to be an accurate reflection of the current position whataburger reserves the right to revise the position or to require that other or different activities be performed when circumstances change eg emergencies changes in personnel or workload rush jobs technological developments or other operational need whataburger is more than a burger chain its a place that feels like home to more than employees who we call family members and millions of customers we take pride in our work we care for each other and absolutely love serving our customers our opportunities are limitless if you bring the drive and a hunger for more well give you the tools and resources you need to reach your full potential your career at whataburger will be what you make of it whataburger is committed to providing equal employment opportunities to all employees and applicants without regard to race color religion sex sexual orientation national origin genetic information disability veteran status age or other condition or status protected by law whataburger participates in the federal everify program for more information go to everify is a registered trademark of the us department of homeland security publish date jan requisition id show more show less'"
            ]
          },
          "execution_count": 82,
          "metadata": {},
          "output_type": "execute_result"
        }
      ],
      "source": [
        "# ID number 503\n",
        "row_with_id_503 = Job_df.filter(Job_df['ID'] == 503).collect()\n",
        "txt = row_with_id_503[0][1:][0]\n",
        "txt"
      ]
    },
    {
      "cell_type": "code",
      "execution_count": 83,
      "metadata": {
        "colab": {
          "base_uri": "https://localhost:8080/",
          "height": 192
        },
        "id": "1QwJ2wR4bt1m",
        "outputId": "2e05a49d-4881-4dee-e8e4-e7575adec6c4"
      },
      "outputs": [
        {
          "data": {
            "application/vnd.google.colaboratory.intrinsic+json": {
              "type": "string"
            },
            "text/plain": [
              "'description our restaurant teamshift leaders have a dual role youll serve as both a restaurant leader and a team member as a leader youll work closely with the restaurant manager ensuring all operating procedures are followed youll also assist with scheduling training and supervising team members to ensure each customer enjoys a hot freshlyprepared product using the highest quality ingredients served in a comfortable clean friendly environment whats in it for you competitive weekly pay hour schedule flexibility dayeveningovernight shifts discounted meals opportunities for career development and growth whataburger family foundation and scholarship program medical dental and vision plans k savings plans whatagames ask us about this our people make the difference at whataburger we take pride in our work take care of each other and love serving our customers each and every day youll be learning skills that will serve you well no matter where your career journey leads you required qualifications qualifications must be at least years of age high school diplomaged or equivalent work experience months experience in a retail setting driving is essential for this position so a valid drivers license with liability insurance a driving record adhering to whataburger standards and a satisfactory background check is required solid communication skills and the ability to build and maintain an effective working relationship with management and coworkers demonstrated ability to work in a team environment with strong leadership skills food safety certification may vary based on city county and state requirements food handlers certification requirements must be able to lift up to lbs must be able to stand during entire shift must be able to reach bend stoop lift shake stir pour carry and push must be able to read orders on tickets menu board receipts etc frequent contactimmersion of hands in water cleaning and sanitation solutions meat products poultry products seafood and produce items frequent washing of hands must be able to use computers telephones and office equipment this job posting does not contain an exhaustive list of all roles activities requirements efforts or working conditions associated with the position this description is intended to be an accurate reflection of the current position whataburger reserves the right to revise the position or to require that other or different activities be performed when circumstances change eg emergencies changes in personnel or workload rush jobs technological developments or other operational need whataburger is more than a burger chain its a place that feels like home to more than employees who we call family members and millions of customers we take pride in our work we care for each other and absolutely love serving our customers our opportunities are limitless if you bring the drive and a hunger for more well give you the tools and resources you need to reach your full potential your career at whataburger will be what you make of it whataburger is committed to providing equal employment opportunities to all employees and applicants without regard to race color religion sex sexual orientation national origin genetic information disability veteran status age or other condition or status protected by law whataburger participates in the federal everify program for more information go to everify is a registered trademark of the us department of homeland security publish date jan requisition id show more show less'"
            ]
          },
          "execution_count": 83,
          "metadata": {},
          "output_type": "execute_result"
        }
      ],
      "source": [
        "# ID number 948\n",
        "row_with_id_948 = Job_df.filter(Job_df['ID'] == 948).collect()\n",
        "txt2 = row_with_id_948[0][1:][0]\n",
        "txt2"
      ]
    },
    {
      "cell_type": "code",
      "execution_count": 84,
      "metadata": {
        "colab": {
          "base_uri": "https://localhost:8080/"
        },
        "id": "TCGTynSJbty7",
        "outputId": "0366a82b-835f-4c63-8cc0-be819339a800"
      },
      "outputs": [
        {
          "name": "stdout",
          "output_type": "stream",
          "text": [
            "Equal\n"
          ]
        }
      ],
      "source": [
        "if txt == txt2:\n",
        "    print('Equal')\n",
        "else:\n",
        "    print('Not Equal')"
      ]
    },
    {
      "cell_type": "code",
      "execution_count": null,
      "metadata": {
        "id": "xtx670NURQmT"
      },
      "outputs": [],
      "source": []
    },
    {
      "cell_type": "markdown",
      "metadata": {
        "id": "qiTorbjyRRD0"
      },
      "source": [
        "### Dence vector"
      ]
    },
    {
      "cell_type": "code",
      "execution_count": 86,
      "metadata": {
        "id": "JybKOhwkRH0s"
      },
      "outputs": [],
      "source": [
        "def shingles_to_one_hot_vector(shingles):\n",
        "    vector = np.zeros(len(unique_shingles))\n",
        "    for sh in shingles:\n",
        "        if sh in shingle_index:\n",
        "            vector[shingle_index[sh]] = 1.0\n",
        "    return Vectors.dense(vector.tolist())\n",
        "\n",
        "# UDF to convert shingles to one-hot vectors\n",
        "one_hot_vector_udf = udf(lambda shingles: shingles_to_one_hot_vector(shingles), VectorUDT())\n",
        "\n",
        "Job_df_proces2 = Job_df_proces.withColumn(\"features_dence\", one_hot_vector_udf(col(\"shingles\")))"
      ]
    },
    {
      "cell_type": "code",
      "execution_count": 88,
      "metadata": {
        "colab": {
          "base_uri": "https://localhost:8080/"
        },
        "id": "ltcJd2N3RZWy",
        "outputId": "a0876576-d785-4ddf-e621-015f7f9715c8"
      },
      "outputs": [
        {
          "name": "stderr",
          "output_type": "stream",
          "text": [
            "IOPub data rate exceeded.\n",
            "The notebook server will temporarily stop sending output\n",
            "to the client in order to avoid crashing it.\n",
            "To change this limit, set the config variable\n",
            "`--NotebookApp.iopub_data_rate_limit`.\n",
            "\n",
            "Current values:\n",
            "NotebookApp.iopub_data_rate_limit=1000000.0 (bytes/sec)\n",
            "NotebookApp.rate_limit_window=3.0 (secs)\n",
            "\n"
          ]
        }
      ],
      "source": [
        "Job_df_proces2.select(\"features_dence\").show(5, truncate=False)"
      ]
    },
    {
      "cell_type": "code",
      "execution_count": 89,
      "metadata": {
        "colab": {
          "base_uri": "https://localhost:8080/"
        },
        "id": "nDsRTvZ7SOmq",
        "outputId": "4c77979c-73d2-4a95-d591-4849208aa845"
      },
      "outputs": [
        {
          "name": "stdout",
          "output_type": "stream",
          "text": [
            "+---+--------------------+--------------------+--------------------+--------------------+\n",
            "| Id|        Cleaned_text|            shingles|            features|      features_dence|\n",
            "+---+--------------------+--------------------+--------------------+--------------------+\n",
            "| 40|job title food se...|[looking musthave...|(558004,[3368,507...|[0.0,0.0,0.0,0.0,...|\n",
            "| 45|responsibilities ...|[logistics system...|(558004,[0,1,2,3,...|[1.0,1.0,1.0,1.0,...|\n",
            "|160|profession regist...|[organizational v...|(558004,[4,5,6,7,...|[0.0,0.0,0.0,0.0,...|\n",
            "+---+--------------------+--------------------+--------------------+--------------------+\n",
            "only showing top 3 rows\n",
            "\n"
          ]
        }
      ],
      "source": [
        "Job_df_proces2.show(3)"
      ]
    },
    {
      "cell_type": "code",
      "execution_count": 90,
      "metadata": {
        "colab": {
          "base_uri": "https://localhost:8080/"
        },
        "id": "1NhpoHKKRaAV",
        "outputId": "9d49cfac-e2f5-4b56-fdba-ed13ffe70372"
      },
      "outputs": [
        {
          "name": "stdout",
          "output_type": "stream",
          "text": [
            "The hashed dataset where hashed values are stored in the column 'hashes':\n",
            "Computation time: 17.329 seconds\n",
            "------------------------------------\n"
          ]
        }
      ],
      "source": [
        "start = time.time()\n",
        "\n",
        "# Initialize MinHashLSH\n",
        "mh = MinHashLSH(inputCol=\"features_dence\", outputCol=\"hashes\", seed=12345, numHashTables=20)\n",
        "model = mh.fit(Job_df_proces2)\n",
        "print(\"The hashed dataset where hashed values are stored in the column 'hashes':\")\n",
        "hash = model.transform(Job_df_proces2)\n",
        "\n",
        "# Compute the locality sensitive hashes for the input rows, then perform approximate\n",
        "# similarity join to Calculate Jaccard Distances.\n",
        "result = model.approxSimilarityJoin(hash, hash, 0.6, distCol=\"JaccardDistance\").select(\n",
        "    col(\"datasetA.id\").alias(\"idA\"),\n",
        "    col(\"datasetB.id\").alias(\"idB\"),\n",
        "    col(\"JaccardDistance\")\n",
        ")\n",
        "\n",
        "# Filter out self-pairs and display the results\n",
        "result_filtered = result.filter(col(\"idA\") < col(\"idB\"))\n",
        "\n",
        "end = time.time()\n",
        "computation_time = round(end - start, 3)\n",
        "print(\"Computation time: {} seconds\".format(computation_time))\n",
        "\n",
        "print('------------------------------------')"
      ]
    },
    {
      "cell_type": "markdown",
      "metadata": {
        "id": "f_DtZu7-Tx5o"
      },
      "source": []
    }
  ],
  "metadata": {
    "colab": {
      "provenance": []
    },
    "kernelspec": {
      "display_name": "Python 3",
      "name": "python3"
    },
    "language_info": {
      "codemirror_mode": {
        "name": "ipython",
        "version": 3
      },
      "file_extension": ".py",
      "mimetype": "text/x-python",
      "name": "python",
      "nbconvert_exporter": "python",
      "pygments_lexer": "ipython3",
      "version": "3.9.18"
    }
  },
  "nbformat": 4,
  "nbformat_minor": 0
}
